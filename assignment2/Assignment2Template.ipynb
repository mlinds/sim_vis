{
 "cells": [
  {
   "cell_type": "markdown",
   "metadata": {},
   "source": [
    "#### CIE4604 Simulation and Visualization\n",
    "# Assignment 2 - GNSS-Reflectometry simulation\n",
    "\n",
    "GPS and other GNSS satellite signals are reflected by the Earth’s oceans. A GNSS-R(eflectrometry) receiver on board a satellite in a low Earth orbit (LEO) is able to receive both the **direct** signal from a GNSS satellite, as well as the signal **reflected** by the surface of the Earth. This will provide very useful information on the Sea state and level in particular\n",
    "\n",
    "![Remote Sensing geometry of GNSS-R (From: Jales, 2012](Jales2012.png)\n",
    "\n",
    "For this assignment you are given the task to simulate a GNSS-R(eflectometry) experiment on board the International Space Station (ISS). \n",
    "\n",
    "All the Python scripts can be found in `CIE4604-M2-python` that you can download from Brightspace. For the assignment you need the following modules\n",
    "- `tleplot.py`\n",
    "- `crsutil.py`\n",
    "- `specularpoint.py`\n",
    "\n",
    "You will also need to have `simplekml` installed (See exercise 6). \n",
    "\n",
    "The `CIE4604-M2-python` download comes with 8 exercises in Jupyter notebooks. We suggest that you study the Jupyter notebooks first and do the exercises. These already contain a lot of useful material for the assignment, some of which can be re-purposed for the assignment. An other option is to do this assignment in parallel with the exercises."
   ]
  },
  {
   "cell_type": "markdown",
   "metadata": {},
   "source": [
    "## Description of the GNSS-R experiment on board the ISS\n",
    "\n",
    "For the experiment a GNSS-R receiver will be installed on board the ISS. A GNSS-R receiver is able to\n",
    "\n",
    "1.\tReceive the direct signal from Global Navigation Satellite Systems (GNSS), such as the US GPS, Russian GLONASS, European GALILEO and Chinese BEIDOU satellites,\n",
    "2.\tReceive reflected GNSS signals from the Earth surface.\n",
    "\n",
    "The path delay difference between direct and reflected signal is a measure for the Sea-surface height. However, by recording the full reflected wave form also other parameters about the sea state, such as wave-height and direction, can be retrieved.\n",
    "\n",
    "The GNSS-R receiver on board the ISS uses two antenna’s, one **upward looking** standard **omnidirectional** antenna for the **direct** signals, and a specially designed **downward looking** antenna for the **reflected** signals. The opening angle of downward antenna (field of view) is not yet decided: the final value will depend on the outcome of the simulation, and will be a trade-off between received power and coverage."
   ]
  },
  {
   "cell_type": "markdown",
   "metadata": {},
   "source": [
    "## Breakdown in sub-tasks\n",
    "\n",
    "The first step of any task is to break it down in more manageable sub-tasks. Normally this is something that you have to do yourself, but here, for this assignment, we will give you the task breakdown. The sub-tasks you have to perform are:\n",
    "\n",
    "1. Simulate and visualize the ISS orbit trajectory\n",
    "2. Simulate and visualize the GPS satellite orbits\n",
    "3. Simulate and visualize GNSS signals from the upward looking omnidirectional antenna on the ISS (direct signals)\n",
    "4. Simulate and visualize GNSS signals from the down looking antenna on the ISS (reflected signals)\n",
    "\n",
    "More details on each sub-task can be found in the following cells."
   ]
  },
  {
   "cell_type": "markdown",
   "metadata": {},
   "source": [
    "## 1. Simulate and visualize the ISS orbit trajectory\n"
   ]
  },
  {
   "cell_type": "code",
   "execution_count": null,
   "metadata": {},
   "outputs": [],
   "source": [
    "import matplotlib.pyplot as plt\n",
    "import tleplot as tle\n",
    "import crsutil as crs\n",
    "import specularpoint as sp\n",
    "import numpy as np\n",
    "from scipy.io import loadmat\n"
   ]
  },
  {
   "cell_type": "code",
   "execution_count": null,
   "metadata": {},
   "outputs": [],
   "source": [
    "def scircle1(lat0,lon0,theta):\n",
    "    \n",
    "    slat0 = np.sin(np.deg2rad(lat0))\n",
    "    clat0 = np.cos(np.deg2rad(lat0))\n",
    "\n",
    "    stheta = np.sin(np.deg2rad(theta))\n",
    "    ctheta= np.cos(np.deg2rad(theta))\n",
    "    \n",
    "    alpha = np.deg2rad( np.arange(0,365,10) )\n",
    "    \n",
    "    lat = np.arctan2( slat0*ctheta + clat0*stheta*np.cos(alpha) ,\n",
    "         np.sqrt( (clat0*ctheta - slat0*stheta*np.cos(alpha))**2 + (stheta *np.sin(alpha))**2 ))\n",
    "    dlon = np.arctan2( stheta * np.sin(alpha) , clat0*ctheta - slat0*stheta*np.cos(alpha) )\n",
    "\n",
    "    lat = np.rad2deg(lat)\n",
    "    lon = lon0 + np.rad2deg(dlon)\n",
    "\n",
    "    return lat, lon"
   ]
  },
  {
   "cell_type": "markdown",
   "metadata": {},
   "source": [
    "Simulate and visualize the orbit trajectory of the International Space Station ISS. You may use Two-Line Elements (TLE) for ISS (Zarya) that you can find on Celestrak. The questions need to be answered in this sub-task:\n",
    "\n",
    "a.\tWhat are the main limitations of using GNSS-R from the ISS for the spatial and temporal coverage?\n",
    "Hint: To answer this question you have to plot the ISS ground tracks (sub-satellite tracks), for which you may use `pltgroundtracks` from the `tleplot` Python module. \n"
   ]
  },
  {
   "cell_type": "code",
   "execution_count": null,
   "metadata": {},
   "outputs": [],
   "source": [
    "# get the most recent \n",
    "tle.tleget('stations')\n",
    "tleERS = tle.tleread('stations.txt',verbose=0)"
   ]
  },
  {
   "cell_type": "code",
   "execution_count": null,
   "metadata": {},
   "outputs": [],
   "source": [
    "isat,name = tle.tlefind(tleERS,'ISS (ZA')\n",
    "numdays = 2\n",
    "t = tle.tledatenum(['2021-11-28 0:00:00', numdays*24*60 ,0.1])\n",
    "iss_xvals,iss_vvals = tle.tle2vec(tleERS,t,'ISS (ZA')\n",
    "iss_xvalse,iss_vvalse = crs.eci2ecef(t,xsat=iss_xvals,vsat=iss_vvals)\n",
    "\n",
    "\n",
    "plt.figure(figsize=(20,10))\n",
    "coast = loadmat('coast.mat')\n",
    "\n",
    "# using code from the Tleplot\n",
    "\n",
    "lsat = np.arctan2(iss_xvalse[:,1], iss_xvalse[:,0]) * 180 / np.pi\n",
    "dsat = np.arctan(iss_xvalse[:,2] / np.sqrt(iss_xvalse[:,1]**2 + iss_xvalse[:,0]**2) )  * 180 / np.pi\n",
    "\n",
    "# implement masking as in TLEplot function \n",
    "lsatmask = np.ma.array(lsat)\n",
    "dsatmask = np.ma.array(dsat)\n",
    "lsatmask[np.hstack([False,np.abs(np.diff(lsat)) > 180])] = np.ma.masked \n",
    "dsatmask[np.hstack([False,np.abs(np.diff(dsat)) > 90])] = np.ma.masked \n",
    "\n",
    "Re = 6378136 # radius of earth in metres\n",
    "# satetlite radius using pythagorean theorum in 3d\n",
    "sat_rad = np.sqrt(np.sum(iss_xvalse**2,axis=1))\n",
    "\n",
    "\n",
    "# off nadir angles in radians\n",
    "nadir40 = np.deg2rad(40)/2\n",
    "nadir100 = np.deg2rad(100)/2\n",
    "# set up an empty array\n",
    "theta40 = np.zeros_like(lsatmask)\n",
    "theta100 = np.zeros_like(lsatmask)\n",
    "\n",
    "# calculation the theta for each position\n",
    "# equation from ex. 7: $\\theta=\\arcsin(\\frac{r}{R_e}\\sin(\\eta))-\\eta$ \n",
    "theta40 = np.rad2deg(np.arcsin((sat_rad/Re)*np.sin(nadir40)-nadir40))\n",
    "theta100 = np.rad2deg(np.arcsin((sat_rad/Re)*np.sin(nadir100)-nadir100))\n",
    "\n"
   ]
  },
  {
   "cell_type": "code",
   "execution_count": null,
   "metadata": {},
   "outputs": [],
   "source": [
    "# manually plot the circles for 40\n",
    "plt.figure(figsize=(20,10))\n",
    "for l,d,theta in zip(lsatmask,dsatmask,theta40):\n",
    "    \n",
    "    sc_lat,sc_lon = scircle1(d,l,theta)\n",
    "    plt.plot(sc_lon,sc_lat,color='b',)\n",
    "    \n",
    "    \n",
    "plt.title(f'{numdays} days of ISS Zayra Overpasses with Opening angle of 40 degrees')\n",
    "plt.plot(coast[\"long\"], coast[\"lat\"], color='black', linewidth=0.5)\n",
    "plt.xlabel(\"Longitude\")\n",
    "plt.ylabel(\"Latitude\")\n"
   ]
  },
  {
   "cell_type": "code",
   "execution_count": null,
   "metadata": {},
   "outputs": [],
   "source": [
    "# manually plot the circles for 100\n",
    "plt.figure(figsize=(20,10))\n",
    "for l,d,theta in zip(lsatmask,dsatmask,theta100):\n",
    "    \n",
    "    sc_lat,sc_lon = scircle1(d,l,theta)\n",
    "    plt.plot(sc_lon,sc_lat,color='b',)\n",
    "    \n",
    "    \n",
    "plt.title(f'{numdays} days of ISS Zayra Overpasses with Opening angle of 100 degrees')\n",
    "plt.plot(coast[\"long\"], coast[\"lat\"], color='black', linewidth=0.5)\n",
    "plt.xlabel(\"Longitude\")\n",
    "plt.ylabel(\"Latitude\")"
   ]
  },
  {
   "cell_type": "code",
   "execution_count": null,
   "metadata": {},
   "outputs": [],
   "source": [
    "from scipy.integrate import quad\n",
    "\n",
    "function = lambda omega: 2*np.pi*Re*np.cos(np.deg2rad(omega))\n",
    "\n",
    "area = quad(function,-51.64,51.64)\n",
    "area_tot = quad(function,-90,90)\n",
    "\n",
    "\n",
    "print(area_tot[0],'actual:',4*np.pi*Re**2)"
   ]
  },
  {
   "cell_type": "markdown",
   "metadata": {},
   "source": [
    "c.\tOver how many hours or days do you have to carry out the simulation so that all areas, that can possibly be observed, are observed?  \n",
    "\n",
    "In all steps we expect clear answers with a brief explanation. Include appropriate plots and visualizations wherever necessary."
   ]
  },
  {
   "cell_type": "markdown",
   "metadata": {},
   "source": [
    "## 2. Simulate and visualize the GPS satellite orbits\n",
    "\n",
    "Simulate and visualize the GPS orbits. You may again use TLE from Celestrak. Deliverables for this sub-task are:\n",
    "\n",
    "a.\tPlot of the GPS ground tracks.  You may again use `pltgroundtracks` from the `tleplot` module. Please think carefully about how to plot this data in a nice and concise manner, as there are about 30 operational GPS satellites.\n"
   ]
  },
  {
   "cell_type": "code",
   "execution_count": null,
   "metadata": {},
   "outputs": [],
   "source": [
    "# enter here your code and run the cell to produce the result, if you wish you can use more cells\n",
    "tle.tleget('GPS')\n",
    "gpsERS = tle.tleread('GPS.txt',verbose=0)\n"
   ]
  },
  {
   "cell_type": "code",
   "execution_count": null,
   "metadata": {},
   "outputs": [],
   "source": [
    "\n",
    "t = tle.tledatenum(['2021-11-23 0:00:00', 24*60 ,1])\n",
    "xsat,vsat = tle.tle2vec(gpsERS,t,'GPS BIIR-2')\n",
    "xsate,vsate = crs.eci2ecef(t,xsat=xsat,vsat=vsat)\n",
    "plt.figure(figsize=(20,10))\n",
    "tle.pltgroundtrack(xsate)\n"
   ]
  },
  {
   "cell_type": "code",
   "execution_count": null,
   "metadata": {},
   "outputs": [],
   "source": [
    "# make a 3d plot\n",
    "plt.clf()\n",
    "fig = plt.figure(\"3D satellite orbit (ECI)\",figsize=(20,10), tight_layout=True)\n",
    "ax = fig.add_subplot(121, projection='3d')\n",
    "for sat in gpsERS:\n",
    "    t = tle.tledatenum(['2021-11-15 0:00:00', 24*60 ,1])\n",
    "    xsat,vsat = tle.tle2vec(gpsERS,t,sat.name)\n",
    "    xsate,vsate = crs.eci2ecef(t,xsat=xsat,vsat=vsat)\n",
    "    # modified the plot_orbit_3d to pass extra parameters to the plt.plot() that actually adds the lines.\n",
    "    tle.plot_orbit_3D(ax,xsat,label=sat.name)\n",
    "\n",
    "plt.legend()"
   ]
  },
  {
   "cell_type": "code",
   "execution_count": null,
   "metadata": {},
   "outputs": [],
   "source": [
    "plt.figure(figsize=(20,10))\n",
    "for sat in gpsERS:\n",
    "    t = tle.tledatenum(['2021-11-28 0:00:00', 24*60 ,1])\n",
    "    xsat,vsat = tle.tle2vec(gpsERS,t,sat.name)\n",
    "    xsate,vsate = crs.eci2ecef(t,xsat=xsat,vsat=vsat)\n",
    "    tle.pltgroundtrack(xsate)\n"
   ]
  },
  {
   "cell_type": "markdown",
   "metadata": {},
   "source": [
    "\n",
    "b.\tPolar plot (skyplot), using the azimuth and zenith angles, for a station on the Earth (e.g. Delft).  Hint: You may use the function `skyplot` from the `tleplot`  module. \n"
   ]
  },
  {
   "cell_type": "code",
   "execution_count": null,
   "metadata": {},
   "outputs": [],
   "source": [
    "# to create a polar plot we need to define a location and find the look angles there\n",
    "# we define a time array for this problem\n",
    "t = tle.tledatenum(['2021-11-27 0:00:00', 1*24*60, 1])\n",
    "\n",
    "# use location of delft in radians\n",
    "delft_lat_rad = np.deg2rad(4.358)\n",
    "delft_lon_rad = np.deg2rad(52.01144)\n",
    "\n",
    "# convert lat/long to ecef location\n",
    "delft_ecef = Re*np.array(\n",
    "    [\n",
    "        np.cos(delft_lat_rad)/np.cos(delft_lon_rad),  # X\n",
    "        np.cos(delft_lat_rad)/np.sin(delft_lon_rad),  # Y\n",
    "        np.sin(latlon[1]),  # Z\n",
    "    ]\n",
    ")\n",
    "# print the delft coorindates to check them\n",
    "print('Delft ecef coordinate: ', delft_ecef)\n",
    "print(delft_ecef.shape)\n",
    "\n",
    "# set up a function to get the look angles from delft\n",
    "\n",
    "\n",
    "def lookangle_from_delft(t, sat_data_ecef):\n",
    "    lookangle, flags = crs.satlookanglesp(t, sat_data_ecef, delft_ecef)\n",
    "    return lookangle\n",
    "\n",
    "\n",
    "plt.figure(figsize=(25, 25))\n",
    "names = []\n",
    "\n",
    "az_array = np.zeros((len(t), len(gpsERS)))\n",
    "zen_array = np.zeros((len(t), len(gpsERS)))\n",
    "\n",
    "for i, sat in enumerate(gpsERS):\n",
    "\n",
    "    xsat, vsat = tle.tle2vec(gpsERS, t, sat.name)\n",
    "    xsate, vsate = crs.eci2ecef(t, xsat=xsat, vsat=vsat)\n",
    "    combined = np.concatenate((xsate, vsate), axis=1)\n",
    "    las_array = lookangle_from_delft(t, combined)\n",
    "    zen = las_array[:, 0]\n",
    "    azi = las_array[:, 1]\n",
    "\n",
    "    az_array[:, i] = azi\n",
    "    zen_array[:, i] = zen\n",
    "    names.append(sat.name)\n",
    "\n",
    "\n",
    "tle.skyplot(t, az_array, zen_array, satnames=names, cutoff=10)\n"
   ]
  },
  {
   "cell_type": "markdown",
   "metadata": {},
   "source": [
    "\n",
    "c.\tPlot with the number of GPS satellite in view as function of time for the same ground station. Consider carefully how you define visibility and which value you use as elevation cut-off angle. Hint: As an intermediate step, create a 2D boolean array with an axis for satellite, and an axis for time, with True whenever a satellite is visible.\n",
    "\n",
    "You may use a period of one day for these plots."
   ]
  },
  {
   "cell_type": "code",
   "execution_count": null,
   "metadata": {},
   "outputs": [],
   "source": []
  },
  {
   "cell_type": "markdown",
   "metadata": {},
   "source": [
    "*Enter here your answers using markdown. Use one cell for each subquestion.*"
   ]
  },
  {
   "cell_type": "markdown",
   "metadata": {},
   "source": [
    "## 3. Simulate and visualize direct signals\n",
    "\n",
    "Simulate and visualize GNSS signals from the **upward looking omnidirectional** antenna on the ISS (direct signals). The opening angle of the upward looking antenna is 160 degrees (comparable to a 10 degree elevation cut-off angle). For this sub-task you have to use the simulated ISS and GPS positions from the previous sub-tasks. Questions to answer are:\n",
    "\n",
    "a.\tHow many GPS satellites are on average in view from the upward looking antenna? Illustrate this by a plot with the number of GPS satellite in view as function of time from the ISS (as in 2c). How does this compare to a station on the Earth (e.g. Delft)?\n",
    "\n",
    "b.\tWhat is the average duration of GPS satellite visibility, in minutes from start to end for each pass, from the ISS? Include a plot that clearly illustrates this answer. Again, how does this compare to the a station on the Earth?\n",
    "\n",
    "c.\tVisualize the ISS, GPS and observations from the upward looking omnidirectional antenna in Google Earth using the `simplekml` Python module. You may get some inspiration from exercise 6 `CIE4604-M2-Example6_kml.ipynb` notebook. Make separate kml folders (within the same kmz file) for ISS, GPS and direct observations. For the report (Jupyter notebook), include a screenshot showing trajectories for one day, but the direct observations only for a single epoch.\n",
    "\n",
    "You may use a period of one day for the plots. "
   ]
  },
  {
   "cell_type": "code",
   "execution_count": null,
   "metadata": {},
   "outputs": [],
   "source": [
    "# enter here your code and run the cell to produce the result, if you wish you can use more cells"
   ]
  },
  {
   "cell_type": "markdown",
   "metadata": {},
   "source": [
    "*Enter here your answer using markdown. Use one cell for each sub-question. For question 3c do not forget to include the screenshot, you can do this with syntax like `![](screenshot.png)`*."
   ]
  },
  {
   "cell_type": "markdown",
   "metadata": {},
   "source": [
    "## 4. Simulate and visualize reflected signals\n",
    "\n",
    "\n",
    "Simulate and visualize GNSS signals from the **downward looking** antenna on the ISS (reflected signals). The opening angle of the downward looking antenna is 40 degrees or 100 degrees.\n",
    "\n",
    "a.\tMake a function to compute the position of  the specular reflection points that are within the field of view (opening angle) of the down looking GPS antenna on board the ISS at a specified moment in time. \n",
    "\n",
    "Input for this function is:  the position of the ISS and  GPS satellite positions at a specific time (one epoch only), and the opening angle of the downward looking antenna (40 or 100 degrees). The output should be the position of the specular reflection points (zero, one or more) that fall within the opening angle. For the actual computation you may call the function `specularpoint` from the `specularpoint.py` module that is part of the `CIE4604_M2_Python.zip` distribution. This is also explained in more detail in exercise 8 `CIE4604_M2_Example8_sp.ipynb` notebook.\n",
    "\n",
    "b.\tMake a plot with the specular reflection points, ISS and GPS ground tracks in Python for a period of several minutes for two different values of the opening angle.\n",
    "\n",
    "c.\tVisualize the specular reflection points and reflected signals in Google Earth for two different values of the opening angle (40 degrees and 100 degrees), and add this to the kmz file of question 3c. Make a new kml folder (within the same kmz file) for each opening angle. \n",
    "\n",
    "Include in your report a screenshot of Google Earth showing the ISS, GPS and specular reflection point trajectories for a period of several minutes, while showing the direct and reflected signals only for a single epoch."
   ]
  },
  {
   "cell_type": "code",
   "execution_count": null,
   "metadata": {},
   "outputs": [],
   "source": [
    "# enter here your code and run the cell to produce the result, if you wish you can use more cells"
   ]
  },
  {
   "cell_type": "markdown",
   "metadata": {},
   "source": [
    "*Enter here your answer using markdown. Use one cell for each sub-question. For question 3c do not forget to include the screenshot, you can do this with syntax like `![](screenshot.png)`*."
   ]
  },
  {
   "cell_type": "markdown",
   "metadata": {},
   "source": [
    "# Deliverables\n",
    "\n",
    "The deliverables for this assignment are \n",
    "\n",
    "1.\tPdf of your Jupyter notebook or short report (pdf)  with a description of the GNSS-R simulator, plots of the results and answers to the questions.\n",
    "2.\tKMZ file (for display in Google Earth), one kmz file only, for question 3c and 4c combined.\n",
    "3.\tJupyter notebook or zip file with the code.\n",
    "\n",
    "The above deliverables have to be submitted electronically  through Brightspace.\n"
   ]
  },
  {
   "cell_type": "markdown",
   "metadata": {},
   "source": [
    "[End of this Jupyter notebook]"
   ]
  }
 ],
 "metadata": {
  "kernelspec": {
   "display_name": "Python 3 (ipykernel)",
   "language": "python",
   "name": "python3"
  },
  "language_info": {
   "codemirror_mode": {
    "name": "ipython",
    "version": 3
   },
   "file_extension": ".py",
   "mimetype": "text/x-python",
   "name": "python",
   "nbconvert_exporter": "python",
   "pygments_lexer": "ipython3",
   "version": "3.6.13"
  }
 },
 "nbformat": 4,
 "nbformat_minor": 4
}
