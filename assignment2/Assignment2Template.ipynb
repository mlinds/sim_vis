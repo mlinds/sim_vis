{
 "cells": [
  {
   "cell_type": "markdown",
   "metadata": {},
   "source": [
    "#### CIE4604 Simulation and Visualization\n",
    "# Assignment 2 - GNSS-Reflectometry simulation\n",
    "\n",
    "GPS and other GNSS satellite signals are reflected by the Earth’s oceans. A GNSS-R(eflectrometry) receiver on board a satellite in a low Earth orbit (LEO) is able to receive both the **direct** signal from a GNSS satellite, as well as the signal **reflected** by the surface of the Earth. This will provide very useful information on the Sea state and level in particular\n",
    "\n",
    "![Remote Sensing geometry of GNSS-R (From: Jales, 2012](Jales2012.png)\n",
    "\n",
    "For this assignment you are given the task to simulate a GNSS-R(eflectometry) experiment on board the International Space Station (ISS). \n",
    "\n",
    "All the Python scripts can be found in `CIE4604-M2-python` that you can download from Brightspace. For the assignment you need the following modules\n",
    "- `tleplot.py`\n",
    "- `crsutil.py`\n",
    "- `specularpoint.py`\n",
    "\n",
    "You will also need to have `simplekml` installed (See exercise 6). \n",
    "\n",
    "The `CIE4604-M2-python` download comes with 8 exercises in Jupyter notebooks. We suggest that you study the Jupyter notebooks first and do the exercises. These already contain a lot of useful material for the assignment, some of which can be re-purposed for the assignment. An other option is to do this assignment in parallel with the exercises."
   ]
  },
  {
   "cell_type": "markdown",
   "metadata": {},
   "source": [
    "## Description of the GNSS-R experiment on board the ISS\n",
    "\n",
    "For the experiment a GNSS-R receiver will be installed on board the ISS. A GNSS-R receiver is able to\n",
    "\n",
    "1.\tReceive the direct signal from Global Navigation Satellite Systems (GNSS), such as the US GPS, Russian GLONASS, European GALILEO and Chinese BEIDOU satellites,\n",
    "2.\tReceive reflected GNSS signals from the Earth surface.\n",
    "\n",
    "The path delay difference between direct and reflected signal is a measure for the Sea-surface height. However, by recording the full reflected wave form also other parameters about the sea state, such as wave-height and direction, can be retrieved.\n",
    "\n",
    "The GNSS-R receiver on board the ISS uses two antenna’s, one **upward looking** standard **omnidirectional** antenna for the **direct** signals, and a specially designed **downward looking** antenna for the **reflected** signals. The opening angle of downward antenna (field of view) is not yet decided: the final value will depend on the outcome of the simulation, and will be a trade-off between received power and coverage."
   ]
  },
  {
   "cell_type": "markdown",
   "metadata": {},
   "source": [
    "## Breakdown in sub-tasks\n",
    "\n",
    "The first step of any task is to break it down in more manageable sub-tasks. Normally this is something that you have to do yourself, but here, for this assignment, we will give you the task breakdown. The sub-tasks you have to perform are:\n",
    "\n",
    "1. Simulate and visualize the ISS orbit trajectory\n",
    "2. Simulate and visualize the GPS satellite orbits\n",
    "3. Simulate and visualize GNSS signals from the upward looking omnidirectional antenna on the ISS (direct signals)\n",
    "4. Simulate and visualize GNSS signals from the down looking antenna on the ISS (reflected signals)\n",
    "\n",
    "More details on each sub-task can be found in the following cells."
   ]
  },
  {
   "cell_type": "markdown",
   "metadata": {},
   "source": [
    "## 1. Simulate and visualize the ISS orbit trajectory\n",
    "\n",
    "Simulate and visualize the orbit trajectory of the International Space Station ISS. You may use Two-Line Elements (TLE) for ISS (Zarya) that you can find on Celestrak. The questions need to be answered in this sub-task:\n",
    "\n",
    "a.\tWhat are the main limitations of using GNSS-R from the ISS for the spatial and temporal coverage?\n",
    "Hint: To answer this question you have to plot the ISS ground tracks (sub-satellite tracks), for which you may use `pltgroundtracks` from the `tleplot` Python module. \n",
    "\n",
    "b.\tWhat is the effect of the opening angle (field of view) of the downward looking antenna on the spatial coverage? As part of your answer compute the area of coverage (on the Earth) for an opening angle (field of view) of 40 degrees and of 100 degrees. You may report the size of the area of coverage in degrees. Hint: Some background information is given in exercise 7 `CIE4604_M2_Exercise7_aoc.ipynb` notebook.\n",
    "\n",
    "c.\tOver how many hours or days do you have to carry out the simulation so that all areas, that can possibly be observed, are observed?  \n",
    "\n",
    "In all steps we expect clear answers with a brief explanation. Include appropriate plots and visualizations wherever necessary."
   ]
  },
  {
   "cell_type": "code",
   "execution_count": 55,
   "metadata": {},
   "outputs": [],
   "source": [
    "# Enter here your code to plot the ISS ground tracks (sub-satellite tracks) using \n",
    "# pltgroundtracks from the tleplot Python module.\n",
    "#\n",
    "# If you wish, you can add more cells.\n",
    "\n",
    "import tleplot as tle"
   ]
  },
  {
   "cell_type": "code",
   "execution_count": 56,
   "metadata": {},
   "outputs": [
    {
     "name": "stdout",
     "output_type": "stream",
     "text": [
      "Saving TLE set to default name\n",
      "TLEGET: Downloaded stations.txt from http://celestrak.com/NORAD/elements/\n",
      "Saved TLE to stations.txt\n",
      "\n",
      "Satellite              Reference_Epoch    a [km]    ecc [-]  inc [deg] RAAN [deg] argp [deg]    E [deg]    Period\n",
      "\n",
      "ISS (ZARYA)             2021-324.06458   6798.96  0.0004633    51.6442   291.9657   219.6337   260.2446  01:32:59\n",
      "AEROCUBE 12A            2021-323.81366   6844.46  0.0007108    51.6382   120.0712     5.3354   354.7705  01:33:55\n",
      "AEROCUBE 12B            2021-323.91190   6846.81  0.0007260    51.6390   122.1795     3.6599   356.4428  01:33:58\n",
      "LEMUR-2-VU              2021-324.10943   6835.66  0.0006094    51.6392   108.0625    13.1245   346.9902  01:33:44\n",
      "LEMUR-2-ALEXANDER       2021-323.67803   6834.81  0.0006038    51.6389   108.9571    11.0600   349.0513  01:33:43\n",
      "LEMUR-2-YUASA           2021-323.82163   6835.73  0.0006255    51.6388   109.8888    25.3103   334.8191  01:33:45\n",
      "LEMUR-2-TOMHENDERSON    2021-324.13755   6837.18  0.0006650    51.6398   109.7216    21.7579   338.3680  01:33:46\n",
      "ISS DEB (SEDA-AP)       2021-323.69521   6748.41  0.0003758    51.6341   225.7584   173.9027   186.2012  01:31:57\n",
      "ISS DEB                 2021-324.07499   6754.58  0.0006135    51.6373   248.8127   110.4633   249.7015  01:32:05\n",
      "ISS DEB                 2021-323.81661   6751.09  0.0007176    51.6357   248.4528   109.6154   250.5612  01:32:00\n",
      "RED-EYE 1 (PINOT)       2021-324.17337   6755.03  0.0007437    51.6386   249.4692   108.4390   251.7416  01:32:05\n",
      "KRAKSAT                 2021-324.28017   6697.60  0.0005523    51.6356   221.3366   132.7658   325.4457  01:30:55\n",
      "RWASAT-1                2021-324.21657   6746.84  0.0008181    51.6366   253.1029   146.6860   358.3624  01:31:55\n",
      "AQT-D                   2021-323.81049   6745.38  0.0007286    51.6355   255.3124   122.1405   238.0294  01:31:53\n",
      "NARSSCUBE-1             2021-323.99647   6678.40  0.0007605    51.6307   232.2679   153.4600   206.6792  01:30:32\n",
      "STPSAT-4                2021-324.03963   6772.47  0.0005786    51.6403   276.3049   124.0815   236.0724  01:32:27\n",
      "HARP                    2021-323.84530   6745.74  0.0007440    51.6419   262.3573   128.3251   231.8411  01:31:54\n",
      "1998-067RA              2021-324.12484   6753.92  0.0007638    51.6363   264.0948   125.3967   234.7749  01:32:04\n",
      "PHOENIX                 2021-323.84765   6761.01  0.0006827    51.6376   269.0003   109.1442   251.0290  01:32:13\n",
      "1998-067RC              2021-324.11705   6722.43  0.0007834    51.6330   251.9981   129.6285   230.5400  01:31:25\n",
      "CRYOCUBE                2021-324.06003   6616.76  0.0008860    51.6227   240.9175   175.8694   184.2404  01:29:16\n",
      "AZTECHSAT-1             2021-324.03946   6668.29  0.0008891    51.6258   239.2823   148.9026   211.2503  01:30:19\n",
      "RADSAT-U                2021-323.57742   6751.64  0.0005934    51.6411   265.8095   143.3918   216.7484  01:32:01\n",
      "QARMAN                  2021-323.28689   6722.34  0.0008111    51.6345   256.9483   123.2001   236.9769  01:31:25\n",
      "SORTIE                  2021-323.46166   6769.88  0.0007532    51.6402   276.2542   126.7670   233.4021  01:32:23\n",
      "ICS-EF (ISS DEB)        2021-324.23528   6781.97  0.0005699    51.6404   280.5960   124.6110   235.5419  01:32:38\n",
      "G-SAT                   2021-323.55880   6751.18  0.0004004    51.6376   267.8571   145.4645   214.6614  01:32:01\n",
      "QUETZAL-1               2021-323.85612   6734.95  0.0003637    51.6362   261.5697   123.3000   236.8343  01:31:41\n",
      "RED-EYE 2 (MERLOT)      2021-324.24243   6776.34  0.0002115    51.6414   278.4475   107.2229   252.8996  01:32:31\n",
      "RED-EYE 3 (CABERNET)    2021-324.17758   6776.39  0.0002591    51.6415   278.7649   104.8360   255.2917  01:32:31\n",
      "DEMI                    2021-323.88993   6741.64  0.0004901    51.6392   265.5892   100.5243   259.6310  01:31:49\n",
      "SPOC                    2021-323.59642   6768.10  0.0001166    51.6398   280.1550    43.1751   316.9333  01:32:21\n",
      "BOBCAT-1                2021-323.59172   6754.71  0.0002398    51.6410   275.6574    71.6811   288.4443  01:32:05\n",
      "NEUTRON-1               2021-324.26586   6768.42  0.0001669    51.6405   277.1248    47.2917   312.8214  01:32:22\n",
      "1998-067RU              2021-324.22230   6707.02  0.0006229    51.6319   260.9696   113.5750   246.5912  01:31:06\n",
      "LEMUR-2-BAXTER-OLIVER   2021-324.09802   6687.89  0.0005775    51.6434   258.7345   123.1116   237.0437  01:30:43\n",
      "LEMUR-2-DJARA           2021-324.26211   6710.59  0.0004539    51.6406   261.3537   127.9342   232.2069  01:31:11\n",
      "DESCENT                 2021-323.37196   6768.27  0.0002402    51.6402   281.6513    41.2350   318.8822  01:32:22\n",
      "ISS DEB                 2021-324.22816   6793.59  0.0002089    51.6435   289.5925   325.1715    34.9136  01:32:53\n",
      "RSP-01                  2021-323.32583   6775.41  0.0000701    51.6409   288.8331   100.1264   259.9806  01:32:30\n",
      "TAUSAT-1                2021-323.51517   6769.69  0.0000678    51.6397   286.3346   130.1917   229.9135  01:32:23\n",
      "TSURU                   2021-324.00810   6777.28  0.0000570    51.6413   285.8888   118.7828   241.3221  01:32:33\n",
      "STARS-EC                2021-323.45358   6769.87  0.0004207    51.6401   287.4247    10.7014   349.4064  01:32:23\n",
      "MMSATS-1                2021-323.95633   6789.96  0.0001056    51.6464   290.0041   323.9221    36.1668  01:32:48\n",
      "TIANHE                  2021-323.35050   6761.52  0.0004093    41.4705    57.1394   355.5380    53.1831  01:32:13\n",
      "TIANZHOU-2              2021-323.35050   6761.52  0.0004093    41.4705    57.1394   355.5380    53.1831  01:32:13\n",
      "RAMSAT                  2021-324.08115   6786.49  0.0004477    51.6417   289.3431    19.3226   340.7937  01:32:44\n",
      "SOAR                    2021-323.52853   6763.43  0.0005113    51.6374   288.6311    45.9723   314.1691  01:32:16\n",
      "BD-28                   2021-324.18994   6785.14  0.0004178    51.6410   288.5707    51.5300   308.6068  01:32:42\n",
      "MIR-SAT 1               2021-324.16705   6776.21  0.0004020    51.6402   287.6684    48.4463   311.6871  01:32:31\n",
      "PROGRESS-MS 17          2021-323.47973   6798.94  0.0004582    51.6438   294.8585   219.0577   238.2004  01:32:59\n",
      "ISS (NAUKA)             2021-323.47973   6798.94  0.0004582    51.6438   294.8585   219.0577   238.2004  01:32:59\n",
      "CYGNUS NG-16            2021-323.47973   6798.94  0.0004582    51.6438   294.8585   219.0577   238.2004  01:32:59\n",
      "SOYUZ-MS 19             2021-323.47973   6798.94  0.0004582    51.6438   294.8585   219.0577   238.2004  01:32:59\n",
      "FREGAT DEB              2021-324.02934   8212.16  0.0816012    51.5431    74.7995   348.1796    10.0384  02:03:26\n",
      "BINAR-1                 2021-324.12263   6791.23  0.0003292    51.6418   291.1091   257.0532   103.0092  01:32:50\n",
      "MAYA-3                  2021-324.18374   6790.43  0.0002897    51.6418   290.7673   252.2007   107.8669  01:32:49\n",
      "MAYA-4                  2021-324.18494   6790.58  0.0002826    51.6418   290.7754   249.9995   110.0690  01:32:49\n",
      "CUAVA-1                 2021-324.18494   6790.41  0.0002858    51.6424   290.7382   263.9505   110.9186  01:32:49\n",
      "CAPSAT                  2021-324.20317   6792.69  0.0003740    51.6414   290.8944   274.8971    85.1590  01:32:52\n",
      "1998-067SW              2021-323.74943   6792.22  0.0004210    51.6411   293.1137   266.2066    93.8440  01:32:51\n",
      "1998-067SX              2021-324.24560   6787.58  0.0002535    51.6410   290.4290   256.1803   103.8904  01:32:45\n",
      "SHENZHOU-13 (SZ-13)     2021-323.35050   6761.52  0.0004093    41.4705    57.1394   355.5380    53.1831  01:32:13\n",
      "PROGRESS-MS 18          2021-323.47973   6798.94  0.0004582    51.6438   294.8585   219.0577   238.2004  01:32:59\n",
      "CREW DRAGON 3           2021-323.47973   6798.94  0.0004582    51.6438   294.8585   219.0577   238.2004  01:32:59\n"
     ]
    }
   ],
   "source": [
    "tle.tleget('stations')\n",
    "tleERS = tleplot.tleread('stations.txt')"
   ]
  },
  {
   "cell_type": "code",
   "execution_count": 59,
   "metadata": {},
   "outputs": [
    {
     "name": "stdout",
     "output_type": "stream",
     "text": [
      "Found 1 satellites:\n",
      " ISS (ZARYA)  (0)\n"
     ]
    }
   ],
   "source": [
    "isat,name = tle.tlefind(tleERS,'ISS (ZA')\n",
    "\n",
    "tle.tleplot1(tleERS,)"
   ]
  },
  {
   "cell_type": "code",
   "execution_count": 54,
   "metadata": {},
   "outputs": [
    {
     "name": "stdout",
     "output_type": "stream",
     "text": [
      "[0] ['ISS (ZARYA)']\n"
     ]
    }
   ],
   "source": [
    "\n",
    "print(isat,name)"
   ]
  },
  {
   "cell_type": "markdown",
   "metadata": {},
   "source": [
    "*Enter here your answers using markdown. Use one cell for each subquestion*"
   ]
  },
  {
   "cell_type": "markdown",
   "metadata": {},
   "source": [
    "## 2. Simulate and visualize the GPS satellite orbits\n",
    "\n",
    "Simulate and visualize the GPS orbits. You may again use TLE from Celestrak. Deliverables for this sub-task are:\n",
    "\n",
    "a.\tPlot of the GPS ground tracks.  You may again use `pltgroundtracks` from the `tleplot` module. Please think carefully about how to plot this data in a nice and concise manner, as there are about 30 operational GPS satellites.\n",
    "\n",
    "b.\tPolar plot (skyplot), using the azimuth and zenith angles, for a station on the Earth (e.g. Delft).  Hint: You may use the function `skyplot` from the `tleplot`  module. \n",
    "\n",
    "c.\tPlot with the number of GPS satellite in view as function of time for the same ground station. Consider carefully how you define visibility and which value you use as elevation cut-off angle. Hint: As an intermediate step, create a 2D boolean array with an axis for satellite, and an axis for time, with True whenever a satellite is visible.\n",
    "\n",
    "You may use a period of one day for these plots."
   ]
  },
  {
   "cell_type": "code",
   "execution_count": null,
   "metadata": {},
   "outputs": [],
   "source": [
    "# enter here your code and run the cell to produce the result, if you wish you can use more cells"
   ]
  },
  {
   "cell_type": "markdown",
   "metadata": {},
   "source": [
    "*Enter here your answers using markdown. Use one cell for each subquestion.*"
   ]
  },
  {
   "cell_type": "markdown",
   "metadata": {},
   "source": [
    "## 3. Simulate and visualize direct signals\n",
    "\n",
    "Simulate and visualize GNSS signals from the **upward looking omnidirectional** antenna on the ISS (direct signals). The opening angle of the upward looking antenna is 160 degrees (comparable to a 10 degree elevation cut-off angle). For this sub-task you have to use the simulated ISS and GPS positions from the previous sub-tasks. Questions to answer are:\n",
    "\n",
    "a.\tHow many GPS satellites are on average in view from the upward looking antenna? Illustrate this by a plot with the number of GPS satellite in view as function of time from the ISS (as in 2c). How does this compare to a station on the Earth (e.g. Delft)?\n",
    "\n",
    "b.\tWhat is the average duration of GPS satellite visibility, in minutes from start to end for each pass, from the ISS? Include a plot that clearly illustrates this answer. Again, how does this compare to the a station on the Earth?\n",
    "\n",
    "c.\tVisualize the ISS, GPS and observations from the upward looking omnidirectional antenna in Google Earth using the `simplekml` Python module. You may get some inspiration from exercise 6 `CIE4604-M2-Example6_kml.ipynb` notebook. Make separate kml folders (within the same kmz file) for ISS, GPS and direct observations. For the report (Jupyter notebook), include a screenshot showing trajectories for one day, but the direct observations only for a single epoch.\n",
    "\n",
    "You may use a period of one day for the plots. "
   ]
  },
  {
   "cell_type": "code",
   "execution_count": null,
   "metadata": {},
   "outputs": [],
   "source": [
    "# enter here your code and run the cell to produce the result, if you wish you can use more cells"
   ]
  },
  {
   "cell_type": "markdown",
   "metadata": {},
   "source": [
    "*Enter here your answer using markdown. Use one cell for each sub-question. For question 3c do not forget to include the screenshot, you can do this with syntax like `![](screenshot.png)`*."
   ]
  },
  {
   "cell_type": "markdown",
   "metadata": {},
   "source": [
    "## 4. Simulate and visualize reflected signals\n",
    "\n",
    "\n",
    "Simulate and visualize GNSS signals from the **downward looking** antenna on the ISS (reflected signals). The opening angle of the downward looking antenna is 40 degrees or 100 degrees.\n",
    "\n",
    "a.\tMake a function to compute the position of  the specular reflection points that are within the field of view (opening angle) of the down looking GPS antenna on board the ISS at a specified moment in time. \n",
    "\n",
    "Input for this function is:  the position of the ISS and  GPS satellite positions at a specific time (one epoch only), and the opening angle of the downward looking antenna (40 or 100 degrees). The output should be the position of the specular reflection points (zero, one or more) that fall within the opening angle. For the actual computation you may call the function `specularpoint` from the `specularpoint.py` module that is part of the `CIE4604_M2_Python.zip` distribution. This is also explained in more detail in exercise 8 `CIE4604_M2_Example8_sp.ipynb` notebook.\n",
    "\n",
    "b.\tMake a plot with the specular reflection points, ISS and GPS ground tracks in Python for a period of several minutes for two different values of the opening angle.\n",
    "\n",
    "c.\tVisualize the specular reflection points and reflected signals in Google Earth for two different values of the opening angle (40 degrees and 100 degrees), and add this to the kmz file of question 3c. Make a new kml folder (within the same kmz file) for each opening angle. \n",
    "\n",
    "Include in your report a screenshot of Google Earth showing the ISS, GPS and specular reflection point trajectories for a period of several minutes, while showing the direct and reflected signals only for a single epoch."
   ]
  },
  {
   "cell_type": "code",
   "execution_count": null,
   "metadata": {},
   "outputs": [],
   "source": [
    "# enter here your code and run the cell to produce the result, if you wish you can use more cells"
   ]
  },
  {
   "cell_type": "markdown",
   "metadata": {},
   "source": [
    "*Enter here your answer using markdown. Use one cell for each sub-question. For question 3c do not forget to include the screenshot, you can do this with syntax like `![](screenshot.png)`*."
   ]
  },
  {
   "cell_type": "markdown",
   "metadata": {},
   "source": [
    "# Deliverables\n",
    "\n",
    "The deliverables for this assignment are \n",
    "\n",
    "1.\tPdf of your Jupyter notebook or short report (pdf)  with a description of the GNSS-R simulator, plots of the results and answers to the questions.\n",
    "2.\tKMZ file (for display in Google Earth), one kmz file only, for question 3c and 4c combined.\n",
    "3.\tJupyter notebook or zip file with the code.\n",
    "\n",
    "The above deliverables have to be submitted electronically  through Brightspace.\n"
   ]
  },
  {
   "cell_type": "markdown",
   "metadata": {},
   "source": [
    "[End of this Jupyter notebook]"
   ]
  }
 ],
 "metadata": {
  "kernelspec": {
   "display_name": "Python 3 (ipykernel)",
   "language": "python",
   "name": "python3"
  },
  "language_info": {
   "codemirror_mode": {
    "name": "ipython",
    "version": 3
   },
   "file_extension": ".py",
   "mimetype": "text/x-python",
   "name": "python",
   "nbconvert_exporter": "python",
   "pygments_lexer": "ipython3",
   "version": "3.6.13"
  }
 },
 "nbformat": 4,
 "nbformat_minor": 4
}
