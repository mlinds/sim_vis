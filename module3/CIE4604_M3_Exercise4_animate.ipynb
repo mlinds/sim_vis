{
 "cells": [
  {
   "cell_type": "markdown",
   "metadata": {},
   "source": [
    "#### CIE4604 Simulation and Visualization\n",
    "\n",
    "# Module 3 2.5D Visualization - Exercise 4 (animate)\n",
    "\n",
    "**Hans van der Marel, 29 November 2020** (updated 29 November 2021)\n",
    "\n",
    "In this exercise is shown how to make an animation (video) in Python. As an example we use NDVI computed from Sentinel-2 data for the period of one year starting April 2017."
   ]
  },
  {
   "cell_type": "markdown",
   "metadata": {},
   "source": [
    "## Import the modules\n",
    "\n",
    "Matplotlib's animation module is imported for the animations, furthermore,  `rasterio` is used for reading GeoTIFF files together with a few other modules that we need. For details on `raterio` and it's installation see Exercise 3 of this module. If the `rasterio` module cannot be found, then it may be the case that you are not in the correct virtual environment."
   ]
  },
  {
   "cell_type": "code",
   "execution_count": null,
   "metadata": {},
   "outputs": [],
   "source": [
    "# Importing all the libraries required for this exercise\n",
    "import numpy as np\n",
    "import matplotlib.pyplot as plt\n",
    "import matplotlib.colors as colors\n",
    "import matplotlib.animation as animation\n",
    "import pandas as pd\n",
    "import rasterio\n",
    "from scipy.io import loadmat\n",
    "from datetime import date, datetime"
   ]
  },
  {
   "cell_type": "markdown",
   "metadata": {},
   "source": [
    "## Open NDVI dataset for an agricultural area near Sevilla (Spain)\n",
    "\n",
    "Sentinel-2 NDVI data is provided for Sector BXII, an agricultural area located close to Sevilla (Spain). The two input files are\n",
    "\n",
    "* `NDVI_BXII_time_series_2017_2018_S2A_SP.tif` (GeoTIFF with NDVI timeseries) \n",
    "* `NDVI_BXII_time_series_images_list.csv`  (Csv-file with the date, day number and day of year for the images)\n",
    "\n",
    "The GeoTIFF file with NDVI is read using `rasterio` (See exercise 3). After first inspecting some of the dataset attributes, finally the following variables are created\n",
    "\n",
    "\n",
    "* NDVI - 3-D array with dimensions [time, lat, lon] , i.e. NDVI[k,:,:] contains the k'th NDVI image at time ts[k] \n",
    "* ts, tsdoy, tsdatestring - 1-D arrays with respectively number of days since 12/04/2017 (ts), day of year (tsdoy) and datestrings (tsdatestring).\n",
    "\n",
    "You should definitely take a look at each variable to see what it is about."
   ]
  },
  {
   "cell_type": "markdown",
   "metadata": {},
   "source": [
    "### Open the dataset object\n",
    "\n",
    "First set the path to the folder with the files (you may have to adjust this) and variables with the filenames."
   ]
  },
  {
   "cell_type": "code",
   "execution_count": null,
   "metadata": {},
   "outputs": [],
   "source": [
    "# set the filename and filepath\n",
    "path = '../Assignment/input/'\n",
    "NDVIfile = 'NDVI_BXII_time_series_2017_2018_S2A_SP.tif'\n",
    "Datefile = 'NDVI_BXII_time_series_images_list.csv'"
   ]
  },
  {
   "cell_type": "code",
   "execution_count": null,
   "metadata": {},
   "outputs": [],
   "source": [
    "# open GeoTIFF dataset as an object \n",
    "src = rasterio.open(path + NDVIfile)\n",
    "\n",
    "# print object\n",
    "print('dataset object',src)"
   ]
  },
  {
   "cell_type": "markdown",
   "metadata": {},
   "source": [
    "Rasterio’s `open()` function takes a path string or path-like object and returns an opened dataset object. The path may point \n",
    "to a file of any supported raster format. Rasterio will open it using the proper GDAL format driver. Dataset objects have some of the same attributes as Python file objects."
   ]
  },
  {
   "cell_type": "code",
   "execution_count": null,
   "metadata": {},
   "outputs": [],
   "source": [
    "print('Dataset name', src.name)\n",
    "print('Read/write mode',src.mode)\n",
    "print('Close status',src.closed)"
   ]
  },
  {
   "cell_type": "markdown",
   "metadata": {},
   "source": [
    "### Dataset properties\n",
    "\n",
    "Properties of the raster data stored in the GeoTIFF can be accessed through attributes of the opened dataset object. Let's explore all of them and print."
   ]
  },
  {
   "cell_type": "code",
   "execution_count": null,
   "metadata": {},
   "outputs": [],
   "source": [
    "# print out metadata information\n",
    "print(src.meta)"
   ]
  },
  {
   "cell_type": "code",
   "execution_count": null,
   "metadata": {},
   "outputs": [],
   "source": [
    "for key in src.meta:\n",
    "  print(key,': ',src.meta[key])"
   ]
  },
  {
   "cell_type": "code",
   "execution_count": null,
   "metadata": {},
   "outputs": [],
   "source": [
    "print('Number of bands',src.count)\n",
    "print('Number of columns',src.width)\n",
    "print('Number of rows',src.height)"
   ]
  },
  {
   "cell_type": "markdown",
   "metadata": {},
   "source": [
    "Our dataset has 33 bands. Each band is NDVI at some date. The dates are not stored in the GeoTIFF, this is why there are two files. The second file contains infomation on the dates. \n",
    "\n",
    "A dataset band is an array of values representing the partial distribution of a single variable in 2-dimensional (2D) space. All band arrays of a dataset have the same number of rows and columns. The variable represented by the example dataset’s 33 bands are `float64` NDVI values. The array of data values is 866 columns wide and 800 rows high."
   ]
  },
  {
   "cell_type": "markdown",
   "metadata": {},
   "source": [
    "### Georeferencing information\n",
    "\n",
    "The georeferencing information is given by the **transform** and **crs** properties. The transform property described an affine transformation. Derived from transformation is the **bounds** property, from which we compute the extent parameter for matplotlib's `imshow`\n",
    "```\n",
    "extent = [ src.bounds.left ,  src.bounds.right ,  src.bounds.bottom ,  src.bounds.top ]\n",
    "\n",
    "```\n",
    "The bounds and extent are"
   ]
  },
  {
   "cell_type": "code",
   "execution_count": null,
   "metadata": {
    "scrolled": true
   },
   "outputs": [],
   "source": [
    "print(src.bounds)"
   ]
  },
  {
   "cell_type": "code",
   "execution_count": null,
   "metadata": {},
   "outputs": [],
   "source": [
    "extent = [ src.bounds.left ,  src.bounds.right ,  src.bounds.bottom ,  src.bounds.top ]\n",
    "print(extent)"
   ]
  },
  {
   "cell_type": "markdown",
   "metadata": {},
   "source": [
    "The coordinate reference system (CRS) for the the coordinates is given by the **crs** attribute. "
   ]
  },
  {
   "cell_type": "code",
   "execution_count": null,
   "metadata": {},
   "outputs": [],
   "source": [
    "print(type(src.crs))\n",
    "print(src.crs)"
   ]
  },
  {
   "cell_type": "markdown",
   "metadata": {},
   "source": [
    "Rasterio follows pyproj and uses PROJ.4 syntax in dict form as its native CRS syntax. \n",
    "The WKT representation of the CRS is given by the CRS class’s wkt attribute.\n",
    "```\n",
    "src.crs.wkt\n",
    "```\n",
    "Rasterio uses under the hood the `pyproj` module, which provides a interface to the `PROJ`  generic coordinate transformation software that transforms geospatial coordinates from one coordinate reference system (CRS) to another. This includes cartographic projections as well as geodetic transformations, see https://proj.org/ ."
   ]
  },
  {
   "cell_type": "code",
   "execution_count": null,
   "metadata": {
    "scrolled": true
   },
   "outputs": [],
   "source": [
    "print(src.crs.wkt)"
   ]
  },
  {
   "cell_type": "markdown",
   "metadata": {},
   "source": [
    "This UTM (Universal Transverse Mercator) zone 30N that is used for mapping areas in the Northern Hemisphere between 6 and 0 degrees West, with central meridian 3 degrees West."
   ]
  },
  {
   "cell_type": "markdown",
   "metadata": {},
   "source": [
    "### Read the NDVI data\n",
    "\n",
    "The `read()` method returns for our dataset a Numpy 3-D array, with on the first axis (axis=0) are 33 bands, followed by 800 rows (axis=1)  and 866 columns (axis=2)."
   ]
  },
  {
   "cell_type": "code",
   "execution_count": null,
   "metadata": {
    "scrolled": true
   },
   "outputs": [],
   "source": [
    "# Read the NDVI data\n",
    "NDVI = src.read()\n",
    "print('NDVI shape',NDVI.shape)"
   ]
  },
  {
   "cell_type": "markdown",
   "metadata": {},
   "source": [
    "Data from a raster band can also be accessed by the band’s index number. Following the GDAL convention, bands are indexed from 1. The result is a 2-D array."
   ]
  },
  {
   "cell_type": "code",
   "execution_count": null,
   "metadata": {
    "scrolled": true
   },
   "outputs": [],
   "source": [
    "print('Indexes',src.indexes)\n",
    "band1 = src.read(1)\n",
    "print('Band-1 shape',band1.shape)"
   ]
  },
  {
   "cell_type": "markdown",
   "metadata": {},
   "source": [
    "### Spatial indexing\n",
    "\n",
    "Datasets have an **index()** method for getting the array indices corresponding to points in georeferenced space. To get the value for the pixel 10 kilometers east and 5 kilometers south of the dataset’s upper left corner, do the following"
   ]
  },
  {
   "cell_type": "code",
   "execution_count": null,
   "metadata": {},
   "outputs": [],
   "source": [
    "x, y = (src.bounds.left + 10000, src.bounds.top - 5000)\n",
    "row, col = src.index(x, y)\n",
    "print('row, col',row,col)\n",
    "\n",
    "value = band1[row, col]\n",
    "print('value Band-1',value)\n",
    "\n",
    "values = NDVI[:,row,col]\n",
    "print('all NDVI values',values)"
   ]
  },
  {
   "cell_type": "markdown",
   "metadata": {},
   "source": [
    "To get the spatial coordinates of a pixel, use the dataset’s **xy()** method. The coordinates of the center of the image can be computed like this"
   ]
  },
  {
   "cell_type": "code",
   "execution_count": null,
   "metadata": {},
   "outputs": [],
   "source": [
    "x, y = src.xy(src.height // 2, src.width // 2)\n",
    "print('x, y',x,y)"
   ]
  },
  {
   "cell_type": "markdown",
   "metadata": {},
   "source": [
    "## Prepare date information\n",
    "\n",
    "The date when the images were taken is provided in the csv file `NDVI_BXII_time_series_images_list.csv`. \n",
    "The date is not part of the GeoTIFF file, so this is provided in a separate csv file.\n",
    "\n",
    "The csv file is read using `read_csv()` from `pandas`. The csv-file contains the band, the date, sequential day number starting with 1 for the first image, and the day of year. The first image was taken on 12 April 2017.\n",
    "\n",
    "Three arrays with date information are provided\n",
    "\n",
    "- the 1-D array *ts* with the day number (day 1 is the 12 April 2017)\n",
    "- the 1-D array *tsdatestrings* with the formatted ISO date (yyyy-mm-dd)\n",
    "- the 1-D array *tsdoy* with the day of the year\n"
   ]
  },
  {
   "cell_type": "code",
   "execution_count": null,
   "metadata": {},
   "outputs": [],
   "source": [
    "# Read dates using Panda\n",
    "datetable = pd.read_csv(path + Datefile) \n",
    "\n",
    "# Preview the first 5 lines of the loaded dates \n",
    "datetable.head()\n",
    "\n",
    "# Preview the data types\n",
    "print(datetable.dtypes)\n",
    "\n",
    "# Convert to 1-D numpy arrays \n",
    "ts = np.array(datetable.Day) \n",
    "tsdatestrings = np.array(datetable.ISOdate)\n",
    "tsdoy = np.array(datetable.Doy)\n",
    "print('ts',ts)\n",
    "print('tsdatestrings',tsdatestrings)\n",
    "print('tsdoy',tsdoy)"
   ]
  },
  {
   "cell_type": "markdown",
   "metadata": {},
   "source": [
    "There is also a mat file with the dates that can be used instead of the csv file (you may skip this part)."
   ]
  },
  {
   "cell_type": "code",
   "execution_count": null,
   "metadata": {},
   "outputs": [],
   "source": [
    "ts = loadmat(path + 'ts.mat')['ts']\n",
    "ts = np.squeeze(ts)\n",
    "\n",
    "tsdates = (date.toordinal(date(2017, 4, 12)) + 366) + ts - 1\n",
    "tsdatestrings = []\n",
    "for tsdate in tsdates:\n",
    "   tsdatestrings.append( datetime.fromordinal(tsdate - 366).strftime('%Y-%m-%d') )\n",
    "\n",
    "print('ts',ts)\n",
    "print('tsdates',tsdates)\n",
    "print('tsdatestrings',tsdatestrings)"
   ]
  },
  {
   "cell_type": "markdown",
   "metadata": {},
   "source": [
    "## Scaled image plot of NDVI for the first day\n",
    "\n",
    "To plot the NDVI for the first day we are going to use matplotlib's `imshow` method to make a pseudo-color map. A good colormap for the NDVI is essential! It is up to you to come up with a good colormap for the NDVI, taking into account the lessons learned from Exercise 1 and 2. "
   ]
  },
  {
   "cell_type": "markdown",
   "metadata": {},
   "source": [
    "### Colormap selection\n",
    "\n",
    "Start by formulating the requirements for the color map. What kind of color map should we select? What is the range? Do we use a linear map, is it continuous or discrete, do we use two tones?  What kind of normalization are we going to use?\n",
    "In any case, the default color map is certainly not a good choice. Why?\n",
    "\n",
    "Have a look for instance at the following article  https://publiclab.org/notes/cfastie/08-26-2014/new-ndvi-colormap to get some inspiration.\n",
    "\n",
    "In the section below we set the `cmap` variable with the colormap.\n",
    "\n",
    "In Python you can read the text file or `mat` file and create the colormap using `matplotlib.colors.ListedColormap`. See also Exercise 1 and 2.\n",
    "```python\n",
    "cmapTable = scipy.io.loadmat('file.mat')['colors']\n",
    "cmap = colors.ListedColormap(data/255)\n",
    "```\n",
    "You can then declare this new colormap in the `imshow` function by declaring the input as `cmap = cmap`"
   ]
  },
  {
   "cell_type": "code",
   "execution_count": null,
   "metadata": {},
   "outputs": [],
   "source": [
    "# SELECT APPROPRIATE COLORMAP FOR NDVI \n",
    "cmap = 'viridis'    # default colormap for matplotlib, change this for something better!!\n",
    "# data = loadmat(path + 'a_better_NDVI_colormap.mat')['data']\n",
    "# cmap = colors.ListedColormap(data/255)\n",
    "# END COLORMAP SELECTION\n",
    "clim = [-1 , 1]     # NDVI range"
   ]
  },
  {
   "cell_type": "markdown",
   "metadata": {},
   "source": [
    "### Plot first day with imshow\n",
    "\n",
    "First we compute the *extent* for the dataset, converting meters to km. Then we plot the data using `imshow`"
   ]
  },
  {
   "cell_type": "code",
   "execution_count": null,
   "metadata": {},
   "outputs": [],
   "source": [
    "extent = np.array([ src.bounds.left ,  src.bounds.right ,  src.bounds.bottom ,  src.bounds.top ]) / 1000\n",
    "print('extent',extent)"
   ]
  },
  {
   "cell_type": "code",
   "execution_count": null,
   "metadata": {},
   "outputs": [],
   "source": [
    "%matplotlib inline\n",
    "\n",
    "band = 0\n",
    "\n",
    "plt.figure(figsize=(8, 8))\n",
    "fig = plt.imshow(NDVI[band, :, :], extent=extent, cmap=cmap, clim=clim)\n",
    "plt.title('NDVI 2017-04-12')\n",
    "plt.title('NDVI ' + tsdatestrings[band] + ' DAY ' + str(int(ts[band])))\n",
    "plt.ylabel('North [km]')\n",
    "plt.xlabel('East [km]')\n",
    "plt.colorbar(label='NDVI [-]', fraction=0.0417, pad=0.06)\n",
    "plt.show()"
   ]
  },
  {
   "cell_type": "markdown",
   "metadata": {},
   "source": [
    "## Create a video with the unfiltered NDVI data\n",
    "\n",
    "A video is created showing the (unfiltered) NDVI data. We use `imshow` to  display matrix NDVI(i,:,:) as an image for day *i*, using the colormap of your choice (see previous section).\n",
    "\n",
    "The figure statetement is called only once, imshow is called from within the loop over days, and the output is appended to the list of frames.\n",
    "\n",
    "There are several ways to display the animation from a notebook,\n",
    "\n",
    "- show the animation in a separate window using qt (`%matplotlib qt`)\n",
    "- show the animation in a qt window inside the notebook  (`%matplotlib notebook`)\n",
    "- show the animation inline usign html5 (`%matplotlib inline` with html5 lines uncommented)\n",
    "\n",
    "If you are using JupyterLab then inline with html5 will work.\n",
    "\n",
    "You can also save the animation as either a mpeg file or an animated gif (both are commented out at the moment)."
   ]
  },
  {
   "cell_type": "code",
   "execution_count": null,
   "metadata": {},
   "outputs": [],
   "source": [
    "# %matplotlib qt        # for using Qt\n",
    "# %matplotlib notebook  # for Qt inline in notebook\n",
    "# %matplotlib inline    # for inline html5\n",
    "%matplotlib notebook\n",
    "\n",
    "fig, ax=plt.subplots(figsize=(10,8))\n",
    "\n",
    "# frames is a list of lists, each row is a list of artists to draw in the current frame; \n",
    "# here we are just animating one artist, the image, in each frame\n",
    "frames = []\n",
    "ndates = NDVI.shape[0]\n",
    "for i in range(ndates):\n",
    "    titlestr = 'NDVI ' + tsdatestrings[i] + ' DAY ' + str(int(ts[i]))   #     title = Add your title here\n",
    "    im = ax.imshow(NDVI[i, :, :], extent=extent, aspect='equal', cmap=cmap, clim=clim, animated=True) #     im = Add your images here\n",
    "    title = ax.text(0.5, 1.05, titlestr, size=plt.rcParams[\"axes.titlesize\"], ha=\"center\", transform=ax.transAxes, animated=True)\n",
    "    frames.append([im, title])\n",
    "\n",
    "plt.ylabel('North [km]')\n",
    "plt.xlabel('East [km]')\n",
    "fig.colorbar(im, ax=ax, label='NDVI [-]', fraction=0.0417, pad=0.06)\n",
    "\n",
    "ani = animation.ArtistAnimation(fig, frames, interval=300, blit=False, repeat_delay=500)\n",
    "\n",
    "#from IPython.display import HTML     # uncomment for inline html5\n",
    "#HTML(ani.to_html5_video())\n",
    "\n",
    "#ani.save('NDDVI_unfiltered.mp4')\n",
    "#ani.save('NDDVI_unfiltered.gif')\n"
   ]
  },
  {
   "cell_type": "markdown",
   "metadata": {},
   "source": [
    "Explain what you are seeing."
   ]
  },
  {
   "cell_type": "markdown",
   "metadata": {},
   "source": [
    "## Subplots\n",
    "\n",
    "Instead of an animation it is sometimes better to show the images from several dates together in subplots"
   ]
  },
  {
   "cell_type": "code",
   "execution_count": null,
   "metadata": {},
   "outputs": [],
   "source": [
    "%matplotlib inline\n",
    "ndates = NDVI.shape[0]\n",
    "\n",
    "ncols = 5\n",
    "nrows = int(np.ceil(ndates/ncols))\n",
    "\n",
    "fig, axs = plt.subplots(nrows, ncols, figsize=(21,27), tight_layout=True)\n",
    "axs= axs.flat\n",
    "[axi.set_axis_off() for axi in axs]\n",
    "\n",
    "for i in range(ndates):\n",
    "    titlestr = 'NDVI ' + tsdatestrings[i] + ' DAY ' + str(int(ts[i]))\n",
    "    axs[i].imshow(NDVI[i, :, :], extent=extent, aspect='equal', cmap=cmap, clim=clim)\n",
    "    axs[i].set_xticks([])\n",
    "    axs[i].set_yticks([])\n",
    "    axs[i].set_title(titlestr)\n",
    "\n",
    "plt.show()"
   ]
  },
  {
   "cell_type": "markdown",
   "metadata": {},
   "source": [
    "Using `show_hist` that comes with rasterio we can plot the histograms"
   ]
  },
  {
   "cell_type": "code",
   "execution_count": null,
   "metadata": {},
   "outputs": [],
   "source": [
    "%matplotlib inline\n",
    "\n",
    "from rasterio.plot import show_hist\n",
    "\n",
    "bins=np.arange(-1,1,.05)\n",
    "plt.show()\n",
    "show_hist(src, bins=bins, lw=0.0, stacked=False, alpha=0.3, histtype='stepfilled', title=\"Histogram\", label=\"NDVI\")\n",
    "plt.show()"
   ]
  },
  {
   "cell_type": "markdown",
   "metadata": {},
   "source": [
    "Or as subplots for the individual days"
   ]
  },
  {
   "cell_type": "code",
   "execution_count": null,
   "metadata": {},
   "outputs": [],
   "source": [
    "ndates = NDVI.shape[0]\n",
    "\n",
    "ncols = 5\n",
    "nrows = int(np.ceil(ndates/ncols))\n",
    "\n",
    "fig, axs = plt.subplots(nrows, ncols, figsize=(21,27))\n",
    "axs= axs.flat\n",
    "[axi.set_axis_off() for axi in axs]\n",
    "\n",
    "bins=np.arange(-1,1,.05)\n",
    "index=src.indexes\n",
    "\n",
    "for i in range(ndates):\n",
    "    titlestr = 'NDVI ' + tsdatestrings[i] + ' DAY ' + str(int(ts[i]))\n",
    "    id=index[i]\n",
    "    show_hist(src.read(id), ax=axs[i], bins=bins, lw=0.0, stacked=False, alpha=1, histtype='stepfilled',\n",
    "              title=\"Histogram\", label=\"NDVI\")\n",
    "    axs[i].set_xticks([])\n",
    "    axs[i].set_yticks([])\n",
    "    axs[i].set_title(titlestr)\n"
   ]
  },
  {
   "cell_type": "markdown",
   "metadata": {},
   "source": [
    "## Close a rasterio dataset\n",
    "\n",
    "As rasterio dataset are Python dataset object the can be closed. To close a dataset, call its close() method.\n",
    "```\n",
    "   src.close()\n",
    "```\n",
    "After it’s closed, data can no longer be read. However, data that is stored in N-D arrays will be still available."
   ]
  },
  {
   "cell_type": "code",
   "execution_count": null,
   "metadata": {},
   "outputs": [],
   "source": [
    "print('Closed?',src.closed)\n",
    "print(src)\n",
    "print(NDVI.shape)\n",
    "\n",
    "src.close()\n",
    "print('Closed?',src.closed)\n",
    "print(src)\n",
    "print(NDVI.shape)"
   ]
  },
  {
   "cell_type": "markdown",
   "metadata": {},
   "source": [
    "[End of this notebook]"
   ]
  }
 ],
 "metadata": {
  "celltoolbar": "Raw Cell Format",
  "kernelspec": {
   "display_name": "Python [conda env:simvis]",
   "language": "python",
   "name": "conda-env-simvis-py"
  },
  "language_info": {
   "codemirror_mode": {
    "name": "ipython",
    "version": 3
   },
   "file_extension": ".py",
   "mimetype": "text/x-python",
   "name": "python",
   "nbconvert_exporter": "python",
   "pygments_lexer": "ipython3",
   "version": "3.9.0"
  },
  "varInspector": {
   "cols": {
    "lenName": 16,
    "lenType": 16,
    "lenVar": 40
   },
   "kernels_config": {
    "python": {
     "delete_cmd_postfix": "",
     "delete_cmd_prefix": "del ",
     "library": "var_list.py",
     "varRefreshCmd": "print(var_dic_list())"
    },
    "r": {
     "delete_cmd_postfix": ") ",
     "delete_cmd_prefix": "rm(",
     "library": "var_list.r",
     "varRefreshCmd": "cat(var_dic_list()) "
    }
   },
   "types_to_exclude": [
    "module",
    "function",
    "builtin_function_or_method",
    "instance",
    "_Feature"
   ],
   "window_display": false
  }
 },
 "nbformat": 4,
 "nbformat_minor": 4
}
