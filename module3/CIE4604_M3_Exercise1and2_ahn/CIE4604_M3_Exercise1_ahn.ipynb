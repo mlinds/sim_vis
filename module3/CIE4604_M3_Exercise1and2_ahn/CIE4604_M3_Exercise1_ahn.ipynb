{
 "cells": [
  {
   "cell_type": "markdown",
   "metadata": {},
   "source": [
    "#### CIE4604 Simulation and Visualization\n",
    "\n",
    "# Module 3 2.5D Visualization - Exercise 1 (Dutch Elevation Model)\n",
    "\n",
    "**Hans van der Marel, 25 November 2021**\n",
    "\n",
    "In this exercise you are going to explore several options to do 2.5D visualizations in Python. The data which we will be using is 100 meter resolution data from the *Actueel Hoogtebestand Nederland* (AHN-1), integrated with Bathemetric data, to cover the rivers, lakes and the Dutch coast. "
   ]
  },
  {
   "cell_type": "markdown",
   "metadata": {},
   "source": [
    "## Import the libraries\n",
    "\n",
    "For the visualization we use `matplotlib.pyplot`. The Dutch elevation model with AHN and bathymetric data is provided as an NetCDF file. To read the NetCDF we need to import `netCDF4` module. We will be using `numpy` as well, so this is another import.\n",
    "\n",
    "If the netCDF4 module is not installed, do `conda install netCDF4` from the command line first."
   ]
  },
  {
   "cell_type": "code",
   "execution_count": null,
   "metadata": {},
   "outputs": [],
   "source": [
    "# Importing the libraries\n",
    "import matplotlib.pyplot as plt\n",
    "import numpy as np\n",
    "import netCDF4 as nc"
   ]
  },
  {
   "cell_type": "markdown",
   "metadata": {},
   "source": [
    "The elevation dataset is given in an NetCDF file with the name `mv100.nc`\n",
    "\n",
    "The first thing to do is to find out the names of the variables used within this NetCDF file. To learn more about what is possible with the NetCDF module we could do a  `help(nc)` or `nc?`, but these command provide us with a bit too much information. You can find the documentation also here http://unidata.github.io/netcdf4-python , but much more useful is to have a look at the examples find here https://nbviewer.jupyter.org/github/Unidata/netcdf4-python/blob/master/examples/reading_netCDF.ipynb .\n",
    "\n",
    "First, let read the netCDF dataset into a Python object, and print it:"
   ]
  },
  {
   "cell_type": "code",
   "execution_count": null,
   "metadata": {
    "scrolled": true
   },
   "outputs": [],
   "source": [
    "# Read the data\n",
    "grid = nc.Dataset('mv100.nc')\n",
    "print('mv100',grid)"
   ]
  },
  {
   "cell_type": "markdown",
   "metadata": {},
   "source": [
    "This gives us already some useful information. What you see here are\n",
    "\n",
    "- the global attributes,\n",
    "- the dimensions, and\n",
    "- the variable names\n",
    "\n",
    "Which variable name contains the height information do you think (surprise...)? What are the other variables? Which type and dimensions do the variables have?\n",
    "\n",
    "More information can be obtained using either one of the following commands. \n",
    "```Python\n",
    "print('All dimensions', grid.dimensions)\n",
    "print('All variables', grid.variable)\n",
    "print('Depth', grid.variable['<variablename>'])\n",
    "```\n",
    "Try them out."
   ]
  },
  {
   "cell_type": "code",
   "execution_count": null,
   "metadata": {
    "scrolled": true
   },
   "outputs": [],
   "source": []
  },
  {
   "cell_type": "markdown",
   "metadata": {},
   "source": [
    "Retrieve in this way the information for the 'depth' and 'epsg' variables...\n",
    "\n",
    "What do these contain? Which map projection is used, and what does this tell us about the 'x' and 'y' coordinates? What is the *EPSG_code* of the projection and are the *proj4_parameters* used for?"
   ]
  },
  {
   "cell_type": "code",
   "execution_count": null,
   "metadata": {
    "scrolled": true
   },
   "outputs": [],
   "source": []
  },
  {
   "cell_type": "code",
   "execution_count": null,
   "metadata": {},
   "outputs": [],
   "source": []
  },
  {
   "cell_type": "markdown",
   "metadata": {},
   "source": [
    "What is the difference between the following command\n",
    "```Python\n",
    "z = grid.variables['depth']\n",
    "z = grid.variables['depth'][:]\n",
    "```\n",
    "Find this out by printing the result.\n",
    "\n",
    "Compute also the mean elevation for the dataset."
   ]
  },
  {
   "cell_type": "code",
   "execution_count": null,
   "metadata": {},
   "outputs": [],
   "source": [
    "z = grid.variables['depth']\n",
    "print('z',z)\n",
    "print('z[:]',z[:])"
   ]
  },
  {
   "cell_type": "code",
   "execution_count": null,
   "metadata": {},
   "outputs": [],
   "source": [
    "z = grid.variables['depth'][:]\n",
    "print('Mean elevation [m]',np.mean(z))"
   ]
  },
  {
   "cell_type": "markdown",
   "metadata": {},
   "source": [
    "## Display height (depth) information using `imshow`\n",
    "\n",
    "Display the height (depth) information using `imshow` from `matplotlib`. For this plot\n",
    "\n",
    "- set the aspect ratio so that x- and y-increments are equal in size (axis equal),\n",
    "- set the axis limits to the range of the data (axis tight),\n",
    "- add a color bar with the appropriate label,\n",
    "- use proper labels for the axis and title of the plot\n",
    "\n",
    "Any surprises?"
   ]
  },
  {
   "cell_type": "code",
   "execution_count": null,
   "metadata": {},
   "outputs": [],
   "source": [
    "# Plot using imshow\n",
    "fig, ax = plt.subplots(1, 1, figsize=(10, 8))\n",
    "plt.imshow(z)\n",
    "plt.colorbar(label='NAP Height [m]')\n",
    "ax.axis('equal')\n",
    "ax.axis('tight')\n",
    "plt.title('Digital Elevation Model for the Nederlands')\n",
    "plt.xlabel('x-idx [-]')\n",
    "plt.ylabel('y-idx [-]')\n",
    "plt.show()"
   ]
  },
  {
   "cell_type": "markdown",
   "metadata": {},
   "source": [
    "Impressed? Probably not... What can be done to improve?\n",
    "\n",
    "- From the netCDF information we know depth is given as depth(x,y), so the the columns are running along the x-axis and row along the y-axis. Let try to transpose the matrix, that could help\n",
    "- The colors are very flat. This is because the height/depth range is between -60 and + 330 m, though most of the values will be around the mean value. Try `plt.clim(zlow, zhigh)` to obtain a better presentation\n",
    "- Try a different colormap, we come back to this\n",
    "- The x- and y-coordinates are just indices to the depth matrix, not real X- and Y-coordinates, we have to change this\n",
    "\n",
    "First things first, lets get the orientation right and experiment with `clim`. What would be good values for `clim` and what are the drawbacks of using `clim`?\n",
    "\n",
    "Next try out some different colormaps. To set the colormap do something like this\n",
    "```Python\n",
    "cmap = plt.get_cmap('jet')\n",
    "plt.imshow( ... , cmap=cmap)\n",
    "```\n",
    "For the available colormaps see https://matplotlib.org/tutorials/colors/colormaps.html . There's is a lot, but what would be a good colormap for the Netherlands? For now try out `jet` and `terrain`.\n",
    "\n",
    "Don't spend too much time on it, it will be difficult to get it right with the standard colormaps. We will come back to this issue in more detail later."
   ]
  },
  {
   "cell_type": "code",
   "execution_count": null,
   "metadata": {},
   "outputs": [],
   "source": []
  },
  {
   "cell_type": "markdown",
   "metadata": {},
   "source": [
    "Before continuing with the colormaps, there is still the problem of the X- and Y-coordinates: `imshow` displays the index of the x- and y-axis. What we want is to see the RD-coordinates. We can use the `extent=[x_min, x_max, y_min, y_max]` of `imshow` to get the axis ticks right in `imshow`. This assumes we have regular grids, which use the same increments for the x- and/or y-axis.  \n",
    "\n",
    "The example code is included below, note the use of `aspect='equal'` in `imshow` and the impact it has on the shape of the Netherlands."
   ]
  },
  {
   "cell_type": "code",
   "execution_count": null,
   "metadata": {},
   "outputs": [],
   "source": [
    "# Get the x, y and z data from the netCDF\n",
    "x = grid.variables['x'][:]\n",
    "y = grid.variables['y'][:]\n",
    "z = grid.variables['depth'][:]\n",
    "\n",
    "# Get the extend of the x- and y-range,so that we can set extent in imshow to display the correct x- and y-ticks\n",
    "extent = [np.min(x)/1000 , np.max(x)/1000, np.min(y)/1000 , np.max(y)/1000]\n",
    "\n",
    "# Plot using imshow\n",
    "fig, ax = plt.subplots(1, 1, figsize=(10, 8))\n",
    "cmap = plt.get_cmap('terrain')\n",
    "plt.imshow(z.T, cmap=cmap, aspect='equal', extent=extent)\n",
    "plt.colorbar(label='NAP Height [m]')\n",
    "plt.clim(-3,100)  \n",
    "plt.title('Digital Elevation Model for the Nederlands')\n",
    "plt.xlabel('X-RD [km]')\n",
    "plt.ylabel('Y-RD [km]')\n",
    "plt.show()"
   ]
  },
  {
   "cell_type": "markdown",
   "metadata": {},
   "source": [
    "## Display height (depth) information using `pcolormesh`¶\n",
    "\n",
    "In the previous section we used the `extent=[x_min, x_max, y_min, y_max]` of `imshow` to get the axis ticks right. This is only possible for regular grids which use the same increments for the x- and/or y-axis. When the increments are not the same you can use `pcolormesh` for creating a pseudo color plot instead of `imshow` (which is only for images).\n",
    "\n",
    "`pcolormesh` has two additional inut arguments, the x- and y-coordinate. The column index of the matrix corresponds to the x-coordinate, and the row index corresponds to y, so we still have to transpose of flip the axis. \n",
    "\n",
    "If x and/or y are 1-D arrays or column vectors they will be expanded as needed into the appropriate 2-D arrays, making a rectangular grid.\n",
    "\n",
    "For non-regular rectangular grids x and/or y are 2-D arrays.\n",
    "\n",
    "Make the plot again, but now with the proper x- and y coordinates, using `pcolormesh`. Start by retrieving the x- and y-coordinates from the netCDF file. "
   ]
  },
  {
   "cell_type": "code",
   "execution_count": null,
   "metadata": {},
   "outputs": [],
   "source": [
    "# Get the x, y and z data from the netCDF\n",
    "x = grid.variables['x'][:]\n",
    "y = grid.variables['y'][:]\n",
    "z = grid.variables['depth'][:]\n",
    "\n",
    "print('x',x.shape)\n",
    "print('y',y.shape)\n",
    "print('z',z.shape)\n",
    "\n",
    "# Plot using matplotlib.pcolormesh\n",
    "%matplotlib inline\n",
    "#%matplotlib qt\n",
    "fig, ax = plt.subplots(1, 1, figsize=(10, 8))\n",
    "cmap = plt.get_cmap('terrain')\n",
    "plt.pcolormesh(x / 1000, y / 1000, z.T, cmap=cmap, shading='nearest')\n",
    "plt.colorbar(label='NAP Height [m]')\n",
    "plt.clim(-3, 100)\n",
    "ax.axis('equal')\n",
    "plt.title('Digital Elevation Model for the Nederlands')\n",
    "plt.xlabel('X-RD [km]')\n",
    "plt.ylabel('Y-RD [km]')\n",
    "plt.show()"
   ]
  },
  {
   "cell_type": "markdown",
   "metadata": {},
   "source": [
    "There is one new option that was used, `shading='nearest'`. This has to do how the coordinates are defined. If `shading='flat'`, the default, the coordinates are the corners of each mesh, \n",
    "```\n",
    "(X[i+1, j], Y[i+1, j])       (X[i+1, j+1], Y[i+1, j+1])\n",
    "                      +-----+\n",
    "                      |     |\n",
    "                      +-----+\n",
    "    (X[i, j], Y[i, j])       (X[i, j+1], Y[i, j+1])\n",
    "```\n",
    "In this case the dimensions of X and Y should be one greater than those of the data. If X, Y and the data have equal dimensions a warning will be raised. If `shading='nearest'`, `shading='gouraud'` or `shading='auto'`, the dimensions of X and Y should be the same as those of the data. For 'nearest' the data[i,j] is centered on (X[i, j], Y[i, j]). For 'gouraud', a smooth interpolation is caried out between the quadrilateral corners.\n"
   ]
  },
  {
   "cell_type": "markdown",
   "metadata": {},
   "source": [
    "Repeat the same plot, but now use Qt for the display instead of inline plot. You can do this by adding\n",
    "```\n",
    "%matplotlib qt\n",
    "```\n",
    "to the code. The main advantage of using Qt is that this allows you to interactivily change properties, including the colormap, zoom in/out, save, etc.\n",
    "\n",
    "You can also do this by uncommenting the line in the previous code cell."
   ]
  },
  {
   "cell_type": "markdown",
   "metadata": {},
   "source": [
    "## Getting the colormap right ...\n",
    "\n",
    "Matplotlib (and Matlab) objects that use colormaps by default linearly map the colors in the colormap from data values *vmin* to *vmax*. This mapping is done in two steps,\n",
    "\n",
    "- a normalization from the input data to \\[0, 1\\] first,\n",
    "- then mapping onto the indices in the colormap.\n",
    "\n",
    "Normalizations are actually classes defined in the `matplotlib.colors()` module. The default, linear normalization is `matplotlib.colors.Normalize()`. See also https://matplotlib.org/3.3.3/api/colors_api.html .\n",
    "\n",
    "To get the colormap right we need to know how the heights/depths are distributed, so that these can be sensibly *distributed* over the interval \\[0,1\\], and then mapped to colors using the colormap.\n",
    "\n",
    "For starters, we are going to make an histogram of the height/depth data"
   ]
  },
  {
   "cell_type": "code",
   "execution_count": null,
   "metadata": {},
   "outputs": [],
   "source": [
    "# histogram of the data\n",
    "hist, bin_edges = np.histogram(z[:], np.arange(-61,324,1), range=(-61, 334), density=False)\n",
    "\n",
    "# plot the histogram\n",
    "plt.figure(figsize=(10,5), tight_layout=True)\n",
    "plt.subplot(1, 2, 1)\n",
    "plt.bar(bin_edges[0:-1], hist, align='edge')\n",
    "plt.xlabel('Height/depth [m]')\n",
    "plt.ylabel('Count [-]')\n",
    "plt.title('Histogram height/depth values in mv100.nc')\n",
    "\n",
    "# histogram of the data\n",
    "hist, bin_edges = np.histogram(z[:], np.arange(-10,50,1), range=(-61, 334), density=False)\n",
    "\n",
    "# plot the histogram\n",
    "plt.subplot(1, 2, 2)\n",
    "plt.bar(bin_edges[0:-1], hist, align='edge')\n",
    "plt.xlabel('Height/depth [m]')\n",
    "plt.ylabel('Count [-]')\n",
    "plt.title('Detail ...')\n",
    "\n",
    "plt.show()"
   ]
  },
  {
   "cell_type": "markdown",
   "metadata": {},
   "source": [
    "It makes sense to use more colors for heights with occur more often, and less for height that are less frequent.\n",
    "\n",
    "There are two ways to do this\n",
    "\n",
    "1. Make a new colormap\n",
    "2. Use a differnt normalization\n",
    "\n",
    "#### Make your own colormap\n",
    "\n",
    "One way to do this is by making our own colormap.  In the past I made a color map in Matlab that better fits the data. Let's load this map.\n",
    "\n",
    "We need to import `loadmat` from `scipy` and `matplotlib.colors` for the colormap support.\n",
    "\n",
    "The colormap is read from a matlab mat file, it has three columns, with respectively the RGB values, and 256 values (different colors). The map is converted to a Python colormap using `ListedColormap`. We also plot the RGB values to see what is in the map.\n",
    "\n",
    "See https://matplotlib.org/3.3.3/tutorials/colors/colormap-manipulation.html for all available option of creating your own colormaps."
   ]
  },
  {
   "cell_type": "code",
   "execution_count": null,
   "metadata": {},
   "outputs": [],
   "source": [
    "# Using scipy to load mat file\n",
    "from scipy.io import loadmat\n",
    "from matplotlib.colors import ListedColormap\n",
    "\n",
    "bathymap = loadmat('bathymap.mat')\n",
    "bathymap = bathymap['bathymap']\n",
    "cmapBathy = ListedColormap(bathymap)\n",
    "\n",
    "plt.figure()\n",
    "plt.plot(bathymap[:,0], color='r', label='red')\n",
    "plt.plot(bathymap[:,1], color='g', label='green')\n",
    "plt.plot(bathymap[:,2], color='b', label='blue')\n",
    "plt.xlabel('index')\n",
    "plt.ylabel('RGB [-]')\n",
    "plt.title('Bathymap')\n",
    "plt.legend()\n",
    "plt.show()\n"
   ]
  },
  {
   "cell_type": "markdown",
   "metadata": {},
   "source": [
    "Below is the result of my Matlab brew map. I'm sure you can do better than this!! "
   ]
  },
  {
   "cell_type": "code",
   "execution_count": null,
   "metadata": {},
   "outputs": [],
   "source": [
    "x = grid.variables['x'][:]\n",
    "y = grid.variables['y'][:]\n",
    "z = grid.variables['depth'][:]\n",
    "\n",
    "# Get the extend of the x- and y-range,so that we can set extent in imshow to display the correct x- and y-ticks\n",
    "extent = [np.min(x)/1000 , np.max(x)/1000, np.min(y)/1000 , np.max(y)/1000]\n",
    "\n",
    "# Plot using matplotlib.imshow (or pcolormesh)\n",
    "fig, ax = plt.subplots(1, 1, figsize=(10, 8))\n",
    "#plt.pcolormesh(x / 1000, y / 1000, z.T, cmap=cmapBathy, shading='nearest')\n",
    "plt.imshow(z.T, cmap=cmapBathy, aspect='equal', extent=extent)\n",
    "plt.colorbar(label='NAP Height [m]')\n",
    "plt.title('Digital Elevation Model for the Nederlands')\n",
    "plt.xlabel('X-RD [km]')\n",
    "plt.ylabel('Y-RD [km]')\n",
    "plt.show()"
   ]
  },
  {
   "cell_type": "markdown",
   "metadata": {},
   "source": [
    "#### Use a different normalization\n",
    "\n",
    "Matplotlib (and Matlab) objects that use colormaps by default linearly map the colors in the colormap from data values vmin to vmax. Several alternatives are discussed in the documentation at https://matplotlib.org/3.3.3/tutorials/colors/colormapnorms.html .\n",
    "\n",
    "\n",
    "The Normalize instance scales the data values to the canonical colormap range [0, 1] for mapping to colors. By default, the data range is mapped to the colorbar range using linear scaling. Alternatives are logarithmic scaling, a powerlaw or discrete bounds. \n",
    "\n",
    "**It is left as an exercise to try this our yourself.**\n",
    "\n",
    "Do this, you will need to get some practice for the assignment when you need to find a good colormap for the NDVI."
   ]
  },
  {
   "cell_type": "code",
   "execution_count": null,
   "metadata": {},
   "outputs": [],
   "source": [
    "# Try out the normilization options yourself"
   ]
  },
  {
   "cell_type": "markdown",
   "metadata": {},
   "source": [
    "There are also some hints in the next exercise."
   ]
  },
  {
   "cell_type": "markdown",
   "metadata": {},
   "source": [
    "[End of this notebook]"
   ]
  }
 ],
 "metadata": {
  "kernelspec": {
   "display_name": "Python [conda env:simvis]",
   "language": "python",
   "name": "conda-env-simvis-py"
  },
  "language_info": {
   "codemirror_mode": {
    "name": "ipython",
    "version": 3
   },
   "file_extension": ".py",
   "mimetype": "text/x-python",
   "name": "python",
   "nbconvert_exporter": "python",
   "pygments_lexer": "ipython3",
   "version": "3.9.0"
  },
  "varInspector": {
   "cols": {
    "lenName": 16,
    "lenType": 16,
    "lenVar": 40
   },
   "kernels_config": {
    "python": {
     "delete_cmd_postfix": "",
     "delete_cmd_prefix": "del ",
     "library": "var_list.py",
     "varRefreshCmd": "print(var_dic_list())"
    },
    "r": {
     "delete_cmd_postfix": ") ",
     "delete_cmd_prefix": "rm(",
     "library": "var_list.r",
     "varRefreshCmd": "cat(var_dic_list()) "
    }
   },
   "position": {
    "height": "514.85px",
    "left": "1526px",
    "right": "20px",
    "top": "164px",
    "width": "367px"
   },
   "types_to_exclude": [
    "module",
    "function",
    "builtin_function_or_method",
    "instance",
    "_Feature"
   ],
   "window_display": true
  }
 },
 "nbformat": 4,
 "nbformat_minor": 4
}
