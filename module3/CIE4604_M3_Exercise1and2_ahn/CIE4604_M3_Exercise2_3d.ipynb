{
 "cells": [
  {
   "cell_type": "markdown",
   "metadata": {},
   "source": [
    "#### CIE4604 Simulation and Visualization\n",
    "\n",
    "# Module 3 2.5D Visualization - Exercise 2 (Relief, Contour and Surface plots)\n",
    "\n",
    "**Hans van der Marel, 26 November 2021**\n",
    "\n",
    "In this exercise you are going to explore several other options to do 2.5D visualizations in Python, these include adding relief, making contour maps and 3D surface plots. The data which we will be using is a *crop* of the 100 meter resolution data from the *Actueel Hoogtebestand Nederland* (AHN-1), integrated with Bathemetric data, to cover the rivers, lakes and the Dutch coast."
   ]
  },
  {
   "cell_type": "markdown",
   "metadata": {},
   "source": [
    "## Import the necesary modules\n",
    "\n",
    "For the visualization we use again `matplotlib.pyplot`, the NetCDF `netCDF4` module to read the netCDF file with DEM data, and `numpy` for the general math."
   ]
  },
  {
   "cell_type": "code",
   "execution_count": 1,
   "metadata": {},
   "outputs": [],
   "source": [
    "# Importing the libraries\n",
    "import numpy as np\n",
    "import netCDF4 as nc\n",
    "import matplotlib.pyplot as plt"
   ]
  },
  {
   "cell_type": "markdown",
   "metadata": {},
   "source": [
    "## Read a data crop from netCDF file *mv100.nc* \n",
    "\n",
    "The elevation dataset is given in an NetCDF file `mv100.nc` which was used also in exercise 1. See exercise 1 to learn more about exploring and reading variables from a netCDF file.\n",
    "\n",
    "For this exercise we will be reading a subset, or crop, from the dataset. With netCDF this can be done without loading the full dataset in memory, suing the following code."
   ]
  },
  {
   "cell_type": "code",
   "execution_count": null,
   "metadata": {},
   "outputs": [],
   "source": [
    "# Create the grid object for the data\n",
    "grid = nc.Dataset('mv100.nc')\n",
    "# Retrieve a subset (crop) of the data\n",
    "xx = grid.variables['x'][1000:1500]\n",
    "yy = grid.variables['y'][500:1000]\n",
    "zz = grid.variables['depth'][1000:1500, 500:1000].T"
   ]
  },
  {
   "cell_type": "markdown",
   "metadata": {},
   "source": [
    "Notice that we transposed the height/depth data matrix *zz* directly while reading in order to get the axis alignment right. We can do a quick check with the `matplot` function"
   ]
  },
  {
   "cell_type": "code",
   "execution_count": null,
   "metadata": {},
   "outputs": [],
   "source": [
    "plt.matshow(zz)"
   ]
  },
  {
   "cell_type": "markdown",
   "metadata": {},
   "source": [
    "## Select colormap and color axis limits for pseudo-color plots\n",
    "\n",
    "In exercise 1 we experimented with the colormap and limits for the color axis. In this exercise we use the colormap that we decided upon in exercise 1, and adjust it to the z-data range in the subset. In the next code sections we\n",
    "\n",
    "1. make a histogram of the z-data,\n",
    "2. select the colormap and c-axis limits, and assign them to variables *cmap* and *clim* that will used throughtout,\n",
    "3. make a test plot, using `imshow` with our selection. \n",
    "\n",
    "We are also going to use the `extent=[x_min, x_max, y_min, y_max]` of `imshow` to get the axis ticks right in `imshow`. In this way  we can use `imshow` instead of `pcolormesh`. This is only possible for regular grids which use the same increments for the x- and/or y-axis.  "
   ]
  },
  {
   "cell_type": "code",
   "execution_count": null,
   "metadata": {},
   "outputs": [],
   "source": [
    "# histogram of the data\n",
    "hist, bin_edges = np.histogram(zz, np.arange(-40,20,1), range=(-40, 20), density=False)\n",
    "\n",
    "# plot the histogram\n",
    "plt.figure(figsize=(10,5), tight_layout=True)\n",
    "plt.bar(bin_edges[0:-1], hist, align='edge')\n",
    "plt.xlabel('Height/depth [m]')\n",
    "plt.ylabel('Count [-]')\n",
    "plt.title('Histogram height/depth values in the crop')\n",
    "plt.show()\n",
    "\n",
    "# plot the histogram\n",
    "#plt.figure(figsize=(10,5), tight_layout=True)\n",
    "#plt.hist(np.array(zz).flat, np.arange(-40,20,1), range=(-40, 20), density=False)\n",
    "#plt.xlabel('Height/depth [m]')\n",
    "#plt.ylabel('Count [-]')\n",
    "#plt.title('Histogram height/depth values in the crop')\n",
    "#plt.show()"
   ]
  },
  {
   "cell_type": "code",
   "execution_count": null,
   "metadata": {},
   "outputs": [],
   "source": [
    "# Select the colormap to use and c-axis limits \n",
    "#cmap = plt.cm.gist_earth    # colormap\n",
    "cmap = plt.cm.terrain        # colormap\n",
    "clim = (-10, 30)             # clim\n",
    "\n",
    "# Get the extend of the x- and y-range,so that we can set extent in imshow to display the correct x- and y-ticks\n",
    "extent = [np.min(xx)/1000 , np.max(xx)/1000, np.min(yy)/1000 , np.max(yy)/1000]"
   ]
  },
  {
   "cell_type": "markdown",
   "metadata": {},
   "source": [
    "The colormap is created as an object. The object *cmap* is a callable, when passed a float between 0 and 1, returns an RGBA (Red, Green, Blue, Alpha) value from the colormap."
   ]
  },
  {
   "cell_type": "code",
   "execution_count": null,
   "metadata": {},
   "outputs": [],
   "source": [
    "print(cmap)\n",
    "print(cmap(0.56))\n",
    "print(cmap(np.arange(0,1,.2)))"
   ]
  },
  {
   "cell_type": "markdown",
   "metadata": {},
   "source": [
    "The colormap is either class `ListedColormap` or `LinearSegmentedColormap`. Both map values between 0 and 1 to a bunch of colors. \n",
    "\n",
    "A `ListedColormap` is a lookup table which returns nearest-neighbor interpolated values. The list of colors that comprise the colormap can be directly accessed using the colors property, which returns a list is in the form of an RGBA Nx4 array, where N is the length of the colormap. To create a new listed colormap supply a list or array of color specifications to ListedColormap,\n",
    "```Python\n",
    "   cmap = ListedColormap([\"darkorange\", \"gold\", \"lawngreen\", \"lightseagreen\"])\n",
    "```\n",
    "Nearest-neighbor interpolation is used in the lookup, so this colormap give at most four colors when used. More useful for creating custom colormaps is to used Nx4 numpy arrays. In the following example we craft our own colormap\n",
    "```Python\n",
    "   N = 256\n",
    "   vals = np.ones((N, 4))\n",
    "   vals[:, 0] = np.linspace(90/256, 1, N)\n",
    "   vals[:, 1] = np.linspace(40/256, 1, N)\n",
    "   vals[:, 2] = np.linspace(40/256, 1, N)\n",
    "   newcmp = ListedColormap(vals)\n",
    "```\n",
    "An other example is to merge two existing colormaps\n",
    "```Python\n",
    "   top = cm.get_cmap('Oranges_r', 128)\n",
    "   bottom = cm.get_cmap('Blues', 128)\n",
    "   newcolors = np.vstack((top(np.linspace(0, 1, 128)),\n",
    "                       bottom(np.linspace(0, 1, 128))))\n",
    "   newcmp = ListedColormap(newcolors, name='OrangeBlue')\n",
    "```\n",
    "\n",
    "The `LinearSegmentedColormap` class specifies colormaps using anchor points between which RGB(A) values are interpolated.\n",
    "A such, linear segmented colormaps do not have a .colors attribute.\n",
    "Each anchor point is specified as a row in a matrix of the form *\\[x\\[i\\] yleft\\[i\\] yright\\[i\\]\\]*, where *x\\[i\\]* is the anchor, and *yleft\\[i\\]* and *yright\\[i\\]* are the values of the color on either side of the anchor point. This format allows discontinuities at the anchor points. If there are no discontinuities, then *yleft\\[i\\]=yright\\[i\\]*. \n",
    "An example is\n",
    "```Python\n",
    "cdict = {'red':   [[0.0,  0.0, 0.0],\n",
    "                   [0.5,  1.0, 1.0],\n",
    "                   [1.0,  1.0, 1.0]],\n",
    "         'green': [[0.0,  0.0, 0.0],\n",
    "                   [0.25, 0.0, 0.0],\n",
    "                   [0.75, 1.0, 1.0],\n",
    "                   [1.0,  1.0, 1.0]],\n",
    "         'blue':  [[0.0,  0.0, 0.0],\n",
    "                   [0.5,  0.0, 0.0],\n",
    "                   [1.0,  1.0, 1.0]]}\n",
    "newcmp = LinearSegmentedColormap('testCmap', segmentdata=cdict, N=256)\n",
    "```\n",
    "For some basic cases, the use of `LinearSegmentedColormap.from_list` may be easier. This creates a segmented colormap with equal spacings from a supplied list of colors,\n",
    "```Python\n",
    "   colors = [\"darkorange\", \"gold\", \"lawngreen\", \"lightseagreen\"]\n",
    "   cmap1 = LinearSegmentedColormap.from_list(\"mycmap\", colors)\n",
    "```\n",
    "If you don't want equal spacings, the nodes of the colormap can be given as numbers between 0 and 1. E.g. one could have the reddish part take more space in the colormap by specifying nodes as\n",
    "```Python\n",
    "   nodes = [0.0, 0.4, 0.8, 1.0]\n",
    "   cmap2 = LinearSegmentedColormap.from_list(\"mycmap\", list(zip(nodes, colors)))\n",
    "```"
   ]
  },
  {
   "cell_type": "code",
   "execution_count": null,
   "metadata": {},
   "outputs": [],
   "source": [
    "from matplotlib import colors\n",
    "\n",
    "# make a colormap that has land and water clearly delineated and of the\n",
    "# same length (256 + 256)\n",
    "colors_water = plt.cm.terrain(np.linspace(0, 0.17, 256))\n",
    "colors_land = plt.cm.terrain(np.linspace(0.17, 1, 256))\n",
    "all_colors = np.vstack((colors_water, colors_land))\n",
    "terrain_map = colors.LinearSegmentedColormap.from_list(\n",
    "    'terrain_map', all_colors)\n",
    "\n",
    "# make the norm:  Note the center is offset so that the land has more\n",
    "# dynamic range:\n",
    "divnorm = colors.TwoSlopeNorm(vmin=-10., vcenter=-3, vmax=20)\n",
    "\n",
    "# Plot using imshow, with the proper extent \n",
    "fig, ax = plt.subplots(1, 1, figsize=(10, 8))\n",
    "plt.imshow(zz, cmap=terrain_map, norm=divnorm, aspect='equal', extent=extent)\n",
    "plt.colorbar(label='NAP Height [m]')\n",
    "plt.xlabel('X-RD [km]')\n",
    "plt.ylabel('Y-RD [km]')\n",
    "plt.title('Digital Elevation Model for the NW Nederlands')\n",
    "plt.show()"
   ]
  },
  {
   "cell_type": "code",
   "execution_count": null,
   "metadata": {},
   "outputs": [],
   "source": [
    "# Plot using imshow, with the proper extent \n",
    "fig, ax = plt.subplots(1, 1, figsize=(10, 8))\n",
    "plt.imshow(zz, cmap=cmap, clim=clim, aspect='equal', extent=extent)\n",
    "plt.colorbar(label='NAP Height [m]')\n",
    "plt.xlabel('X-RD [km]')\n",
    "plt.ylabel('Y-RD [km]')\n",
    "plt.title('Digital Elevation Model for the NW Nederlands')\n",
    "plt.show()"
   ]
  },
  {
   "cell_type": "markdown",
   "metadata": {},
   "source": [
    "The crop shows the island Texel, the western part of the Dutch Waddenzee, the north of the province Noord-Holland, Wieringer meer polder, and a section of the Ijsselmeer lake. This is a low area in the Netherlands, with polders below sea-level and some dunes, and a lot of water areas with some deep active tidal channels, and remains of old tidal channels in the Ijsselmeer lake. \n",
    "\n",
    "The Afsluitdijk, a dike separating the Waddenzee from the Ijselmeer lake, is clearly visible, as well as the *Texel stroom*, a big tidal inlet running between the province of Noord-Holland and the island of Texel. On land, the dunes along the coast are easily distinquishable, as well as the high areas of the former island of Wieringen. But, although you can see the dike between the polder of Wieringermeer and the Ijsselmeer quite well, the Wieringermeer polder itself is hardly distinquishable from the Ijsselmeer to which it formerly belonged.\n",
    "\n",
    "Although there is already a lot to see, the pseudo colour image itself look quite \"flat\", despite all the efforts we put in finding a good colour map. Time to light things up and add some shading to reveal more details.\n"
   ]
  },
  {
   "cell_type": "markdown",
   "metadata": {},
   "source": [
    "## Shaded relief plots\n",
    "\n",
    "In the next cells we are going to make some shaded relief plots by adding a light source and computing the illumination intensity depending on gradients in the height/depth data.\n",
    "\n",
    "First import `LightSource` from `matplotlob.colors`, then define a light source *ls* by giving the azimuth and elevation of the source, and then show the illumination intensity and two different ways of blending the pseudo colors with the illumination intensity to obtain the desired effect. We also defined a variable *ve* to set the vertical exageration. "
   ]
  },
  {
   "cell_type": "code",
   "execution_count": null,
   "metadata": {},
   "outputs": [],
   "source": [
    "from matplotlib.colors import LightSource\n",
    "\n",
    "fig, axs = plt.subplots(ncols=2, nrows=2, figsize=(12,12), tight_layout=True)\n",
    "for ax in axs.flat:\n",
    "    ax.set(xticks=[], yticks=[])\n",
    "\n",
    "# Illuminate the scene from the northwest\n",
    "ls = LightSource(azdeg=315, altdeg=45)\n",
    "ve = 0.5   # Vertical exageration\n",
    "\n",
    "axs[0, 0].imshow(zz, cmap=cmap, clim= clim)\n",
    "axs[0, 0].set(xlabel='Colormapped Data')\n",
    "\n",
    "axs[0, 1].imshow(ls.hillshade(zz, vert_exag=ve), cmap='gray')\n",
    "axs[0, 1].set(xlabel='Illumination Intensity')\n",
    "\n",
    "rgb = ls.shade(zz, cmap=cmap, vmin= clim[0], vmax=clim[1], vert_exag=ve, blend_mode='hsv')\n",
    "axs[1, 0].imshow(rgb)\n",
    "axs[1, 0].set(xlabel='Blend Mode: \"hsv\" (default)')\n",
    "\n",
    "rgb = ls.shade(zz, cmap=cmap, vmin= clim[0], vmax=clim[1], vert_exag=ve, blend_mode='overlay')\n",
    "axs[1, 1].imshow(rgb)\n",
    "axs[1, 1].set(xlabel='Blend Mode: \"overlay\"')\n",
    "\n",
    "plt.show()"
   ]
  },
  {
   "cell_type": "markdown",
   "metadata": {},
   "source": [
    "Overlay blending seems to give visually the best result, but the hsv blending shows (exagerates) more details. "
   ]
  },
  {
   "cell_type": "markdown",
   "metadata": {},
   "source": [
    "The code below shows the final result for the overlay mode"
   ]
  },
  {
   "cell_type": "code",
   "execution_count": null,
   "metadata": {},
   "outputs": [],
   "source": [
    "fig, ax = plt.subplots(1, 1, figsize=(10,8))\n",
    "\n",
    "# Illuminate the scene from the northwest\n",
    "ls = LightSource(azdeg=315, altdeg=45)\n",
    "ve = 0.5   # Vertical exageration\n",
    "\n",
    "rgb = ls.shade(zz, cmap=cmap, vmin= clim[0], vmax=clim[1], vert_exag=ve, blend_mode='overlay')\n",
    "ax.imshow(rgb, aspect='equal', extent=extent)\n",
    "norm = plt.Normalize(vmin=clim[0], vmax=clim[1], clip=False)\n",
    "sm = plt.cm.ScalarMappable(cmap=cmap, norm=norm)\n",
    "fig.colorbar(sm,label='NAP Height [m]')\n",
    "ax.set(xlabel= 'X-RD [km]', ylabel='Y-RD [km]', title='Digital Elevation Model for the NW Nederlands')\n",
    "plt.show()"
   ]
  },
  {
   "cell_type": "markdown",
   "metadata": {},
   "source": [
    "## Plotting contour lines\n",
    "\n",
    "Another option is to add contour lines to the plots. Below we show two examples."
   ]
  },
  {
   "cell_type": "code",
   "execution_count": null,
   "metadata": {},
   "outputs": [],
   "source": [
    "%matplotlib inline\n",
    "fig, ax = plt.subplots(1, 1, figsize=(10, 8))\n",
    "levels = [ -10, -5, 0, 5, 10 ]\n",
    "\n",
    "ax.imshow(rgb, aspect='equal', extent=extent)\n",
    "fig.colorbar(sm,label='NAP Height [m]')\n",
    "\n",
    "#ax.contourf(xx/1000, yy/1000, zz, levels=80, cmap=cmap, vmin=clim[0], vmax=clim[1])\n",
    "ax.contour(xx/1000, yy/1000, zz, levels=levels, colors='gray', vmin=clim[0], vmax=clim[1], linewidths=1)\n",
    "plt.show()"
   ]
  },
  {
   "cell_type": "code",
   "execution_count": null,
   "metadata": {},
   "outputs": [],
   "source": [
    "%matplotlib inline\n",
    "fig, ax = plt.subplots(1, 1, figsize=(10, 8))\n",
    "levels1= [-40, -20, -10, -7, -5, -3, -2, -1, -0.5, 0, 0.5, 1, 2 , 3, 5, 10, 20]\n",
    "levels2 = [ -10, -5, 0 ]\n",
    "#cset = ax.contourf(xx/1000, yy/1000, zz, cmap=cmap, vmin=clim[0], vmax=clim[1])\n",
    "ax.contourf(xx/1000, yy/1000, zz, levels=levels1, cmap=cmap, vmin=clim[0], vmax=clim[1])\n",
    "ax.contour(xx/1000, yy/1000, zz, levels=levels2, colors='k', vmin=clim[0], vmax=clim[1], linewidths=1)\n",
    "ax.axis('equal')\n",
    "ax.axis('tight')\n",
    "plt.show()"
   ]
  },
  {
   "cell_type": "markdown",
   "metadata": {},
   "source": [
    "## 3D contour, wireframe and surface plots\n",
    "\n",
    "3D plots are possible in `matplotlib` when `projections=3d` is selected for the axis and the `Axis3D` module is imported from `mpl_toolkits.mplot3d`.\n",
    "\n",
    "Several types of plots are possible. We show a few examples without much explanation.\n",
    "\n",
    "> 3D plots are best displayed with `Qt` or using `notebook` instead of `inline` plots. Use either\n",
    "> ```\n",
    "> %matplotlib qt\n",
    "> %matplotlib notebook\n",
    "> ```\n",
    ">\n",
    "> Using the mouse you can zoom, pan and rotate the plots\n",
    "\n",
    "To return to inline plots specify `%matplotlob inline`\n",
    "\n",
    "### 3D contour plots\n",
    "\n",
    "Contours can also be plotted in 3D by using the `projections=3d` on the axis. We show two results with different number of levels."
   ]
  },
  {
   "cell_type": "code",
   "execution_count": null,
   "metadata": {},
   "outputs": [],
   "source": [
    "from mpl_toolkits.mplot3d import Axes3D\n",
    "\n",
    "# 3D plot (better visualised in an IDE rather than Notebook)\n",
    "%matplotlib qt\n",
    "fig = plt.figure(figsize=(10, 8))\n",
    "ax = fig.add_subplot(111, projection='3d')\n",
    "cset = ax.contourf(xx/1000, yy/1000, zz, cmap='terrain', levels=levels1, vmin=clim[0], vmax=clim[1])\n",
    "plt.show()"
   ]
  },
  {
   "cell_type": "code",
   "execution_count": null,
   "metadata": {},
   "outputs": [],
   "source": [
    "# 3D plot (better visualised in an IDE rather than Notebook)\n",
    "%matplotlib qt\n",
    "fig = plt.figure(figsize=(10, 8))\n",
    "ax = fig.add_subplot(111, projection='3d')\n",
    "cset = ax.contourf3D(xx/1000, yy/1000, zz, cmap='terrain', levels=range(clim[0],clim[1],1), vmin=clim[0], vmax=clim[1])\n",
    "plt.show()"
   ]
  },
  {
   "cell_type": "markdown",
   "metadata": {},
   "source": [
    "### 3D wireframe\n",
    "\n",
    "Another option is to plot a wireframe. This cannot be done for the individual data points (there are too many), so we selected a stride of 20 in each direction."
   ]
  },
  {
   "cell_type": "code",
   "execution_count": null,
   "metadata": {},
   "outputs": [],
   "source": [
    "%matplotlib qt\n",
    "fig = plt.figure(figsize=(10, 8))\n",
    "ax = fig.add_subplot(111, projection='3d')\n",
    "X, Y = np.meshgrid(xx, yy)\n",
    "#cset = ax.plot_surface(X/1000, Y/1000, zz, linewidth=0, rstride=20, cstride=20) #cmap=cmap)\n",
    "cset = ax.plot_wireframe(X/1000, Y/1000, zz, rstride=20, cstride=20) #cmap=cmap)\n",
    "#cset = ax.contour3D(X/1000, Y/1000, zz, cmap=cmap)\n",
    "\n",
    "plt.show()"
   ]
  },
  {
   "cell_type": "markdown",
   "metadata": {},
   "source": [
    "### 3D surface plots\n",
    "\n",
    "If we select a subset of the data then it becomes possible to do true 3D surface plot. Here is an example, with contours plotted in the xy plane."
   ]
  },
  {
   "cell_type": "code",
   "execution_count": null,
   "metadata": {},
   "outputs": [],
   "source": [
    "xxx=xx[30:130]\n",
    "yyy=yy[200:300]\n",
    "zzz=zz[30:130,200:300]\n",
    "\n",
    "%matplotlib qt\n",
    "fig = plt.figure(figsize=(12, 9))\n",
    "ax = fig.add_subplot(111, projection='3d')\n",
    "X, Y = np.meshgrid(xxx, yyy)\n",
    "csurf = ax.plot_surface(X/1000, Y/1000, zzz, cmap=cmap, clim=clim)\n",
    "cset = ax.contourf(X/1000, Y/1000, zzz, zdir='z', offset=np.min(zzz), cmap=cmap, vmin=clim[0], vmax=clim[1])\n",
    "#cset = ax.plot_wireframe(X/1000, Y/1000, zzz)\n",
    "cset = ax.contour3D(X/1000, Y/1000, zzz, cmap=cmap, vmin=clim[0], vmax=clim[1])\n",
    "\n",
    "plt.show()"
   ]
  },
  {
   "cell_type": "markdown",
   "metadata": {},
   "source": [
    "[End of notebook]"
   ]
  }
 ],
 "metadata": {
  "interpreter": {
   "hash": "5e58f0493970c85668badbc5bf106a4a788c4b99d38880c90ea927a02d72e3dc"
  },
  "kernelspec": {
   "display_name": "Python [conda env:simvis]",
   "language": "python",
   "name": "python3"
  },
  "language_info": {
   "codemirror_mode": {
    "name": "ipython",
    "version": 3
   },
   "file_extension": ".py",
   "mimetype": "text/x-python",
   "name": "python",
   "nbconvert_exporter": "python",
   "pygments_lexer": "ipython3",
   "version": "3.6.13"
  },
  "varInspector": {
   "cols": {
    "lenName": 16,
    "lenType": 16,
    "lenVar": 40
   },
   "kernels_config": {
    "python": {
     "delete_cmd_postfix": "",
     "delete_cmd_prefix": "del ",
     "library": "var_list.py",
     "varRefreshCmd": "print(var_dic_list())"
    },
    "r": {
     "delete_cmd_postfix": ") ",
     "delete_cmd_prefix": "rm(",
     "library": "var_list.r",
     "varRefreshCmd": "cat(var_dic_list()) "
    }
   },
   "types_to_exclude": [
    "module",
    "function",
    "builtin_function_or_method",
    "instance",
    "_Feature"
   ],
   "window_display": false
  }
 },
 "nbformat": 4,
 "nbformat_minor": 4
}
