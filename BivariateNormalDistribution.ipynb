{
 "cells": [
  {
   "cell_type": "markdown",
   "metadata": {},
   "source": [
    "<h1>Bivariate normal distribution</h1>\n",
    "\n",
    "<h2>CIE4604: Simulation and Visualisation</h2>\n",
    " \n",
    "Created:  November 2014 by Hans van der Marel<br>\n",
    "Updated:  November 2019 by Ullas Rajvanshi (converted the script in Python)<br>\n",
    "<br>\n",
    "Script that illustrates several examples of what you can do with a simulated bivariate normal distribution. See the lecture notes for a more detailed explanation"
   ]
  },
  {
   "cell_type": "code",
   "execution_count": null,
   "metadata": {},
   "outputs": [],
   "source": [
    "# importing all the libraries\n",
    "import numpy as np\n",
    "import matplotlib.pyplot as plt\n",
    "from scipy.stats import chi2, ncx2\n",
    "import math"
   ]
  },
  {
   "cell_type": "markdown",
   "metadata": {},
   "source": [
    "### 1. Generate 10000 normal distributed measurements x and y\n",
    "First generate independent normal distributed measurements x and y. Note that we could also have used a two-dimensional array xy=randn(2,n) to simulate these in one go."
   ]
  },
  {
   "cell_type": "code",
   "execution_count": null,
   "metadata": {},
   "outputs": [],
   "source": [
    "n = 10000\n",
    "x = np.random.randn(n, 1)\n",
    "y = np.random.randn(n, 1)"
   ]
  },
  {
   "cell_type": "markdown",
   "metadata": {},
   "source": [
    "Next we make a scatter plot with x and y. We give the figure a number and let plot return a plot handle. We can use the plot handle to make changes to the plot later (e.g. choose a different color). Note that for a scatter plot the axis should be equal."
   ]
  },
  {
   "cell_type": "code",
   "execution_count": null,
   "metadata": {},
   "outputs": [],
   "source": [
    "plt.figure(figsize=(10, 10))\n",
    "plt.scatter(x, y, marker='d', s=5, facecolors='b', edgecolors='y')\n",
    "plt.axis('equal')\n",
    "plt.xlabel('x')\n",
    "plt.ylabel('y')"
   ]
  },
  {
   "cell_type": "markdown",
   "metadata": {},
   "source": [
    "### 2. Calculate the probability that a measurement x,y falls outside a circle of radius 2\n",
    "First we count the number of samples |N| with distance larger than 2 from the origin. We use |sum| in combination with a statistical test to do the counting. Matlab test return |1| when |true|. For the probability we have to divide by the number of measurements |n|."
   ]
  },
  {
   "cell_type": "code",
   "execution_count": null,
   "metadata": {},
   "outputs": [],
   "source": [
    "r = 2\n",
    "N = np.sum(x ** 2 + y ** 2 > r ** 2)  # counting number of samples with a distance larger than 2 from the origin\n",
    "print(\"Number of samples outside the circle: \", N)\n",
    "print(\"Fourend probability of a sample outside the circle: \", N / n)"
   ]
  },
  {
   "cell_type": "markdown",
   "metadata": {},
   "source": [
    "To calculate the probability with different sample sizes we use the numpy function |cumsum| to compute the cumulative sum (in combination with the test). The result of |cumsum| is an array with the cumulative sum. To obtain the probability each element has to be divided by the number of elements in the cumulative sum, this is |0:n|."
   ]
  },
  {
   "cell_type": "code",
   "execution_count": null,
   "metadata": {},
   "outputs": [],
   "source": [
    "Ncs = np.cumsum(x ** 2 + y ** 2 > r ** 2)\n",
    "ss = np.arange(0, n )\n",
    "plt.figure(figsize=(12, 5))\n",
    "plt.plot(ss, Ncs / ss.T)\n",
    "plt.xlabel('# of samples')\n",
    "plt.ylabel(r'Probability $x^2+y^2>r^2$')"
   ]
  },
  {
   "cell_type": "markdown",
   "metadata": {},
   "source": [
    "### 3. Normalized histogram of the distance squared\n",
    "First we compute a histogram of the squared distance from the origin using the Matlab function |hist|. We use a bin size of 0.1 make a histogram in the range from 0 to 15. The return arguments |N| contain the counts and |X| the center of the bins. Matlab is case sensitive, so |X| and |x| are not the same. Type |help hist| for more information."
   ]
  },
  {
   "cell_type": "code",
   "execution_count": null,
   "metadata": {},
   "outputs": [],
   "source": [
    "binsize = 0.1\n",
    "x = np.random.randn(n, 1)\n",
    "y = np.random.randn(n, 1)\n",
    "[N, X] = np.histogram(x ** 2 + y ** 2, np.arange(0, 15, binsize))"
   ]
  },
  {
   "cell_type": "markdown",
   "metadata": {},
   "source": [
    "Then we use plot the plot the *normalized* histogram, using a correction for the number of measurements and bin size. The normalized histogram should be a realization of a central Chi-square distribution with 2 degrees of freedom. For comparison we add the pdf of the Chi-square distribution to the plot in a different color. We use the matplotlib.pyplot function |pdf| to compute the pdf for values of |X|. See |help pdf|."
   ]
  },
  {
   "cell_type": "code",
   "execution_count": null,
   "metadata": {},
   "outputs": [],
   "source": [
    "plt.figure(figsize=(12, 5))\n",
    "plt.plot(X[:-1], N / (n * binsize))\n",
    "# for -1 read this https://stackoverflow.com/questions/18065951/why-does-numpy-histogram-python-leave-off-one-element\n",
    "# -as-compared-to-hist-in-m\n",
    "plt.plot(X, chi2.pdf(X, 2), color='r')\n",
    "plt.xlabel(r'$Radius^2$')\n",
    "plt.ylabel('PDF')"
   ]
  },
  {
   "cell_type": "markdown",
   "metadata": {},
   "source": [
    "### 4. Cumulative distribution function of the distance squared\n",
    "Instead of a normalized histogram and pdf, we can also plot the empirical cumulative histogram and cumulative distribution function (cdf)."
   ]
  },
  {
   "cell_type": "code",
   "execution_count": null,
   "metadata": {},
   "outputs": [],
   "source": [
    "cc = np.cumsum(N / (n))  # can also be done with a loop, but it's crappy!\n",
    "c = np.concatenate((range(0, 1), cc[0:]))\n",
    "plt.figure(figsize=(12, 5))\n",
    "plt.plot(X, c)\n",
    "plt.plot(X, chi2.cdf(X, 2), color='r')\n",
    "plt.xlabel(r'$Radius^2$')\n",
    "plt.ylabel('CDF')"
   ]
  },
  {
   "cell_type": "markdown",
   "metadata": {},
   "source": [
    "With the help of the data cursor we can find in the plot probability P(r^2 < 4) (value on y axis) for distance squared value of 4 (value on x axis). This should be equal to one minus the value of section 2."
   ]
  },
  {
   "cell_type": "markdown",
   "metadata": {},
   "source": [
    "### 5. True probability using Matlab(TM) cdf function\n",
    "To calculate the true probability that a sample fall outside the circle with radius 2 we use Matlab |cdf| function with the proper distribution."
   ]
  },
  {
   "cell_type": "code",
   "execution_count": null,
   "metadata": {},
   "outputs": [],
   "source": [
    "prob = 1 - chi2.cdf(r ** 2, 2)\n",
    "print('Real probability of sample outside the circle: ', prob)"
   ]
  },
  {
   "cell_type": "markdown",
   "metadata": {},
   "source": [
    "### 6. Radius if the circle containing 95% of the measurements\n",
    "To compute the radius from a probability we need the inverse cumulative distribute function |icdf|."
   ]
  },
  {
   "cell_type": "code",
   "execution_count": null,
   "metadata": {},
   "outputs": [],
   "source": [
    "R = math.sqrt(chi2.ppf(0.95, 2))\n",
    "print('Radius of circle containing 95% of the measurements: ', R)"
   ]
  },
  {
   "cell_type": "markdown",
   "metadata": {},
   "source": [
    "### 7. Repeat the simulation 100 times, make histogram and compute standard deviation\n",
    "We repeat the previous experiment 100 times. The emperically probabilities are not the same, they actually have a distribution of their own. We make a histogram of the computed probabilities and compute the standard deviation of the probability."
   ]
  },
  {
   "cell_type": "code",
   "execution_count": null,
   "metadata": {},
   "outputs": [],
   "source": [
    "x = np.random.randn(n, 100)\n",
    "y = np.random.randn(n, 100)\n",
    "P = np.sum((x ** 2 + y ** 2 > r ** 2) / n, axis=0)\n",
    "binsize = 0.001\n",
    "plt.figure(figsize=(12, 5))\n",
    "plt.hist(P, np.arange(0.12, 0.15, binsize), edgecolor='black', linewidth=0.5)\n",
    "print('Standard deviation of the probability: ', P.std())"
   ]
  },
  {
   "cell_type": "markdown",
   "metadata": {},
   "source": [
    "### 8. Compare standard deviation with theory\n",
    "We can compute the standard deviation of the probability also using a formula given in Teunissen et al. (2009)"
   ]
  },
  {
   "cell_type": "code",
   "execution_count": null,
   "metadata": {},
   "outputs": [],
   "source": [
    "standard_deviation = math.sqrt(n * prob.mean() * (1 - prob.mean())) / n\n",
    "print('\"Real\" standard deviation: ', standard_deviation)"
   ]
  },
  {
   "cell_type": "markdown",
   "metadata": {},
   "source": [
    "### 9. Transform the variables\n",
    "Compute new variables |x_n| and |y_n| from |x| and |y| using a linear transformation"
   ]
  },
  {
   "cell_type": "code",
   "execution_count": null,
   "metadata": {},
   "outputs": [],
   "source": [
    "x_n = x[:, 0]\n",
    "y_n = y[:, 0] + 2 * x[:, 0]"
   ]
  },
  {
   "cell_type": "markdown",
   "metadata": {},
   "source": [
    "According to the covariance propagation law the formal (theoretical) covariance matrix is"
   ]
  },
  {
   "cell_type": "code",
   "execution_count": null,
   "metadata": {},
   "outputs": [],
   "source": [
    "A = np.array([[1, 0], [2, 1]])\n",
    "Qn_t = A * np.identity(2) * A.transpose()"
   ]
  },
  {
   "cell_type": "markdown",
   "metadata": {},
   "source": [
    "We can also compute the empirical covariance matrix using the Matlab function |cov|"
   ]
  },
  {
   "cell_type": "code",
   "execution_count": null,
   "metadata": {},
   "outputs": [],
   "source": [
    "Qn_e = np.cov(np.array([x_n, y_n]))"
   ]
  },
  {
   "cell_type": "markdown",
   "metadata": {},
   "source": [
    "### 10. Scatter plot of the transformed variables\n",
    "We make a scatter plot of the transformed variable of the previous section, and overlay it with a second transformed variable."
   ]
  },
  {
   "cell_type": "code",
   "execution_count": null,
   "metadata": {},
   "outputs": [],
   "source": [
    "plt.figure(figsize=(6, 6))\n",
    "plt.scatter(x_n, y_n)\n",
    "plt.scatter(x[:, 0], y[:, 0] - 2 * x[:, 0], color='r')\n",
    "plt.xlabel('x')\n",
    "plt.ylabel('y')\n",
    "plt.axis('equal')"
   ]
  },
  {
   "cell_type": "markdown",
   "metadata": {},
   "source": [
    "### 11. Normalized histogram of distance squared for the transformed variables\n",
    "We repeat section 3. The results will now be different because the distribution has changed. The pdf of the Chi-square distribution will not anymore fit the data."
   ]
  },
  {
   "cell_type": "code",
   "execution_count": null,
   "metadata": {},
   "outputs": [],
   "source": [
    "N = np.sum(x_n ** 2 + y_n ** 2 > r ** 2)  # counting number of samples with a distance larger than 2 from the origin\n",
    "print(\"Number of samples outside the circle: \", N)\n",
    "print(\"Fourend probability of a sample outside the circle: \", N / n)\n",
    "binsize = 0.1\n",
    "[N, X] = np.histogram(x_n ** 2 + y_n ** 2, np.arange(0, 25, binsize))\n",
    "plt.figure(figsize=(12, 5))\n",
    "plt.plot(X[:-1], N / (n * binsize))\n",
    "plt.plot(X, chi2.pdf(X, 2), color='r')\n",
    "plt.xlabel(r'$Radius^2$')\n",
    "plt.ylabel('PDF')"
   ]
  },
  {
   "cell_type": "markdown",
   "metadata": {},
   "source": [
    "### 12. Add a bias to the x and y measurements, and repeat distance calculation\n",
    "We add a bias to the data and repeat section 3. The probability function of the distance squared is now a non-central Chi-square distribution, with non centrality parameter 3^2+1^2=10."
   ]
  },
  {
   "cell_type": "code",
   "execution_count": null,
   "metadata": {},
   "outputs": [],
   "source": [
    "x_b = x[:, 0] + 3\n",
    "y_b = y[:, 0] + 1\n",
    "[N, X] = np.histogram(x_b ** 2 + y_b ** 2, np.arange(0, 25, binsize))\n",
    "plt.figure(figsize=(12, 5))\n",
    "plt.plot(X[:-1], N / (n * binsize), label='Measured')\n",
    "plt.plot(X, chi2.pdf(X, 2), label=r'$\\chi^2 (2, 0)$', color='r')\n",
    "plt.plot(X, ncx2.pdf(X, 2, 10), label=r'$\\chi^2 (2, 10)$', color='k')\n",
    "plt.xlabel(r'$Radius^2$')\n",
    "plt.ylabel('PDF')\n",
    "plt.legend()"
   ]
  },
  {
   "cell_type": "markdown",
   "metadata": {},
   "source": [
    "### 13. Radius of the circle containing 95% of the measurements\n",
    "Can be computed again from the inverse cumulative distribution function, using the proper distribution (non-central Chi-square distribution with two degrees of freedom, and non-centrality parameter of 10)"
   ]
  },
  {
   "cell_type": "code",
   "execution_count": null,
   "metadata": {},
   "outputs": [],
   "source": [
    "print(ncx2.ppf(0.95, 2, 10))"
   ]
  }
 ],
 "metadata": {
  "kernelspec": {
   "display_name": "Python 3",
   "language": "python",
   "name": "python3"
  },
  "language_info": {
   "codemirror_mode": {
    "name": "ipython",
    "version": 3
   },
   "file_extension": ".py",
   "mimetype": "text/x-python",
   "name": "python",
   "nbconvert_exporter": "python",
   "pygments_lexer": "ipython3",
   "version": "3.8.3"
  },
  "varInspector": {
   "cols": {
    "lenName": 16,
    "lenType": 16,
    "lenVar": 40
   },
   "kernels_config": {
    "python": {
     "delete_cmd_postfix": "",
     "delete_cmd_prefix": "del ",
     "library": "var_list.py",
     "varRefreshCmd": "print(var_dic_list())"
    },
    "r": {
     "delete_cmd_postfix": ") ",
     "delete_cmd_prefix": "rm(",
     "library": "var_list.r",
     "varRefreshCmd": "cat(var_dic_list()) "
    }
   },
   "types_to_exclude": [
    "module",
    "function",
    "builtin_function_or_method",
    "instance",
    "_Feature"
   ],
   "window_display": false
  }
 },
 "nbformat": 4,
 "nbformat_minor": 4
}
