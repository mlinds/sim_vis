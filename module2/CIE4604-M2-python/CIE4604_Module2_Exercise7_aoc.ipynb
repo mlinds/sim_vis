{
 "cells": [
  {
   "cell_type": "markdown",
   "metadata": {},
   "source": [
    "#### CIE4604 Simulation and Visualization\n",
    "# Module 2 Satellite Orbits - Exercise 7 (Area of Coverage)\n",
    "\n",
    "**Hans van der Marel, 23 November 2020**\n",
    "\n",
    "This notebook explains how to compute the area of coverage of an Earth observing satellite."
   ]
  },
  {
   "cell_type": "markdown",
   "metadata": {},
   "source": [
    "## Problem statement\n",
    " \n",
    "The main question is: find the area on the Earth's surface from which a \n",
    "satellite is in view.\n",
    "\n",
    "A satellite is said to be in view at a point on the Earth's surface when \n",
    " \n",
    "- the elevation angle from a point **P** on the Earth's surface to the \n",
    "  satellite **S** is above the so called the *elevation mask* angle, or\n",
    "- the off-nadir angle from the satellite **S** to a point on the Earth's\n",
    "  surface **P** is smaller than the so called *off-nadir mask* angle.\n",
    "\n",
    "Furthermore, to be able to answer this question, assume that\n",
    "\n",
    "- The position of the satellite **S** is given in the ECEF reference frame\n",
    "- The Earth is a sphere with radius $R_e$\n",
    "- The area of coverage on the sphere is given by the angle $\\theta$ around\n",
    "  the sub-satellite point \n",
    "\n",
    "The *sub-satellite* point is the point where a straight line drawn from \n",
    "the center of the Earth to the satellite intersects the Earth's surface.\n",
    "\n",
    "Thus, we need to find the angle $\\theta$, from the ECEF satellite\n",
    "position and one of the masking angles."
   ]
  },
  {
   "cell_type": "markdown",
   "metadata": {},
   "source": [
    "## Solution on a sphere\n",
    "\n",
    "Now, let **S** be the satellite, **O** the center of the Earth, and **P** a\n",
    "point on the Earth surface, as shown in this figure\n",
    "\n",
    "![](zenith_and_nadir_angles_2D_small.png)\n",
    " \n",
    "The radius to the satellite is $r$, the *zenith angle* at $P$ to the satellite\n",
    "is $z$ and *off-nadir angle* at satellite *S* to point *P* is $\\eta$.\n",
    "Instead of working with the elevation angle $e$, we prefer to use a zenith\n",
    "angle, with $z=90-e$ degrees, and $e=90-z$ degrees. When the satellite is in the zenith,\n",
    "$z=0$, and at the horizon $z=90$ degrees. \n",
    "\n",
    "For Earth observation\n",
    "satellite the so called angle of incidence, or *incidence angle*, is\n",
    "equal to the zenith angle.\n",
    "\n",
    "### computation of the $\\theta$ angle\n",
    "\n",
    "We immediately see that $z = \\eta + \\theta$ (sum of angles in triangle is 180),\n",
    "and from the sine rule that\n",
    "\n",
    "&nbsp;&nbsp;&nbsp;&nbsp; $\\frac{\\sin(180-z)}{r} = \\frac{\\sin(\\eta)}{R_e}$\n",
    "\n",
    "The off-nadir angle $\\eta$ and zenith angle $z$ are related, we have\n",
    "\n",
    "&nbsp;&nbsp;&nbsp;&nbsp; $\\eta=\\arcsin(\\frac{R_e}{r}\\sin(z))$\n",
    "\n",
    "&nbsp;&nbsp;&nbsp;&nbsp; $z=\\arcsin(\\frac{r}{R_e}\\sin(\\eta))$\n",
    "\n",
    "The angle $\\theta$ is thus  \n",
    "\n",
    "&nbsp;&nbsp;&nbsp;&nbsp; $\\theta=\\arcsin(\\frac{r}{R_e}\\sin(\\eta))-\\eta$\n",
    "\n",
    "&nbsp;&nbsp;&nbsp;&nbsp; $\\theta=z - \\arcsin(\\frac{R_e}{r}\\sin(z))$\n",
    "\n",
    "depending on whether we have been given an off-nadir angle $\\eta$, or \n",
    "given an zenith angle $z$. Setting the zenith angle or off-nadir angle to the masking angle solves\n",
    "the question.\n",
    "\n",
    "**This is the main equation we were after, it shows how tp compute $\\theta$ from either the zenith angle $z$ or off-nadir angle $\\eta$, once we know the range $r$.**\n",
    "\n",
    "### computation of slant distance $s$\n",
    "\n",
    "While we are at it, the cosine rule gives the slant distance $s$ between the\n",
    "satellite **S** and point **P**, with\n",
    "\n",
    "&nbsp;&nbsp;&nbsp;&nbsp; $s^2 = r^2 + R_e^2 - 2 r R_e \\cos(\\theta) $\n",
    "\n",
    "The slant distance $s$ is an useful quantity for many other computations. \n",
    "\n",
    "\n",
    "### special case (the horizon)\n",
    "\n",
    "An iteresting value for the elevation mask is the horizon itself, i.e. \n",
    "we have $z=90$ degrees. In this case $\\eta$ becomes the angular Earth\n",
    "radius, with \n",
    "\n",
    "&nbsp;&nbsp;&nbsp;&nbsp; $\\sin(\\eta_{z=90})=\\frac{R_e}{r}$\n",
    "\n",
    "Substituting $\\eta = z - \\theta$, and with $\\sin(\\eta)=\\sin(90 - \\theta)=cos(\\theta)$,\n",
    "we have  \n",
    "  \n",
    "&nbsp;&nbsp;&nbsp;&nbsp; $cos(\\theta_{z=90})=\\frac{R_e}{r}$\n",
    "\n",
    "For the slant distance we get in this case \n",
    "\n",
    "&nbsp;&nbsp;&nbsp;&nbsp; $s_{z=90}^2= r^2 - R_e^2$\n",
    "\n",
    "which is the same as $s_{z=90} = R_e \\tan(\\theta)$. "
   ]
  },
  {
   "cell_type": "markdown",
   "metadata": {},
   "source": [
    "## Exercise - write a Python function to compute $\\theta$ from the nadir angle\n",
    "\n",
    "I leave this as exercise for now. "
   ]
  },
  {
   "cell_type": "code",
   "execution_count": null,
   "metadata": {},
   "outputs": [],
   "source": []
  },
  {
   "cell_type": "markdown",
   "metadata": {},
   "source": [
    "## Computation of points on the Sphere\n",
    "\n",
    "Having found the angle $\\theta$, we need to compute coordinates the points \n",
    "at a distance $\\theta$ of the sub-satellite point.\n",
    "\n",
    "For this we need to know a bit about spherical trigonometry. The solution of many problems in geodesy and navigation, as well as in some branches of mathematics, involve finding solutions of two main problems (see also the Coordinate and Reference Systems reader):\n",
    "\n",
    "> - **Direct (first) geodetic problem** Given the latitude $\\varphi_1$ and longitude $\\lambda_1$ of point P1, and the azimuth $\\alpha_1$ and distance $s_{12}$ from point P1 to P2,  determine the latitude $\\varphi_2$ and longitude $\\lambda_2$ of point P2, and azimuth $\\alpha_2$ in point P2 to P1.\n",
    "> - **Inverse (second) geodetic problem**  Given the latitude $\\varphi_1$ and longitude $\\lambda_1$ of point P1,\n",
    "and latitude $\\varphi_2$ and longitude $\\lambda_2$ of point P2, determine the distance $s_{12}$ between  point P1 and P2, azimuth $\\alpha_1$  from P1 to P2,  and azimuth $\\alpha_2$  from P2 to P1.\n",
    "\n",
    "On a sphere the solution of the direct and inverse geodetic problem can be found using spherical trigonometry resulting in closed formula. \n",
    "\n",
    "**Solution of the inverse geodetic problem**\n",
    "\n",
    "> Finding the *course* and *distance* through spherical trigonometry is a special application of the inverse geodetic problem. > The inital and final course $\\alpha_1$ and $\\alpha_2$, and distance $s_{12}$ along the great circle, are\n",
    ">\n",
    "> &nbsp;&nbsp;&nbsp;&nbsp; $\\tan\\alpha_1 =\\frac{\\sin\\lambda_{12}}{ \\cos\\phi_1\\tan\\phi_2-\\sin\\phi_1\\cos\\lambda_{12}}$\n",
    ">\n",
    "> &nbsp;&nbsp;&nbsp;&nbsp; $\\tan\\alpha_2 =\\frac{\\sin\\lambda_{12}}{-\\cos\\phi_2\\tan\\phi_1+\\sin\\phi_2\\cos\\lambda_{12}}$\n",
    ">\n",
    "> &nbsp;&nbsp;&nbsp;&nbsp; $\\cos\\sigma_{12} =\\sin\\phi_1\\sin\\phi_2+\\cos\\phi_1\\cos\\phi_2\\cos\\lambda_{12}$\n",
    "> \n",
    "> with $\\lambda_{12} = \\lambda_2 - \\lambda_1$. The distance is given by $s_{12} = R\\, \\sigma_{12}$, where $\\sigma_{12}$ is the > central angle (in radians) between the two points and $R$ the Earth radius. For practical computations the quadrants of the > arctangens are determined by the signs of the numerator and denominator in the tangent formulas (e.g., using the {\\tt atan2} function).  \n",
    "\n",
    "**Solution of the direct geodetic problem**\n",
    "\n",
    "> Finding *way-points*, the positions of selected points on the great circle between P1 and P2, through spherical trigonometry is a special application of the direct geodetic problem.  Given the initial course $\\alpha_1$ and distance $s_{12}$ along the great circle, the latitude and longitude of P2 are found by,\n",
    ">\n",
    "> &nbsp;&nbsp;&nbsp;&nbsp; $ \\tan\\phi_2 = \\frac{\\sin\\phi_1\\cos\\sigma_{12} + \\cos\\phi_1\\sin\\sigma_{12}\\cos\\alpha_1} {\\sqrt{ (\\cos\\phi_1\\cos\\sigma_{12} - \\sin\\phi_1\\sin\\sigma_{12}\\cos\\alpha_1)^2 + (\\sin\\sigma_{12}\\sin\\alpha_1)^2 }}$\n",
    ">\n",
    "> &nbsp;&nbsp;&nbsp;&nbsp; $\\tan\\lambda_{12} = \\frac{\\sin\\sigma_{12}\\sin\\alpha_1} {\\cos\\phi_1\\cos\\sigma_{12} - \\sin\\phi_1\\sin\\sigma_{12}\\cos\\alpha_1}$\n",
    ">\n",
    "> &nbsp;&nbsp;&nbsp;&nbsp; $\\tan\\alpha_2 = \\frac{\\sin\\alpha_1} {\\cos\\sigma_{12}\\cos\\alpha_1 - \\tan\\phi_1\\sin\\sigma_{12}}$\n",
    ">\n",
    "> with $\\sigma_{12} = s_{12}/R$ the central angle in radians and $R$ the Earth radius, and $\\lambda_2 = \\lambda_1 + \\lambda_{12}$. \n",
    "\n",
    "If we want to compute the coordinates of points at a distance, given by the angle $\\theta$, from the sub-satellite point we have to deal with the **direct geodetic problem**. \n",
    "Once we recognise that our $\\theta$ angle is the same as $\\sigma_{12}$, we can directly apply the equations for closed form solution to the direct problem.\n"
   ]
  },
  {
   "cell_type": "markdown",
   "metadata": {},
   "source": [
    "## Computation of area of coverage and satellite swaths\n",
    "\n",
    "Two cases can be distinquished for computing the so-called **area of coverage** \n",
    "\n",
    "1. Computation of the *small circle* with radius given by $\\theta$ around the sub-satellite point, which corresponds to a **circular** footprint of the satellite. For this we have to loop over all azimuth angles $0\\ldots360$ degrees. In Matlab we can use for this the function `scircle1`. In Python we have to program this ourselves.\n",
    "2. Computation of a strip (swath) with radius given by $\\theta$  with respect to the sub-satellite track. For this we use one (or two) azimuth values, perpedicular to the flight direction. Sometimes we have two different theta angles, e.g. in case of an oblique swath. In Matlab we can use the function `reckon` to do the work. In Python we have to code this ourselves.\n",
    "\n",
    "Both involve the direct geodetic problem, for which we need the $\\theta$ angle.\n",
    "\n",
    "In all these cases the $\\theta$ angles are computed from off-nadir angles $\\eta$, which specify the (half of) an opening angle, or a swath, from the spacecraft (instrument) perspective. \n",
    "\n",
    "Then with the latitude $\\varphi_0$ and longitude $\\lambda_0$ of the sub-satellite point, which are the same as the latitude and longitude of the satellite (exept the height), we can compute the latitude and longitude of the points on the small circle or at the strip edges.\n",
    "\n",
    "In Matlab we would use the functions `scircle1` and `reckon` to do the work.\n",
    "\n",
    "> The function `scircle1` gives you the latitude and longitude pairs for the circle \n",
    ">\n",
    ">   \\[lat,lon\\] = scircle1(lat0,lon0,theta)\n",
    ">\n",
    "> with all angles in degrees, unless ohterwise specified by a fourth argument.\n",
    ">\n",
    "> The function `reckon` calculates the position at a given azimuth *az* and angular distance $\\theta$ along a great circle from the sub-satellite point\n",
    ">\n",
    ">  \\[latout,lonout\\] = reckon(lat0,lon0,theta,az)\n",
    ">\n",
    "> This function can be used for instance to compute the swath of a satellite, whereby the azimuth is given by the look direction of the satellite. \n",
    "\n",
    "Both functions are very similar. In Python we could implement only the second, and then loop the azimuth angle over 360 degrees to obtain the small circle."
   ]
  },
  {
   "cell_type": "markdown",
   "metadata": {},
   "source": [
    "## Exercise - write a Python function as replacement for the Matlab function\n",
    "\n",
    "I leave this as exercise for now. "
   ]
  },
  {
   "cell_type": "code",
   "execution_count": null,
   "metadata": {},
   "outputs": [],
   "source": [
    "# your solution"
   ]
  },
  {
   "cell_type": "markdown",
   "metadata": {},
   "source": [
    "## Exercise - Visualize with matplotlib or Google Earth\n",
    "\n",
    "To test your Python script for computing the $\\theta$ angle and area of coverage you can use `matplotlib` to make a 3D plot with the satellite and sub-satellite points, and the area of coverage, for an $\\eta$ angle, satellite position and altitude of your choice. \n",
    "\n",
    "If you prefer, you may also use `simplekml` (see `CIE4604_M2_Exercise6_kml.ipynb`) to display in Google Earth."
   ]
  },
  {
   "cell_type": "code",
   "execution_count": null,
   "metadata": {},
   "outputs": [],
   "source": [
    "# the code for your visualization"
   ]
  },
  {
   "cell_type": "markdown",
   "metadata": {},
   "source": [
    "## Closing note - Solution on an ellipsoid\n",
    "\n",
    "The solution for an ellipsoid is more complicated. The area of coverage\n",
    "is not a circle but a more irregular shape. Having said this, the deviation\n",
    "from a cicle is not large, and on a world map the difference will be \n",
    "hardly noticable. The same difference would be created by a changing mask angle \n",
    "of about 0.2 degrees, depending on the azimuth direction.\n",
    "\n",
    "The main problem is the difference in zenith angle for the ellipsoid and\n",
    "sphere, and the Earth radius which is not a constant for the ellipsoid.\n",
    "For these reasons, the solution on an ellipsoid is best computed\n",
    "numerically. This is however outside the scope of this tutorial."
   ]
  },
  {
   "cell_type": "markdown",
   "metadata": {},
   "source": [
    "\\[End of this Jupyter Notebook\\]"
   ]
  }
 ],
 "metadata": {
  "kernelspec": {
   "display_name": "Python 3",
   "language": "python",
   "name": "python3"
  },
  "language_info": {
   "codemirror_mode": {
    "name": "ipython",
    "version": 3
   },
   "file_extension": ".py",
   "mimetype": "text/x-python",
   "name": "python",
   "nbconvert_exporter": "python",
   "pygments_lexer": "ipython3",
   "version": "3.8.3"
  }
 },
 "nbformat": 4,
 "nbformat_minor": 4
}
