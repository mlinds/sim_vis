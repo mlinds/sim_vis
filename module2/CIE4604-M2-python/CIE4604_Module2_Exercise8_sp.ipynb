{
 "cells": [
  {
   "cell_type": "markdown",
   "metadata": {},
   "source": [
    "#### CIE4604 Simulation and Visualization\n",
    "# Module 2 Satellite Orbits - Exercise 8 (Specular Reflection Point)\n",
    "\n",
    "**Hans van der Marel, 23 November 2020**\n",
    "\n",
    "This notebook explains how to compute specular reflection point on the surface of the Earth for a transmitting (GPS) and receiving satellite (LEO)."
   ]
  },
  {
   "cell_type": "markdown",
   "metadata": {},
   "source": [
    "## Problem statement\n",
    " \n",
    "GPS and other GNSS satellite signals are reflected by the Earth’s oceans. A GNSS-R receiver on board a satellite in a low Earth orbit (LEO) is able to receive both the direct signal from a GNSS satellite, as well as the signal reflected by the surface of the Earth. This will provide very useful information on the Sea state and level in particular.\n",
    "\n",
    "The main question is how to find the coordinates of the Specular Reflection Point area on the Earth's surface from the coordinates of the transmitting (GPS) and receiving (LEO) satellite.\n",
    "\n",
    "The positions of the transmitting and receiving satellites are given. The follow for example from computations with Two-Line Elements. The coordinates should be in the Earth-Centered Earth-Fixed (ECEF) reference frame. The coordinates may be Cartesian coordinates or the spherical latitude, longitude and height.\n",
    "\n",
    "We seek the Cartesian coordinates of the specular reflection point, and/or the spherical latitude and longitude of the specular reflection point (the height is zero)."
   ]
  },
  {
   "cell_type": "markdown",
   "metadata": {},
   "source": [
    "## Solution\n",
    "\n",
    "The solution is quite complicate and will not be discussed in detail. \n",
    "\n",
    "To understand the bottom line of the solution considere the following figure with only one of the satellite (the receiving or transmitting)\n",
    "\n",
    "![](zenith_and_nadir_angles_2D_small.png)\n",
    " \n",
    "**S** is one of the satellites, the second is not shown, **O** the center of the Earth, and **P** is a possible specular reflection point on the Earth surface.\n",
    "\n",
    "The radius to the satellite is $r$, the *zenith angle* at $P$ to the satellite\n",
    "is $z$ and *off-nadir angle* at satellite *S* to point *P* is $\\eta$.\n",
    "The zenith angle is the same as the so-called  *incidence angle*. \n",
    "\n",
    "We can draw a similar picture for the other satellite.\n",
    "\n",
    "> The point **P** is a specular reflection point, when\n",
    "> - the incidence angles for the transmitting and receiving satellites are the same,\n",
    "> - the unit vectors direction vector from **P** to each satellites are in the same plane\n",
    "\n",
    "This problem is solved in `specularpoint.py` using the equitions discussed in `CIE4606_M2_Exercise6_aoc.ipynb` and a root finding algorithm from `Scipy`.\n",
    "\n",
    "For the details, and an example of the computation, see the code in `specularpoint.py`.\n"
   ]
  },
  {
   "cell_type": "markdown",
   "metadata": {},
   "source": [
    "## Examples\n",
    "\n",
    "First we load the `specularpoint.py` module and have a look at the help. The module comes with a few additional functions, mainly for internal use, but that can be used also outside. "
   ]
  },
  {
   "cell_type": "code",
   "execution_count": null,
   "metadata": {
    "scrolled": true
   },
   "outputs": [],
   "source": [
    "import specularpoint as sp\n",
    "help(sp)"
   ]
  },
  {
   "cell_type": "markdown",
   "metadata": {},
   "source": [
    "The main function we are interested in is `specularpoint` (the same as the module name)"
   ]
  },
  {
   "cell_type": "code",
   "execution_count": null,
   "metadata": {},
   "outputs": [],
   "source": [
    "help(sp.specularpoint)"
   ]
  },
  {
   "cell_type": "markdown",
   "metadata": {},
   "source": [
    "The function `specularpoint` is able to work both with Cartesian as spherical (latitude, longitude, height) coordinates. Other functions provide for the conversion between the two coordinate types.\n",
    "\n",
    "Cartesian coordinates are best suited for production runs, but the spherical coordinates are better for demonstration purposes.\n",
    "\n",
    "We start with an example using spherical coordinates..."
   ]
  },
  {
   "cell_type": "code",
   "execution_count": null,
   "metadata": {},
   "outputs": [],
   "source": [
    "# Compute Cartesian coordinates of specular point from given input in\n",
    "# latitude, longitude and height for a LEO and GPS satellite\n",
    "\n",
    "xsp = sp.specularpoint([51., 4., 700. ], [53.,  20., 20000. ]) \n",
    "\n",
    "# Print the result\n",
    "latsp, lonsp, heightsp = sp.cart2sphere(xsp)\n",
    "print('\\nCartesian coordinates [km] specular point  ',xsp/1000)\n",
    "print('Lat, lon and height [deg/km] specular point',[latsp, lonsp, heightsp/1000])"
   ]
  },
  {
   "cell_type": "markdown",
   "metadata": {},
   "source": [
    "There is a lot of intermediate output, this is the default when spherical coordinates are used and cannot be turned off.\n",
    "\n",
    "Now let's do the same computation with Cartesian coordinates"
   ]
  },
  {
   "cell_type": "code",
   "execution_count": null,
   "metadata": {},
   "outputs": [],
   "source": [
    "# Convert spherical coordinates to Cartesian coordinates\n",
    "xr = sp.sphere2cart(51., 4., 700.*1000)\n",
    "xt = sp.sphere2cart(53.,  20., 20000.*1000) \n",
    "print('\\nCartesian coordinates [km] LEO receiver    ',xr/1000)\n",
    "print('Cartesian coordinates [km] GPS transmitter ',xt/1000)\n",
    "\n",
    "# Compute specular reflection point using Cartesian coordinates as input (verbose is off now)\n",
    "xsp = sp.specularpoint(xr,xt) \n",
    "\n",
    "# print the result\n",
    "latsp, lonsp, heightsp = sp.cart2sphere(xsp)\n",
    "print('Cartesian coordinates [km] specular point  ',xsp/1000)\n",
    "print('Lat, lon and height [deg/km] specular point',[latsp, lonsp, heightsp/1000])"
   ]
  },
  {
   "cell_type": "markdown",
   "metadata": {},
   "source": [
    "As you can see the coordinates for the specular reflection point are the same, as should be. The intermediate output is suppressed by default, this is more appropriate for production runs, which use the Cartesian coordinates as these are directly computed from the Two-Line Elements.\n",
    "\n",
    "You can do the computation both in ECEF and ECI, but most likely you want to have the specular reflection points in ECEF.\n",
    "\n",
    "If you want to see more debugging output you can use the option `verbose=True`, like this\n",
    "```\n",
    "xsp = sp.specularpoint(xr,xt, verbose=True)\n",
    "```\n",
    "Try this out yourself."
   ]
  },
  {
   "cell_type": "code",
   "execution_count": null,
   "metadata": {},
   "outputs": [],
   "source": [
    "# Try out with verbose=True"
   ]
  },
  {
   "cell_type": "markdown",
   "metadata": {},
   "source": [
    "## Multi satellite version\n",
    "\n",
    "The code in `specularpoint` works only for one transmitting satellite at a single epoch in time.\n",
    "\n",
    "To be of any practical use the `specularpoint` function has to be called in a loop for multiple transmitting (GPS) satellites. To facilitate this you can build your own function that call's `specularpoint`. This new function has to do the following\n",
    "\n",
    "Loop over all transmitting satellites\n",
    "> 1. Check if the transmitting satellite is in view from the receiving satellite. This involves the direct signal and a practical elevation cutoff angle (if the satellite is not visible, you won't have a specular reflection point, and also not a direct signal)\n",
    "> 2. If a satellite is visible by condition 1\n",
    ">\n",
    ">    a. Compute the (candidate) specular reflection point\n",
    ">\n",
    ">    b. Check that the (candidate) specular reflection point is in the field of view of the receiving antenna on the LEO satellite. This involves computing the nadir angle of the specular reflection point for the receiving satellite.\n",
    "\n",
    "If both conditions are met the specular reflection point is of practical use.\n",
    "\n",
    "This has to be done for every epoch in your simulation (loop over time)."
   ]
  },
  {
   "cell_type": "code",
   "execution_count": null,
   "metadata": {},
   "outputs": [],
   "source": [
    "# put here your code"
   ]
  },
  {
   "cell_type": "markdown",
   "metadata": {},
   "source": [
    "## Exercise - Visualize with matplotlib or Google Earth\n",
    "\n",
    "To test your Python script for computing the specular reflection point you can use matplotlib to make a 3D plot with the transmitting satellite, receiving satellite and specular reflection point. You can do this for one, or more, transmitting (GPS) satellites.\n",
    "\n",
    "If you prefer, you may also use simplekml (see CIE4604_M2_Exercise6_kml.ipynb) to display in Google Earth."
   ]
  },
  {
   "cell_type": "code",
   "execution_count": null,
   "metadata": {},
   "outputs": [],
   "source": [
    "# put here your code"
   ]
  },
  {
   "cell_type": "markdown",
   "metadata": {},
   "source": [
    "\\[End of this Jupyter Notebook\\]"
   ]
  }
 ],
 "metadata": {
  "kernelspec": {
   "display_name": "Python 3",
   "language": "python",
   "name": "python3"
  },
  "language_info": {
   "codemirror_mode": {
    "name": "ipython",
    "version": 3
   },
   "file_extension": ".py",
   "mimetype": "text/x-python",
   "name": "python",
   "nbconvert_exporter": "python",
   "pygments_lexer": "ipython3",
   "version": "3.8.3"
  }
 },
 "nbformat": 4,
 "nbformat_minor": 4
}
