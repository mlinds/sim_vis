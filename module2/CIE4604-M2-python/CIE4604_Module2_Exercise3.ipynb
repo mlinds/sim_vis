{
 "cells": [
  {
   "cell_type": "markdown",
   "metadata": {},
   "source": [
    "#### CIE4604 Simulation and Visualization\n",
    "# Module 2 Satellite Orbits - Exercise 3\n",
    "\n",
    "**Hans van der Marel, 19 November 2020**\n",
    "\n",
    "In this exercise we show how to compute the look angles for an observer to the satellite of interest, and vice versa, from the satellite to a point on Earth (or in space)."
   ]
  },
  {
   "cell_type": "markdown",
   "metadata": {},
   "source": [
    "## Import crsutil.py and tleplot.py Python modules\n",
    "\n",
    "For the first time, download `CIE4604-M2-python.zip` from Brightspace and unzip this in your current working directory. This should give you two Python modules: `crsutil.py` and `tleplot.py`.\n",
    "\n",
    "For this Jupyter notebook to work, the two Python modules should be in the same folder as this notebook. Import the modules using the following statements:"
   ]
  },
  {
   "cell_type": "code",
   "execution_count": null,
   "metadata": {},
   "outputs": [],
   "source": [
    "import numpy as np\n",
    "import crsutil as crs\n",
    "import tleplot as tle"
   ]
  },
  {
   "cell_type": "markdown",
   "metadata": {},
   "source": [
    "To get the docs for a specific function, use `help(functionname)`, or, to get the docs on all the functions at once do `help(module)`. To get help in a separate window type `module?` or `functionname?`. \n"
   ]
  },
  {
   "cell_type": "markdown",
   "metadata": {},
   "source": [
    "## Read TLE for Earth Resource Satellites\n",
    "\n",
    "First read the Two Line Elements (TLE) for Earth Resource Satellite, that contain Radarsat-2 (amongst others), and save the \n",
    "results in a structure array *tleERS* with `tleread`"
   ]
  },
  {
   "cell_type": "code",
   "execution_count": null,
   "metadata": {},
   "outputs": [],
   "source": [
    "tleERS = tle.tleread('resource-10-oct-2017.tle', verbose=0)"
   ]
  },
  {
   "cell_type": "markdown",
   "metadata": {},
   "source": [
    "To suppress output during the reading we have added the option `verbose=0`\n",
    "to the call of `tleread`.\n",
    "\n",
    "## Test case (Compute satellite and observer position) \n",
    "\n",
    "Initialy, we will test the code for computing the look angles in this script first on one epoch. We select an epoch for which we know Radarsat-2 is in the proximity of Delft. How to compute the time a satellite is visibible, or at its closest point,\n",
    "is something we will study in later exercises."
   ]
  },
  {
   "cell_type": "markdown",
   "metadata": {},
   "source": [
    "### Satellite position in ECI\n",
    "\n",
    "We compute the satellite position in an Earth Centered Intertial frame"
   ]
  },
  {
   "cell_type": "code",
   "execution_count": null,
   "metadata": {},
   "outputs": [],
   "source": [
    "t = tle.tledatenum('2017-9-28 6:01')\n",
    "\n",
    "xsat, vsat = tle.tle2vec(tleERS, t, 'RADARSAT-2')\n",
    "\n",
    "print('t',t)\n",
    "print('xsat: ', xsat)\n",
    "print('vsat: ', vsat)"
   ]
  },
  {
   "cell_type": "markdown",
   "metadata": {},
   "source": [
    "At this time Radarsat-2 is on a descending track East of Delft. We can\n",
    "verify this by calling `tleplot1` using a 20-minute window around this \n",
    "time."
   ]
  },
  {
   "cell_type": "code",
   "execution_count": null,
   "metadata": {},
   "outputs": [],
   "source": [
    "tle.tleplot1(tleERS,['2017-9-28 5:51', 20 ,.1],'RADARSAT-2',[ 52, 4.8,  0 ])"
   ]
  },
  {
   "cell_type": "markdown",
   "metadata": {},
   "source": [
    "### Position of the observer in ECEF\n",
    "\n",
    "The position of the observer (latitude, longitude and height) is given in ECEF using the input array *objcrd*.\n",
    "We convert this to *lat* and *lon* in radians and ECEF coordinates."
   ]
  },
  {
   "cell_type": "code",
   "execution_count": null,
   "metadata": {},
   "outputs": [],
   "source": [
    "# Latitude, longitude and height of the observer\n",
    "\n",
    "objcrd=[ 52, 4.8,  0 ]\n",
    "\n",
    "# Position of the observer in ECEF (assume latitude and longitude are for spherical Earth)\n",
    "\n",
    "Re = 6378136;              # [m]   radius of the Earth \n",
    "\n",
    "# The position of the observer (latitude, longitude and height) is given in ECEF\n",
    "# using the input array objcrd\n",
    "  \n",
    "lat = objcrd[0]*np.pi/180  # convert latitude from degrees to radians\n",
    "lon = objcrd[1]*np.pi/180  # convert longitude from degrees to radians\n",
    "Rs = Re + objcrd[2]        # convert height to radius (from CoM) using mean Earth radius Re\n",
    "\n",
    "# Position of the observer in ECEF (assume latitude and longitude are for spherical Earth)\n",
    "\n",
    "xobjECEF = [Rs*np.cos(lat)*np.cos(lon),\n",
    "            Rs*np.cos(lat)*np.sin(lon),\n",
    "            Rs*np.sin(lat)]\n",
    "vobjECEF = [0, 0, 0]\n",
    "\n",
    "print('xobjECEF',xobjECEF)"
   ]
  },
  {
   "cell_type": "markdown",
   "metadata": {},
   "source": [
    "### Conversion to common reference frame\n",
    "\n",
    "For the computation of the zenith and azimuth angle both the observer\n",
    "position and satellite position must both be in an ECI reference frame,\n",
    "or both in ECEF. So, first we have to convert the observer position \n",
    "into the ECI reference frame.\n",
    "\n",
    "The transformation from an ECEF to ECI is a simple rotation around the z-axis\n",
    "\n",
    "1. the rotation angle is GMST (Greenwhich Mean Stellar Time)\n",
    "\n",
    "2. the rotation around the z-axis can be implemented by replacing the\n",
    "   longitude (in ECEF) by local stellar time (lst) in the ECI\n",
    "\n",
    "The times given in *t* are in UTC, which is close to UT1 (max 0.9 s difference),\n",
    "which is not important for a plotting application\n",
    "\n",
    "Compute GMST from UT1, for the first epoch in *t*, using the function \n",
    "ut2gmst. The second output returned by ut2gmst is the rotational velocity\n",
    "omegae of the Earth in rev/day.\n",
    "```\n",
    "gst0, omegae = ut2gmst(t[0])\n",
    "```\n",
    "Compute local stellar time (in radians) from the longitude, GMST at the initial\n",
    "epoch and the rotational velocity of the Earth (times elapsed time). Note that\n",
    "lst is an array, while lon is a scalar)\n",
    "```\n",
    "lst = lon + gst0 +2 * np.pi * omegae * (t-[0])\n",
    "```\n",
    "Finally, compute position and velocity of the observer in ECI using lst (position and \n",
    "velocity in an ECI change all the time, unlike in a ECEF).\n",
    "\n",
    "The full algorithm is"
   ]
  },
  {
   "cell_type": "code",
   "execution_count": null,
   "metadata": {},
   "outputs": [],
   "source": [
    "# Compute GMST from UT1, for the first epoch in t, using the Matlab function \n",
    "# ut2gmst. The second output returned by ut2gmst is the rotational velocity\n",
    "# omegae of the Earth in rev/day\n",
    "\n",
    "gst0, omegae = crs.ut2gmst(t[0])\n",
    "\n",
    "Me = 7.2921151467e-5       # [rad/sec] rotational velocity of the Earth -> linked to omegae\n",
    "\n",
    "# Compute local stellar time (in radians) from the longitude, GMST at the initial\n",
    "# epoch and the rotational velocity of the Earth (times elapsed time). Note that\n",
    "# lst is an array, while lon is a scalar)\n",
    "\n",
    "lst = lon + gst0 + 2*np.pi*omegae*(t-t[0])\n",
    "\n",
    "# Compute position and velocity of the observer in ECI using lst (position and \n",
    "# velocity in an ECI change all the time, unlike in a ECEF)\n",
    "\n",
    "nepoch = t.shape[0]\n",
    "\n",
    "xobj = np.zeros((nepoch, 3))   # pre-allocate memory, makes it run faster\n",
    "vobj = np.zeros((nepoch, 3))\n",
    "\n",
    "xobj[:, 0] = Rs * np.cos(lat) *np.cos(lst)\n",
    "xobj[:, 1] = Rs * np.cos(lat) * np.sin(lst)\n",
    "xobj[:, 2] = Rs * np.sin(lat)\n",
    "\n",
    "vobj[:, 0] = -Rs * np.cos(lat) * Me * np.sin(lst)\n",
    "vobj[:, 1] =  Rs * np.cos(lat) * Me * np.cos(lst)\n",
    "\n",
    "print('xobj',xobj)\n",
    "print('vobj',vobj)"
   ]
  },
  {
   "cell_type": "markdown",
   "metadata": {},
   "source": [
    "### Relative position, velocity, range and range-rate\n",
    "\n",
    "Next we compute the position and velocity vectors with respect to the\n",
    "observer, and then the range and range rates between the observer and satellite."
   ]
  },
  {
   "cell_type": "code",
   "execution_count": null,
   "metadata": {},
   "outputs": [],
   "source": [
    "# Relative position and velocity vectors from object to satellite\n",
    "\n",
    "xobj2sat = xsat - xobj\n",
    "vobj2sat = vsat - vobj\n",
    "\n",
    "# range and range rates between object and satellite \n",
    "\n",
    "robj2sat = np.sqrt(np.sum(xobj2sat**2, axis=1))\n",
    "rrobj2sat = np.sum(vobj2sat * xobj2sat/robj2sat[:, np.newaxis], axis=1)\n",
    "\n",
    "print('xobj2sat',xobj2sat)\n",
    "print('vobj2sat',vobj2sat)\n",
    "print('robj2sat',robj2sat)\n",
    "print('rrobj2sat',rrobj2sat)"
   ]
  },
  {
   "cell_type": "markdown",
   "metadata": {},
   "source": [
    "Note that the range rate *rrobj2sat* is not the same as the relative velocity\n",
    "`np.sqrt(np.sum(vobj2sat**2, axis=1))`, these are different things."
   ]
  },
  {
   "cell_type": "markdown",
   "metadata": {},
   "source": [
    "## Zenith angle and azimuth of satellite\n",
    "\n",
    "> Make a small code snippet to compute the zenith angle and azimuth of a satellite as seen \n",
    "from an observer on Earth (using observer position in ECEF). \n",
    "\n",
    "### Look angles\n",
    "\n",
    "The various angles are shown in the plot below. \n",
    "\n",
    "**P** is the position of the observer, object or point on Earth, **S** is the satellite and **S'** is the sub-satellite point on the Earth surface. $\\mathbf{x}_P$ and $\\mathbf{x}_S$ are the position vectors from the center of the Earth **O** to the point on Earth **P** and satellite **S**. These are vectors with three Cartesian coordinates (*X, Y, Z*)\n",
    "\n",
    "![](satellite_look_angles_3D_small.png)\n",
    "\n",
    "The *zenith angle* from **P** to **S** is called $z$, the *azimuth angle* with respect to the meridian through **P**, and in the direction to **S'**, is called $\\alpha_{PS}$. \n",
    "\n",
    "The azimuth angle for the satellite is *not* a simple *180* deg difference due to the curvature of the Earth. The azimuth angle for the satellite **S** to the point **P** on Earth is the angle $\\alpha_{SP}$, this is the angle in **S'** to **P** with respect to the meridian through **S'**. The \"equivalent\" of the zenith angle for the satellite is the so-called nadir (looking) angle, which is called $\\eta$. This angle is with respect to the nadir looking vector, $-\\mathbf{x_S}$.\n",
    "\n",
    "In the figure on the right also the direction of travel of the satellite with the velocity vector $\\mathbf{v}_S$ is plotted. The heading of the satellite is the angle the projection of the vector $\\mathbf{v}_S$ on the Earth surface makes with the local meridian through point **S'**, this angle is called $\\alpha_{vsat}$. The angle $l$ gives the direction of the point $P$ with respect to the satellite heading, i.e. $l = \\alpha_{SP} - \\alpha_{vsat}$. \n",
    "\n",
    "### Algorithm derivation\n",
    "\n",
    "The algorithm which we are about to use is based on the transformation \n",
    "between 3D cartesian coordinate differences in the ECI (or ECEF) frame \n",
    "and a local North, East, Up (NEU) system.\n",
    "\n",
    "The relation between the differential coordinates $(dX,dY,dZ)$  and  $(dN,dE,dU)$ is,\n",
    " \n",
    "$\\left( \\begin{array}{c} dX \\\\ dY \\\\dZ \\end{array}\\right) =\n",
    " \\left( \\begin{array}{ccc} - \\sin \\varphi \\cos \\lambda &  - \\sin \\lambda & \\cos \\varphi \\cos \\lambda \\\\\n",
    "                                         - \\sin \\varphi \\sin \\lambda &   \\cos \\lambda & \\cos \\varphi \\sin \\lambda \\\\\n",
    "                                            \\cos \\varphi &  &  \\sin \\varphi  \\end{array} \\right)\n",
    " \\left( \\begin{array}{c} dN \\\\ dE  \\\\ dU  \\end{array} \\right) $\n",
    "\n",
    "The inverse relation is\n",
    "\n",
    "$\\left( \\begin{array}{c} dN \\\\ dE \\\\dU \\end{array}\\right) =\n",
    " \\left( \\begin{array}{ccc} - \\sin \\varphi \\cos \\lambda & - \\sin \\varphi \\sin \\lambda &  \\cos \\varphi  \\\\\n",
    "                                        - \\sin \\lambda &                \\cos \\lambda &  0 \\\\\n",
    "                             \\cos \\varphi \\cos \\lambda &   \\cos \\varphi \\sin \\lambda &  \\sin \\varphi  \\end{array} \\right)\n",
    " \\left( \\begin{array}{c} dX \\\\ dY  \\\\ dZ  \\end{array} \\right) $\n",
    "\n",
    "see Eq. 4.15 of the Reference System reader.\n",
    "\n",
    "In the third row of the rotation matrix we recognise the transpose of the normal\n",
    "vector $\\bar{\\mathbf n}$, with\n",
    "\n",
    "$ \\bar{\\mathbf n}^T =  \\left( \\begin{array}{ccc} n_1 & n_2 & n_3 \\end{array} \\right) = \\left( \\begin{array}{ccc} \\cos \\varphi \\cos \\lambda &   \\cos \\varphi \\sin \\lambda &  \\sin \\varphi  \\end{array} \\right)$\n",
    "\n",
    "Using this, the transformation can be re-written as\n",
    "\n",
    "$\\left( \\begin{array}{c} dN \\\\ dE \\\\dU \\end{array}\\right) =\n",
    " \\left( \\begin{array}{ccc} - n_1 n_3 / \\cos \\varphi    & - n_2 n_3 / \\cos \\varphi  &  \\cos \\varphi  \\\\\n",
    "                           - n_2 \\cos \\varphi          &   n_1 / \\cos \\varphi      &  0 \\\\\n",
    "                             n_1                       &   n_2                     &  n_3    \\end{array} \\right)\n",
    " \\left( \\begin{array}{c} dX \\\\ dY  \\\\ dZ  \\end{array} \\right) $\n",
    "\n",
    "Now, if we define two new variables, representing the inner product of \n",
    "the normal vector $\\bar{\\mathbf n}$ with $(dX,dY,dZ)$ and the cosine of\n",
    "the latitude,\n",
    "\n",
    "$\\mbox{ip} =  n_1 * dX + n_2 * dY +  n_3 * dZ $\n",
    "\n",
    "$\\mbox{cphi} = \\cos \\varphi = \\sqrt{ 1 -n_3^2}$\n",
    "\n",
    "we obtain after some re-writing\n",
    "\n",
    "$dN = ( dZ - \\mbox{ip} * n_3 ) / \\mbox{cphi} $\n",
    " \n",
    "$dE = ( - n_2 * dX +  n_1 * dY ) / \\mbox{cphi} $\n",
    "\n",
    "$dU = \\mbox{ip} $\n",
    "\n",
    "For the distance $s$, zenith angle $z$  and azimuth $\\alpha$ we find\n",
    "\n",
    "$s =\\sqrt{dX^2 + dY^2 + dZ^2}$\n",
    "\n",
    "$z = \\mbox{acos}( \\mbox{ip} / s)$\n",
    "\n",
    "$\\alpha = \\mbox{atan2}( dE , dN )$\n",
    "\n",
    "As you can see, the final equations are quite elegant and efficient, and easy to implement.\n",
    "\n",
    "### Algorithm\n",
    "\n",
    "The azimuth and elevation are computed from the unit direction vector\n",
    "*ers* from the observer to the satellite, and normal vector *n0* for the\n",
    "observer, which are computed first. The zenith angle and azimuth angle\n",
    "are computed next."
   ]
  },
  {
   "cell_type": "code",
   "execution_count": null,
   "metadata": {},
   "outputs": [],
   "source": [
    "# normal vector (vertical) and unit direction vector to satellite from observer\n",
    "\n",
    "robj = np.sqrt(np.sum(xobj**2, axis=1))    # range to the object (observer)\n",
    "n0 = xobj / robj[:, np.newaxis]            # normal vector from object (observer)\n",
    "ers = xobj2sat / robj2sat[:, np.newaxis]   # unit direction vector from observer to satellite\n",
    "\n",
    "# zenith angle and azimuth of satellite (as seen from object wrt to radial direction)\n",
    "\n",
    "ip = np.sum(n0 * ers, axis=1)\n",
    "zenith = np.arccos(ip)\n",
    "azi = np.arctan2(-n0[:, 1]*ers[:, 0] + n0[:, 0]*ers[:, 1], ip*-1*n0[:, 2] + ers[:, 2])\n",
    "azi += 2*np.pi\n",
    "azi %= 2*np.pi\n",
    "\n",
    "# print result\n",
    "\n",
    "print('Zenith angle (rad->deg)',zenith*180/np.pi)\n",
    "print('Azimuth angle (rad->deg)',azi*180/np.pi)"
   ]
  },
  {
   "cell_type": "markdown",
   "metadata": {},
   "source": [
    "> Add a test to determine whether or not a satellite is visible from the observer, assuming a certain cut-off elevation angle.  \n",
    "\n",
    "First, compute the elevation angle, in degrees, from the zenith angle, then test is the elevation angle is above the cutoff limit.\n",
    "\n"
   ]
  },
  {
   "cell_type": "code",
   "execution_count": null,
   "metadata": {},
   "outputs": [],
   "source": [
    "# Elevation angle and satellite visibility (if elevation angle > 0))\n",
    "    \n",
    "elevation = np.pi/2 - zenith\n",
    "\n",
    "cutoff = 0                       # cutoff angle in degrees\n",
    "visible = elevation > np.radians(cutoff)\n",
    "\n",
    "print(visible)"
   ]
  },
  {
   "cell_type": "markdown",
   "metadata": {},
   "source": [
    "Here we used a cut-off elevation angle of zero degrees, which assumes a\n",
    "clear horizon. A more realistic choice could have been ten degrees.\n",
    "\n",
    "The computation above is done in an ECI reference frame, but it\n",
    "is also posible to do this in an ECEF reference frame. For this you have\n",
    "to replace *xsat* by *xsate*, and *xobj* by *xobjECEF*.\n",
    "\n",
    "The velocities have not be used in this part of the computation, but we\n",
    "need those later on to compute the look-angle.\n",
    "\n",
    "To rewrite this code into a function is straighforward and not shown\n",
    "here.\n"
   ]
  },
  {
   "cell_type": "markdown",
   "metadata": {},
   "source": [
    "### Nadir angle and azimuth angle from satellite\n",
    "\n",
    "> Make a small code snippet to compute the nadir and azimuth angle from the satellite \n",
    "to a point on Earth (with coordinates in ECEF).\n",
    " \n",
    "The computation of the nadir angle and azimuth angle from the satellite\n",
    "to the observer is similar to the computation of zenith angle and\n",
    "azimuth in the previous section. You only have to replace *xobj* by\n",
    "*xsat*, and revert the direction of *ers*.\n"
   ]
  },
  {
   "cell_type": "code",
   "execution_count": null,
   "metadata": {},
   "outputs": [],
   "source": [
    "# normal vector (vertical) and unit direction vector to satellite from observer\n",
    "\n",
    "rsat = np.sqrt(np.sum(xsat**2, axis=1))    # range to the satellite\n",
    "n0sat = xsat / rsat[:, np.newaxis]         # normal vector from satellite\n",
    "ers = xobj2sat / robj2sat[:, np.newaxis]   # unit direction vector from observer to satellite\n",
    "\n",
    "# zenith angle and azimuth of satellite (as seen from object wrt to radial direction)\n",
    "\n",
    "ipsat = np.sum(n0sat * ers, axis=1)\n",
    "nadir = np.arccos(ipsat)\n",
    "azisat = np.arctan2( n0sat[:, 1]*ers[:, 0] - n0sat[:, 0]*ers[:, 1], -ipsat*-1*n0sat[:, 2] - ers[:, 2])  # note sign difference in ers\n",
    "azisat += 2*np.pi\n",
    "azisat %= 2*np.pi\n",
    "\n",
    "# print result\n",
    "\n",
    "print('Nadig angle (rad->deg)',nadir*180/np.pi)\n",
    "print('Azimuth angle (rad->deg)',azisat*180/np.pi)\n",
    "\n",
    "# print difference with angles that originate at the observer \n",
    "print('Zenith and Nadir angle difference',(zenith-nadir)*180/np.pi)\n",
    "print('Azimuth angle difference',(azi-azisat)*180/np.pi)"
   ]
  },
  {
   "cell_type": "markdown",
   "metadata": {},
   "source": [
    "> Why is the nadir angle not equal to the zenith angle, and why is the difference between azimuth angles from the two view points not 180 degrees?\n",
    "\n",
    "This is because we are working on a sphere and because the angles are\n",
    "defined with respect to a local normal and north direction. \n",
    "\n",
    "To rewrite this code into a function is straighforward and not shown\n",
    "here."
   ]
  },
  {
   "cell_type": "markdown",
   "metadata": {},
   "source": [
    "## Look angle from satellite\n",
    "\n",
    "Compute the look angle from the satellite to a point on Earth. The look angle \n",
    "is the difference between the azimuth computed in the previous section) and the azimuth angle \n",
    "of the velocity vector (direction of travel).    \n",
    "\n",
    "The azimuth of the velocity vector is"
   ]
  },
  {
   "cell_type": "code",
   "execution_count": null,
   "metadata": {},
   "outputs": [],
   "source": [
    "velsat = np.sqrt(np.sum(vsat**2, axis=1))    # velocity\n",
    "\n",
    "evsat = vsat / velsat[:, np.newaxis]         # unit direction vector from velocitu\n",
    "\n",
    "ipvel = np.sum(n0sat * evsat, axis=1)\n",
    "azivel = np.arctan2( -n0sat[:, 1]*evsat[:, 0] + n0sat[:, 0]*evsat[:, 1], ipvel*-1*n0sat[:, 2] + evsat[:, 2])  # note sign difference in ers\n",
    "azivel += 2*np.pi\n",
    "azivel %= 2*np.pi\n",
    "\n",
    "print('Azimuth angle to observer',azisat*180/np.pi)\n",
    "print('Azimuth angle to velocity vector',azivel*180/np.pi)\n"
   ]
  },
  {
   "cell_type": "markdown",
   "metadata": {},
   "source": [
    "The look angle is the difference of the two azimuth angles:"
   ]
  },
  {
   "cell_type": "code",
   "execution_count": null,
   "metadata": {},
   "outputs": [],
   "source": [
    "print('Look angle',(azisat-azivel)*180/np.pi)"
   ]
  },
  {
   "cell_type": "markdown",
   "metadata": {},
   "source": [
    "The satellite is on a descending track, so moving South, and since\n",
    "the satellite is East of Delft, Delft should be to the right of the\n",
    "the satellite."
   ]
  },
  {
   "cell_type": "markdown",
   "metadata": {},
   "source": [
    "## Functions to compute and print lookangles\n",
    "\n",
    "Instead of creating individual functions to compute the various\n",
    "lookangles, i created one function to do all of them. This function\n",
    "is called `satlookanglesp`. It uses `prtlookangle` to print a nice table.\n",
    "\n",
    "To reproduce the results of the previous sections, with a bit more\n",
    "epochs, we get in the ECI reference frame "
   ]
  },
  {
   "cell_type": "code",
   "execution_count": null,
   "metadata": {},
   "outputs": [],
   "source": [
    "t = tle.tledatenum(['2017-9-28 6:00',10,1])\n",
    "\n",
    "xsat, vsat = tle.tle2vec(tleERS, t, 'RADARSAT-2')\n",
    "xobj, vobj = crs.ecef2eci(t, xobjECEF)\n",
    "\n",
    "lookangles, flags = crs.satlookanglesp(t, np.hstack([xsat, vsat]), np.hstack([xobj, vobj]))\n",
    "crs.prtlookangle(t, lookangles, flags)\n"
   ]
  },
  {
   "cell_type": "markdown",
   "metadata": {},
   "source": [
    "For the ECEF reference frame we get the same result, except for the satellite \n",
    "heading, and therefore also the look direction with respect to the flight \n",
    "direction. The heading and look angle with respect to the flight direction\n",
    "are not the same in the ECI and ECEF reference frames, this is a\n",
    "consequence of the fact that the ECEF reference frame is rotating."
   ]
  },
  {
   "cell_type": "code",
   "execution_count": null,
   "metadata": {},
   "outputs": [],
   "source": [
    "xsate, vsate = crs.eci2ecef(t, xsat, vsat)\n",
    "\n",
    "xobje = np.array(xobjECEF)\n",
    "xobje=np.tile(xobje,[t.shape[0],1])\n",
    "xobje=np.hstack([xobje, np.zeros((t.shape[0],3))])\n",
    "\n",
    "lookangles, flags = crs.satlookanglesp(t, np.hstack([xsate, vsate]),xobje)\n",
    "crs.prtlookangle(t, lookangles, flags)"
   ]
  },
  {
   "cell_type": "markdown",
   "metadata": {},
   "source": [
    "The difference in heading is roughly two degrees in this case. \n",
    "\n",
    "Note that this function expects the satellite statevector instead of\n",
    "the separate position and velocities. For the object coordinates *xobje*\n",
    "only the position is enough in an ECEF frame, but for an ECI frame both\n",
    "position and velocity need to be given for every epoch.\n",
    "\n",
    "For more information on how to use this function type \n",
    "```\n",
    "help(satlookanglesp)\n",
    "```"
   ]
  },
  {
   "cell_type": "code",
   "execution_count": null,
   "metadata": {},
   "outputs": [],
   "source": [
    "help(crs.satlookanglesp)"
   ]
  },
  {
   "cell_type": "markdown",
   "metadata": {},
   "source": [
    "## Final remarks\n",
    "\n",
    "You may have noticed that we used astronomical latitude and longitude\n",
    "to compute the position of an observer on Earth. It is also possible\n",
    "to use geodetic latitude and longitude, which relate to an ellipsoid\n",
    "instead of a sphere, and compute zenith angles and azimuth with respect\n",
    "to the ellipsoid. These computations are supported by the `crsutil` \n",
    "module, but far more complicated than the ones shown in this example,\n",
    "while the differences are very small (few tenths of a degree).\n",
    "\n",
    "The computations are done in an ECI reference frame. In exercise 4 we \n",
    "discuss the transformation to an ECEF reference frame and redo some of\n",
    "the earlier computations.\n",
    "\n",
    "In this exercise we computed the look angles between two points, a \n",
    "satellite and an observer. Note that the observer can be a point on\n",
    "Earth or another satellite. This does not really matter. In exercise 5 \n",
    "we tackle the inverse problem: given the position of a satellite,\n",
    "and the look angles from the satellite, find the corresponding point on \n",
    "Earth."
   ]
  },
  {
   "cell_type": "markdown",
   "metadata": {},
   "source": [
    "[End of this Jupyter notebook]"
   ]
  }
 ],
 "metadata": {
  "kernelspec": {
   "display_name": "Python 3",
   "language": "python",
   "name": "python3"
  },
  "language_info": {
   "codemirror_mode": {
    "name": "ipython",
    "version": 3
   },
   "file_extension": ".py",
   "mimetype": "text/x-python",
   "name": "python",
   "nbconvert_exporter": "python",
   "pygments_lexer": "ipython3",
   "version": "3.8.3"
  }
 },
 "nbformat": 4,
 "nbformat_minor": 4
}
