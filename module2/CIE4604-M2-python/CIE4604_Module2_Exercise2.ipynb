{
 "cells": [
  {
   "cell_type": "markdown",
   "metadata": {},
   "source": [
    "#### CIE4604 Simulation and Visualization\n",
    "# Module 2 Satellite Orbits - Exercise 2\n",
    "\n",
    "**Hans van der Marel, 18 November 2020**\n",
    "\n",
    "Radarsat-2 should be a 24 day sun-synchronous repeat orbit. In this exercise we are going to check if this is indeed the case. And if not, we will look for an explanation."
   ]
  },
  {
   "cell_type": "markdown",
   "metadata": {},
   "source": [
    "## Import crsutil.py and tleplot.py Python modules\n",
    "\n",
    "For the first time, download `CIE4604-M2-python.zip` from Brightspace and unzip this in your current working directory. This should give you two Python modules: `crsutil.py` and `tleplot.py`.\n",
    "\n",
    "For this Jupyter notebook to work, the two Python modules should be in the same folder as this notebook. Import the modules using the following statements:"
   ]
  },
  {
   "cell_type": "code",
   "execution_count": null,
   "metadata": {},
   "outputs": [],
   "source": [
    "import numpy as np\n",
    "import crsutil as crs\n",
    "import tleplot as tle"
   ]
  },
  {
   "cell_type": "markdown",
   "metadata": {},
   "source": [
    "To get the docs for a specific function, use `help(functionname)`, or, to get the docs on all the functions at once do `help(module)`. To get help in a separate window type `module?` or `functionname?`. "
   ]
  },
  {
   "cell_type": "markdown",
   "metadata": {},
   "source": [
    "## Compute satellite position and velocity for Radarsat-2\n",
    "\n",
    "First read the Two Line Elements (TLE) for Earth Resource Satellite, that contain Radarsat-2 (amongst others), and save the \n",
    "results in a structure array *tleERS* with `tleread` \n",
    "```\n",
    "tleERS = tleread('resource-10-oct-2017.tle', verbose=0)\n",
    "```\n",
    "To suppress output during the reading we have added the option value pair `verbose=0` to the call.\n",
    "\n",
    "To check that Radarsat-2 is in a 24 day sun-synchronous repeat orbit we compute two satellite positions 24 days apart. \n",
    "\n",
    "I have selected an epoch for which i know Radarsat-2 is in the proximity of Delft. At this time Radarsat-2 is on a descending track East of Delft. However, any other epoch would also be fine. The second epoch is 24 days later.\n",
    "```\n",
    "t[0] = tledatenum('2017-9-28 6:01')\n",
    "t[1] = t[0] + 24\n",
    "```\n",
    "Then compute the satellite positions and velocities for both dates\n",
    "```\n",
    "datestr(t)\n",
    "xsat, vsat = tle2vec(tleERS, t, 'RADARSAT-2')\n",
    "```"
   ]
  },
  {
   "cell_type": "code",
   "execution_count": null,
   "metadata": {},
   "outputs": [],
   "source": [
    "tleERS = tle.tleread('resource-10-oct-2017.tle', verbose=0)\n",
    "\n",
    "t0 = tle.tledatenum('2017-9-28 6:01')\n",
    "#t = np.array([ t0 , t0 + 24 ])\n",
    "t = np.hstack([ t0 , t0 + 24 ])\n",
    "print('t',t)\n",
    "\n",
    "xsat, vsat = tle.tle2vec(tleERS, t, 'RADARSAT-2')\n",
    "\n",
    "print('xsat: ', xsat)\n",
    "print('vsat: ', vsat)\n"
   ]
  },
  {
   "cell_type": "code",
   "execution_count": null,
   "metadata": {},
   "outputs": [],
   "source": [
    "tleERS = tle.tleread('resource-10-oct-2017.tle', verbose=0)\n",
    "\n",
    "t = tle.tledatenum(['2017-9-28 6:01',24*24*60,24*24*60])\n",
    "print('t',t)\n",
    "\n",
    "xsat, vsat = tle.tle2vec(tleERS, t, 'RADARSAT-2')\n",
    "print('xsat: ', xsat)\n",
    "print('vsat: ', vsat)"
   ]
  },
  {
   "cell_type": "markdown",
   "metadata": {},
   "source": [
    "## Compute the difference between the two positions\n",
    "\n",
    "If the repeat period is indeed 24 days the two positions should be almost identical. Check this by computing the difference between both positions.\n",
    "\n",
    "Since we will be comparing positions more than once, we will first write a function to compute the difference and print the differences. We call this function `printPosDiff`:"
   ]
  },
  {
   "cell_type": "code",
   "execution_count": null,
   "metadata": {},
   "outputs": [],
   "source": [
    "def printPosDiff(xsat,vsat, ECEF=False):\n",
    "    # Compute Difference between the two positions and print\n",
    "    \n",
    "    delta_pos=xsat[1,:]-xsat[0,:]\n",
    "    delta_dist = np.sqrt(np.sum(delta_pos**2))\n",
    "\n",
    "    rsat = np.sqrt(np.sum(xsat**2,axis=1))\n",
    "    velsat = np.sqrt(np.sum(vsat**2,axis=1))\n",
    "    delta_along_track = np.dot(delta_pos,vsat[0,:]/velsat[1])\n",
    "\n",
    "    delta_ra=( np.arctan2(xsat[1,1], xsat[1,0]) - np.arctan2(xsat[0,1], xsat[0,0]) ) * 180 / np.pi\n",
    "    delta_dec=( np.arcsin(xsat[1,2]/rsat[1]) - np.arcsin(xsat[0,2]/rsat[0])) * 180 / np.pi\n",
    "\n",
    "    if ECEF:\n",
    "        print('Coordinate Difference ECEF [km]: {:>7.1f} {:>7.1f} {:>7.1f}\\n'.format(delta_pos[0]/1000,delta_pos[1]/1000,delta_pos[2]/1000))\n",
    "    else:\n",
    "        print('Coordinate Difference ECI [km]:  {:>7.1f} {:>7.1f} {:>7.1f}\\n'.format(delta_pos[0]/1000,delta_pos[1]/1000,delta_pos[2]/1000))\n",
    "    print('Distance difference [km]:        {:>7.1f}'.format(delta_dist/1000))\n",
    "    print('- Along track distance [km]      {:>7.1f}'.format(delta_along_track/1000))\n",
    "    print('- Perpendicular distance [km]    {:>7.1f}'.format(np.sqrt(delta_dist**2-delta_along_track**2)/1000))\n",
    "    print('- Radial distance [km]           {:>7.1f}\\n'.format((rsat[1]-rsat[0])/1000))\n",
    "    if ECEF:\n",
    "       print('Longitude difference [deg]       {:>7.1f}'.format(delta_ra))\n",
    "       print('Latitude difference [deg]        {:>7.1f}\\n'.format(delta_dec))\n",
    "    else:\n",
    "       print('Right ascension difference [deg] {:>7.1f}'.format(delta_ra))\n",
    "       print('Declination difference [deg]     {:>7.1f}\\n'.format(delta_dec))\n",
    "    "
   ]
  },
  {
   "cell_type": "markdown",
   "metadata": {},
   "source": [
    "The `printPosDiff` function has also a few print statements to show the differences in the radial, along and across track directions; and to show the differences in right ascension and declination.\n",
    "\n",
    "### Comparison in ECI\n",
    "\n",
    "Now, let try this function on our *xsat* and *vsat* parameters..."
   ]
  },
  {
   "cell_type": "code",
   "execution_count": null,
   "metadata": {},
   "outputs": [],
   "source": [
    "printPosDiff(xsat,vsat)"
   ]
  },
  {
   "cell_type": "markdown",
   "metadata": {},
   "source": [
    "The two positions are some *2000* km apart, and your first impression may be, that this is not what we would expect for a repeat orbit orbit... But then, these are difference in an ECI reference frame, and for repeat orbits to be meaningful we have to be in an ECEF reference frame.\n",
    "\n",
    "The main difference is in the right ascension, *23.6* degrees, which perfectly matches the rotation of the Earth around the sun for a 24 day period.\n",
    "\n",
    "The next step is to convert the positions into an ECEF and then compare again.\n",
    "\n",
    "### Comparison in ECEF\n",
    "\n",
    "To convert the positions from ECI to ECEF we use the `eci2ecef` funtion from the `crsutil` module,\n",
    "```\n",
    "xsate, vsate = eci2ecef(t, xsat, vsat)\n",
    "```\n",
    "This functions needs the time t (why?)."
   ]
  },
  {
   "cell_type": "code",
   "execution_count": null,
   "metadata": {
    "scrolled": false
   },
   "outputs": [],
   "source": [
    "xsate, vsate = crs.eci2ecef(t, xsat, vsat)\n",
    "\n",
    "print('xsate',xsate)\n",
    "print('vsate',vsate)"
   ]
  },
  {
   "cell_type": "markdown",
   "metadata": {},
   "source": [
    "The difference between the two postions in the ECEF frame now is"
   ]
  },
  {
   "cell_type": "code",
   "execution_count": null,
   "metadata": {},
   "outputs": [],
   "source": [
    "printPosDiff(xsate, vsate, ECEF=True)"
   ]
  },
  {
   "cell_type": "markdown",
   "metadata": {},
   "source": [
    "**This seems to have worked!!**\n",
    "\n",
    "The difference in ECEF coordinates is less than *20* km, and mainly\n",
    "in the along track direction. With a velocity of *7.5* km/s (check this\n",
    "yourself `np.sqrt(np.sum(vsate**2,axis=1))` this corresponds to a *2*-*3* second\n",
    "time difference. The differences in latitude and longitude are smaller\n",
    "than a few tenths of a degree. \n",
    "\n",
    "The remaining differences are the result of small errors in the Two\n",
    "Line Elements and limited accuracy of the orbit propagation method that\n",
    "is used in our Python routines. \n",
    "\n",
    "Also most satellites have to do small orbit adjustments from time to time to stay within the envellope of\n",
    "their design orbit. This is definitely not taken into account in the orbit propagation!"
   ]
  },
  {
   "cell_type": "markdown",
   "metadata": {},
   "source": [
    "## Defunct orbit propagation\n",
    "\n",
    "The default orbit propagation method includes the effects of **J2** on\n",
    "the secular component of the orbit elements. We can turn this off\n",
    "in the computations by providing the `propagation='NOJ2'` option to `tle2vec`."
   ]
  },
  {
   "cell_type": "code",
   "execution_count": null,
   "metadata": {},
   "outputs": [],
   "source": [
    "xsatNoJ2, vsatNoJ2 = tle.tle2vec(tleERS,t,'RADARSAT-2',propagation='NOJ2')"
   ]
  },
  {
   "cell_type": "markdown",
   "metadata": {},
   "source": [
    "The difference between the two postions in the ECEF frame is"
   ]
  },
  {
   "cell_type": "code",
   "execution_count": null,
   "metadata": {},
   "outputs": [],
   "source": [
    "xsateNoJ2, vsateNoJ2 = crs.eci2ecef(t, xsatNoJ2, vsatNoJ2)\n",
    "printPosDiff(xsateNoJ2, vsateNoJ2, ECEF=True)"
   ]
  },
  {
   "cell_type": "markdown",
   "metadata": {},
   "source": [
    "This is the result of improper orbit propagation. As you can observe the effect is quite dramatic.\n",
    "\n",
    "We need to properly propagate the effect of J2 on the orbital elements.\n",
    "For more information how this is achieved see the lecture notes and\n",
    "the Matlab function `tle2orb`."
   ]
  },
  {
   "cell_type": "markdown",
   "metadata": {},
   "source": [
    "[End of this Jupyter notebook]"
   ]
  }
 ],
 "metadata": {
  "kernelspec": {
   "display_name": "Python 3",
   "language": "python",
   "name": "python3"
  },
  "language_info": {
   "codemirror_mode": {
    "name": "ipython",
    "version": 3
   },
   "file_extension": ".py",
   "mimetype": "text/x-python",
   "name": "python",
   "nbconvert_exporter": "python",
   "pygments_lexer": "ipython3",
   "version": "3.8.3"
  }
 },
 "nbformat": 4,
 "nbformat_minor": 4
}
