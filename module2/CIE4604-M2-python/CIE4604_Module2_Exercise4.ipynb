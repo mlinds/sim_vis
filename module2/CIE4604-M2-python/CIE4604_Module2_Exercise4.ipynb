{
 "cells": [
  {
   "cell_type": "markdown",
   "metadata": {},
   "source": [
    "#### CIE4604 Simulation and Visualization\n",
    "\n",
    "# Module 2 Satellite Orbits - Exercise 4\n",
    "\n",
    "**Hans van der Marel, 21 November 2020**\n",
    "\n",
    "The function `tle2vec` in the Python module `tleplot.py` returns the position and velocity of satellites in an ECI reference frame. However, often it is more convenient to have the position and velocity in an ECEF reference frame. The transformation between an ECI and ECEF, and vice versa, is done with the functions `eci2ecef` and `ecef2eci` from the `crsutil.py` module.\n",
    "\n",
    "In this example we explain the theory behind them, and have a look at the effect on the look angles."
   ]
  },
  {
   "cell_type": "markdown",
   "metadata": {},
   "source": [
    "## Import crsutil.py and tleplot.py Python modules\n",
    "\n",
    "For the first time, download `CIE4604-M2-python.zip` from Brightspace and unzip this in your current working directory. This should give you two Python modules: `crsutil.py` and `tleplot.py`.\n",
    "\n",
    "For this Jupyter notebook to work, the two Python modules should be in the same folder as this notebook. Import the modules using the following statements:"
   ]
  },
  {
   "cell_type": "code",
   "execution_count": null,
   "metadata": {},
   "outputs": [],
   "source": [
    "import numpy as np\n",
    "import matplotlib.pyplot as plt\n",
    "import crsutil as crs\n",
    "import tleplot as tle\n",
    "from scipy.interpolate import interp1d "
   ]
  },
  {
   "cell_type": "markdown",
   "metadata": {},
   "source": [
    "To get the docs for a specific function, use `help(functionname)`, or, to get the docs on all the functions at once do `help(module)`. To get help in a separate window type `module?` or `functionname?`. \n"
   ]
  },
  {
   "cell_type": "markdown",
   "metadata": {},
   "source": [
    "## Read TLE for Earth Resource Satellites\n",
    "\n",
    "First read the Two Line Elements (TLE) for Earth Resource Satellite, that contain Radarsat-2 (amongst others), and save the \n",
    "results in a structure array *tleERS* with `tleread`"
   ]
  },
  {
   "cell_type": "code",
   "execution_count": null,
   "metadata": {},
   "outputs": [],
   "source": [
    "tleERS = tle.tleread('resource-10-oct-2017.tle', verbose=0)"
   ]
  },
  {
   "cell_type": "markdown",
   "metadata": {},
   "source": [
    "To suppress output during the reading we have added the option `verbose=0`\n",
    "to the call of `tleread`."
   ]
  },
  {
   "cell_type": "markdown",
   "metadata": {},
   "source": [
    "## Compute satellite position and velocity for Radarsat-2 in ECI\n",
    "\n",
    "Compute the positions and velocities for Radarsat-2 in the ECI reference frame for a 24 hour period with samples every minute."
   ]
  },
  {
   "cell_type": "code",
   "execution_count": null,
   "metadata": {},
   "outputs": [],
   "source": [
    "t = tle.tledatenum(['2017-10-10 0:00', 24*60, 1])\n",
    "xsat, vsat = tle.tle2vec(tleERS, t, 'RADARSAT-2')"
   ]
  },
  {
   "cell_type": "markdown",
   "metadata": {},
   "source": [
    "## Conversion from ECI to ECEF and vice-versa\n",
    "\n",
    "To convert the positions from ECI to ECEF we use the fuction `eci2ecef` from the `crsutil.py` module "
   ]
  },
  {
   "cell_type": "code",
   "execution_count": null,
   "metadata": {},
   "outputs": [],
   "source": [
    "xsate, vsate = crs.eci2ecef(t, xsat, vsat)"
   ]
  },
  {
   "cell_type": "markdown",
   "metadata": {},
   "source": [
    "To convert from ECEF to ECI use `ecef2eci`. We test this out by transforming the previously computed coordinates in ECEF back to ECI, and compare with the original values"
   ]
  },
  {
   "cell_type": "code",
   "execution_count": null,
   "metadata": {},
   "outputs": [],
   "source": [
    "xsat2, vsat2 = crs.ecef2eci(t, xsate, vsate)\n",
    "\n",
    "print('max diff xsat: ', np.max(np.max(np.abs(xsat-xsat2))))\n",
    "print('max diff vsat: ', np.max(np.max(np.abs(vsat-vsat2))))"
   ]
  },
  {
   "cell_type": "markdown",
   "metadata": {},
   "source": [
    "## Conversion from ECI to ECEF - explained\n",
    "\n",
    "The conversion from ECI to ECEF consists of a number of steps. The \n",
    "first step is to compute the Earth Rotation Angle(GMST) with respect\n",
    "to the vernal equinox.\n",
    "\n",
    "To save compute resources we compute first GMST at a reference epoch *t[0]*, \n",
    "and then use the Earth rotation rate to compute GMST at the others epochs \n"
   ]
  },
  {
   "cell_type": "code",
   "execution_count": null,
   "metadata": {},
   "outputs": [],
   "source": [
    "gst0, omegae = crs.ut2gmst(t[0])\n",
    "gst = gst0 + 2 * np.pi * omegae * (t-t[0])"
   ]
  },
  {
   "cell_type": "markdown",
   "metadata": {},
   "source": [
    "The next step is to rotate satellite positions around the z-axis (ECI->ECEF))"
   ]
  },
  {
   "cell_type": "code",
   "execution_count": null,
   "metadata": {},
   "outputs": [],
   "source": [
    "xsate = np.zeros(xsat.shape)\n",
    "xsate[:, 0] = np.cos(gst)*xsat[:, 0] + np.sin(gst) * xsat[:, 1]\n",
    "xsate[:, 1] = -np.sin(gst) * xsat[:, 0] + np.cos(gst) * xsat[:, 1]\n",
    "xsate[:, 2] = xsat[:, 2]"
   ]
  },
  {
   "cell_type": "markdown",
   "metadata": {},
   "source": [
    "To convert velocity is more complicated. The velocity in ECEF\n",
    "consists of two parts. We find this by differentiating the transformation\n",
    "formula for the positions\n",
    "```\n",
    "    xsate = R * xsat\n",
    "```\n",
    "This gives (product rule, and some rewriting), with *_dot* the derivatives\n",
    "```\n",
    "    xsate_dot = R * xsat_dot + R_dot * xsat    <=>\n",
    "    vsate = R * ( vsat + inv(R)*R_dot * xsat ) <=>\n",
    "    vsate = R * ( vsat + W * xsat )\n",
    "```\n",
    "with \n",
    "```\n",
    "    W = inv(R) * R_dot = [[ 0 -w[2] w[1] ], \n",
    "                          [ w[2] 0 -w[0] ],\n",
    "                          [-w[1] w[0] 0 \\]]\n",
    "```\n",
    "and with *w\\[2\\]* the angular velocity vector of the ECEF frame with respect to\n",
    "the ECU frame, expressed in the ECI frame.\n",
    "\n",
    "The velocity vector in the ECEF is computed as follows..."
   ]
  },
  {
   "cell_type": "code",
   "execution_count": null,
   "metadata": {},
   "outputs": [],
   "source": [
    "w = np.array([[0],\n",
    "              [0],\n",
    "              [2*np.pi*omegae/86400]])\n",
    "\n",
    "W = np.array([[0, -w[2, 0], w[1, 0]],\n",
    "              [w[2, 0], 0, -w[0, 0]],\n",
    "              [-w[1, 0], w[0, 0], 0]])\n",
    "\n",
    "vsatw = vsat - np.matmul(xsat, W.T)\n",
    "\n",
    "vsate = np.zeros(vsat.shape)\n",
    "vsate[:, 0] = np.cos(gst)*vsatw[:, 0] + np.sin(gst) * vsatw[:, 1]\n",
    "vsate[:, 1] = -np.sin(gst) * vsatw[:, 0] + np.cos(gst) * vsatw[:, 1]\n",
    "vsate[:, 2] = vsatw[:, 2]"
   ]
  },
  {
   "cell_type": "markdown",
   "metadata": {},
   "source": [
    "If we compare the velocities with the numerical derivative of positions\n",
    "we are in good agreement for both the ECI and ECEF frames."
   ]
  },
  {
   "cell_type": "code",
   "execution_count": null,
   "metadata": {},
   "outputs": [],
   "source": [
    "# Prepare time arrays for differencing\n",
    "tnum = ( t[0:-1] + t[1:] ) / 2                           # average of two epochs\n",
    "tdiff = np.diff(t) * 24 * 3600                           # first differences of time, converted to seconds \n",
    "\n",
    "# Numerical derivative of the ECI and ECEF positions\n",
    "vsatnum = np.diff(xsat, axis=0)\n",
    "vsatnum = vsatnum / tdiff[:, np.newaxis]\n",
    "vsatenum = np.diff(xsate, axis=0)\n",
    "vsatenum = vsatenum / tdiff[:, np.newaxis]\n",
    "\n",
    "# Plot velocity in ECI\n",
    "plt.figure()\n",
    "plt.plot(t, vsat)\n",
    "plt.title('Velocities in ECI')\n",
    "plt.ylabel('Velocity [m/s/]')\n",
    "\n",
    "# Plot difference of the numerical velocities with actual velocities in ECI\n",
    "plt.figure()\n",
    "for k in range(3):\n",
    "    set_interp = interp1d(t, vsat[:,k], kind='linear')\n",
    "    vsatdiff = vsatnum[:,k] - np.array([set_interp(tnum)])\n",
    "    plt.plot(tnum, vsatdiff.T)\n",
    "\n",
    "plt.title('Numerical velocity difference in ECI')\n",
    "plt.ylabel('Difference [m/s/]')\n",
    "\n",
    "# Plot difference of the numerical velocities with actual velocities in ECEF\n",
    "plt.figure()\n",
    "for k in range(3):\n",
    "    set_interp = interp1d(t, vsate[:,k], kind='linear')\n",
    "    vsatdiff = vsatenum[:,k] - np.array([set_interp(tnum)])\n",
    "    plt.plot(tnum, vsatdiff.T)\n",
    "\n",
    "plt.title('Numerical velocity difference in ECEF (rotation term included)')\n",
    "plt.ylabel('Difference [m/s/]')\n",
    "plt.show()"
   ]
  },
  {
   "cell_type": "markdown",
   "metadata": {},
   "source": [
    "When the term for frame rotation is not included the velocities will not be correct, as is demonstrated by the following code\n"
   ]
  },
  {
   "cell_type": "code",
   "execution_count": null,
   "metadata": {},
   "outputs": [],
   "source": [
    "vsate_nr = np.zeros(vsat.shape)\n",
    "vsate_nr[:, 0] = np.cos(gst) * vsat[:, 0] + np.sin(gst) * vsat[:, 1]\n",
    "vsate_nr[:, 1] = -np.sin(gst) * vsat[:, 0] + np.cos(gst) * vsat[:, 1]\n",
    "vsate_nr[:, 2] = vsat[:, 2]\n",
    "\n",
    "# Plot difference of the numerical velocities with actual velocities in ECEF (w/o rotations)\n",
    "plt.figure()\n",
    "for k in range(3):\n",
    "    set_interp = interp1d(t, vsate_nr[:,k], kind='linear')\n",
    "    vsatdiff = vsatenum[:,k] - np.array([set_interp(tnum)])\n",
    "    plt.plot(tnum, vsatdiff.T)\n",
    "\n",
    "plt.title('Numerical velocity difference in ECEF (w/o rotation term)')\n",
    "plt.ylabel('Difference [m/s/]')\n",
    "plt.show()"
   ]
  },
  {
   "cell_type": "markdown",
   "metadata": {},
   "source": [
    "This is one of the reason that most computations with satellite positions\n",
    "and velocities are done in the ECI reference frame, even if this means a \n",
    "rotating observer position (in ECI). "
   ]
  },
  {
   "cell_type": "markdown",
   "metadata": {},
   "source": [
    "## Redo test case of exercise 3 \n",
    "\n",
    "To study the effect on the lookangles we redo the test case with Radarsat-2 of exercise 3. We select a couple of epochs for which we know\n",
    "Radarsat-2 is in the proximity of Delft.\n",
    "\n",
    "First we compute the ECEF coordinates for Delft."
   ]
  },
  {
   "cell_type": "code",
   "execution_count": null,
   "metadata": {},
   "outputs": [],
   "source": [
    "# Specify station position (latitude, longitude, height) \n",
    "\n",
    "objcrd=[ 52, 4.8,  0 ]\n",
    "\n",
    "# Convert input to spherical coordinates in radians/meters\n",
    "\n",
    "Re = 6378136                     # [m]   radius of the Earth \n",
    "\n",
    "lat = objcrd[0] * np.pi/180      # convert latitude from degrees to radians\n",
    "lon = objcrd[1] * np.pi/180      # convert longitude from degrees to radians\n",
    "Rs = Re + objcrd[2]              # convert height to radius (from CoM) using mean Earth radius Re \n",
    "\n",
    "# Position of the observer in ECEF (assume latitude and longitude are for spherical Earth)\n",
    "\n",
    "xobje = Rs * np.array([ np.cos(lat) * np.cos(lon),  np.cos(lat) * np.sin(lon),  np.sin(lat)]) \n",
    "vobje = np.array([ 0, 0, 0])\n",
    "\n",
    "print('xobje',xobje)"
   ]
  },
  {
   "cell_type": "markdown",
   "metadata": {},
   "source": [
    "#### Lookangles in ECEF\n",
    "\n",
    "Next we compute the satellite positions in ECI, convert them to ECEF using the function `eci2ecef` and print the lookangles.\n",
    "\n",
    "To compute the lookangles we use the function `satlookanglesp` from the `crsutil.py` module that were introduced in example 3. The function `prtlookangle` is used to print a nice table."
   ]
  },
  {
   "cell_type": "code",
   "execution_count": null,
   "metadata": {},
   "outputs": [],
   "source": [
    "t = tle.tledatenum(['2017-9-28 6:00',10,1])\n",
    "\n",
    "xsat, vsat = tle.tle2vec(tleERS, t, 'RADARSAT-2')\n",
    "xsate, vsate = crs.eci2ecef(t, xsat, vsat)\n",
    "\n",
    "lookangles, flags = crs.satlookanglesp(t, np.hstack([xsate, vsate]), xobje)\n",
    "crs.prtlookangle(t, lookangles, flags)"
   ]
  },
  {
   "cell_type": "markdown",
   "metadata": {},
   "source": [
    "#### Look angles in ECI\n",
    "\n",
    "For the object coordinates *xobje* only the position is enough in an ECEF frame, but for an ECI frame both position and velocity need to be given for every epoch.\n"
   ]
  },
  {
   "cell_type": "code",
   "execution_count": null,
   "metadata": {},
   "outputs": [],
   "source": [
    "xobj, vobj = crs.ecef2eci(t, xobje)\n",
    "\n",
    "lookangles, flags = crs.satlookanglesp(t, np.hstack([xsat, vsat]), np.hstack([xobj, vobj]))\n",
    "crs.prtlookangle(t, lookangles, flags)"
   ]
  },
  {
   "cell_type": "markdown",
   "metadata": {},
   "source": [
    "As you can see for most quantities it doesn't matter with reference frame\n",
    "is used, except for the satellite heading and look angle with respect to the flight direction! \n",
    "\n",
    "The reason for\n",
    "this is that the frame rotation influences the computation of the\n",
    "heading; as a matter of fact, we should do an extra correction to account\n",
    "for the rotation of the frame.\n",
    "\n",
    "This is also one of the reasons that most computations with satellite positions\n",
    "and velocities are done in the ECI reference frame, even if this means a \n",
    "rotating observer position (in ECI). In general, it is a good idea to do \n",
    "this sort of computations in an ECI reference frame, where the laws\n",
    "of Newton mechanics hold, and convert it into an ECEF reference frame \n",
    "only at the last moment (if needed)."
   ]
  },
  {
   "cell_type": "markdown",
   "metadata": {},
   "source": [
    "[End of this Jupyter notebook]"
   ]
  }
 ],
 "metadata": {
  "kernelspec": {
   "display_name": "Python 3",
   "language": "python",
   "name": "python3"
  },
  "language_info": {
   "codemirror_mode": {
    "name": "ipython",
    "version": 3
   },
   "file_extension": ".py",
   "mimetype": "text/x-python",
   "name": "python",
   "nbconvert_exporter": "python",
   "pygments_lexer": "ipython3",
   "version": "3.8.3"
  }
 },
 "nbformat": 4,
 "nbformat_minor": 4
}
