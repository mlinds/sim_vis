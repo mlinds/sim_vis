{
 "cells": [
  {
   "cell_type": "markdown",
   "metadata": {},
   "source": [
    "#### CIE4604 Simulation and Visualization\n",
    "# Module 2 Satellite Orbits - Exercise 1\n",
    "\n",
    "**Hans van der Marel, 15 November 2020** (updated 15 November 2021)\n",
    "\n",
    "In this exercise you download NORAD Two-Line Elements (TLE) to compute and visualize orbits for Earth observations satellites in Low and Medium Earth orbits."
   ]
  },
  {
   "cell_type": "markdown",
   "metadata": {
    "tags": []
   },
   "source": [
    "## Explore the crsutil.py and tleplot.py Python modules\n",
    "\n",
    "Download `CIE4604-M2-python.zip` from Brightspace and unzip this in your current working directory. This should give\n",
    "you two Python files: `crsutil.py` and `tleplot.py`. the download also contains a file with coastlines and an example TLE file.\n",
    "\n",
    "For this Jupyter notebook to work, the Jupyter notebook should be in the same folder as the two modules. Import the modules using the following statements:"
   ]
  },
  {
   "cell_type": "code",
   "execution_count": null,
   "metadata": {},
   "outputs": [],
   "source": [
    "import crsutil as crs\n",
    "import tleplot as tle"
   ]
  },
  {
   "cell_type": "markdown",
   "metadata": {},
   "source": [
    "To list the names of all the functions and variables defined in the module type `dir(module)` or use `module?` to display the docstring of the module \n",
    "```Python\n",
    "dir(crs)\n",
    "crs?\n",
    "```"
   ]
  },
  {
   "cell_type": "code",
   "execution_count": null,
   "metadata": {},
   "outputs": [],
   "source": [
    "dir(crs)"
   ]
  },
  {
   "cell_type": "code",
   "execution_count": null,
   "metadata": {},
   "outputs": [],
   "source": [
    "crs?"
   ]
  },
  {
   "cell_type": "markdown",
   "metadata": {},
   "source": [
    "To get the docs for a specific function, use `help(functionname)` or `functionname?`. \n",
    "```Python\n",
    "help(crs.orb2vec)\n",
    "```\n",
    "Try this out yourself for several functions..."
   ]
  },
  {
   "cell_type": "code",
   "execution_count": null,
   "metadata": {},
   "outputs": [],
   "source": [
    "help(crs.orb2vec)"
   ]
  },
  {
   "cell_type": "markdown",
   "metadata": {},
   "source": [
    "You see that `crsutil` contains functions for coordinate and time related operations. The ones we are interested in now are the\n",
    "\n",
    "- GMST and UT1 conversions\n",
    "- Keplerian elements\n",
    "\n",
    "The other functions will come in handy as well. \n",
    "\n",
    "These are however not the main functions we use. The interesting ones are in `tleplot.py`. To see what is available type\n",
    "```\n",
    "dir(tle)\n",
    "tle?\n",
    "```\n",
    "We use `tle` because this is how `tlelot` was imported."
   ]
  },
  {
   "cell_type": "code",
   "execution_count": null,
   "metadata": {},
   "outputs": [],
   "source": [
    "tle?"
   ]
  },
  {
   "cell_type": "markdown",
   "metadata": {},
   "source": [
    "The main functions we are going to use are `tleget`, `tleread`, `tle2vec` and `tleplot`. Other functions that are handy are `tlefind` and `tledatenum`.\n",
    "\n",
    "We explain them in the next sections."
   ]
  },
  {
   "cell_type": "markdown",
   "metadata": {},
   "source": [
    "## Download TLE for Earth Resource Satellites from Celestrak\n",
    "\n",
    "The Two-Line-Elements for a large number of satellites can be downloaded from http://www.celestrak.com/NORAD/elements .\n",
    "\n",
    "The direct download link for **Earth Resource Satellites** is http://www.celestrak.com/NORAD/elements/resource.txt. \n",
    "You can use your favourite browser to download this file and save this file in the current folder. You can also use the function `tleget` to download the file\n",
    "```\n",
    "filename = tleget('resource')\n",
    "```\n",
    "`filename` will get the value `resource.txt`. If you want to download to another file do something like this\n",
    "```\n",
    "filename = tleget('resource','resource-17-Nov-2020.tle')\n",
    "```\n",
    "A file called `resource_10-Oct-2017.tle` is already provided in the zip file. You may skip the download step and use this file, but the `resource.txt` downloaded from Celestrak will give you the most up-to-date elements."
   ]
  },
  {
   "cell_type": "code",
   "execution_count": null,
   "metadata": {},
   "outputs": [],
   "source": [
    "filename = tle.tleget('resource')"
   ]
  },
  {
   "cell_type": "markdown",
   "metadata": {},
   "source": [
    "See also `help(tle.tleget)`"
   ]
  },
  {
   "cell_type": "code",
   "execution_count": null,
   "metadata": {},
   "outputs": [],
   "source": [
    "help(tle.tleget)"
   ]
  },
  {
   "cell_type": "markdown",
   "metadata": {},
   "source": [
    "## Read Two-line element files\n",
    "\n",
    "The function `tleread` reads the NORAD Two-Line-Elements (TLE), which contain the Keplerian elements for Earth orbiting satellites, from file. To find out how it's works type `help(tle.tleread)`."
   ]
  },
  {
   "cell_type": "code",
   "execution_count": null,
   "metadata": {
    "scrolled": true
   },
   "outputs": [],
   "source": [
    "help(tle.tleread)"
   ]
  },
  {
   "cell_type": "markdown",
   "metadata": {},
   "source": [
    "To read the TLE you’ve just downloaded do something like this\n",
    "```\n",
    "tleERS =  tle.tleread(filename)\n",
    "tleERS =  tle.tleread('resource.txt')\n",
    "```\n",
    "using the `filename` returned by `tleget` or an explicit filename. The output is a list of named tuples, which we have given the name `tleERS`. You may of course use a different name."
   ]
  },
  {
   "cell_type": "code",
   "execution_count": null,
   "metadata": {},
   "outputs": [],
   "source": [
    "tleERS=tle.tleread('resource.txt')"
   ]
  },
  {
   "cell_type": "markdown",
   "metadata": {},
   "source": [
    "During the reading `tleread` prints some useful information about the two-line elements in the file. \n",
    "\n",
    "Do you recognize the parameters that are printed? How many minutes is the typical orbital period?\n",
    "\n",
    "If you don't want all this output you can do use `verbose=0` to suppress the output,\n",
    "```\n",
    "tleERS = tle.tleread('resource.txt', verbose=0)\n",
    "```\n",
    "The results are saved in a structure array, e.g. `tleERS`, you can choose the name yourself. Check what is inside the structure array by typing `tleERS`, or `tleERS[:2]`, to see the first two entries"
   ]
  },
  {
   "cell_type": "code",
   "execution_count": null,
   "metadata": {
    "scrolled": true
   },
   "outputs": [],
   "source": [
    "tleERS[:2]"
   ]
  },
  {
   "cell_type": "markdown",
   "metadata": {},
   "source": [
    "For instance, the mean anomaly is stored in `tle[k].m0` and mean motion in `tle[k].n0`. \n",
    "The reference epoch `t0` is stored in two parts, the year in `tle[k].year` and \n",
    "day of year in `tle[k].epoch`. This information is not really interesting\n",
    "as most functions use `tle` and you don't realy care how the information is stored in\n",
    "the structure array."
   ]
  },
  {
   "cell_type": "code",
   "execution_count": null,
   "metadata": {},
   "outputs": [],
   "source": [
    "print('satellite, m0:',tleERS[1].name, tleERS[1].m0)\n",
    "print('satellite, year, epoch:',tleERS[25].name, tleERS[25].year, tleERS[25].epoch)"
   ]
  },
  {
   "cell_type": "markdown",
   "metadata": {},
   "source": [
    "As you can see there are many Earth Resource satellites stored in `tleERS`. We need to have a method to find particular satellites in the structure array `tleERS`.\n",
    "\n",
    "## Selecting satellites using `tlefind`\n",
    "\n",
    "To find particular satellites in `tleERS` use the function `tlefind`. E.g. to find all satellites with ‘RA’ in the name do \n",
    "```\n",
    "isat, satnames = tlefind(tleERS,’RA’)\n",
    "```\n",
    "Do `help(tlefind)` to see what the function does. \n",
    "\n",
    "To specifically find Radarsat-2 type\n",
    "```\n",
    "isat, satnames = tlefind(tleERS,’RADARSAT-2’)\n",
    "```\n",
    "If you don't type the full name of the satellite a list with matching satellites is returned.\n",
    "\n",
    "Try this our yourself, and see what is in the variables that are returned. What is in `isat`?"
   ]
  },
  {
   "cell_type": "code",
   "execution_count": null,
   "metadata": {},
   "outputs": [],
   "source": [
    "isat, satnames = tle.tlefind(tleERS,'RA')\n",
    "print('isat:',isat)"
   ]
  },
  {
   "cell_type": "code",
   "execution_count": null,
   "metadata": {},
   "outputs": [],
   "source": [
    "isat, satnames = tle.tlefind(tleERS,'RADARSAT-2')\n",
    "print('isat:',isat)"
   ]
  },
  {
   "cell_type": "code",
   "execution_count": null,
   "metadata": {},
   "outputs": [],
   "source": [
    "help(tle.tlefind)"
   ]
  },
  {
   "cell_type": "markdown",
   "metadata": {},
   "source": [
    "## Compute satellite position and velocity for Radarsat-2\n",
    "\n",
    "The function `tle2vec` is used to compute satellite positions and velocity. \n",
    "`tle2vec` requires three inputs: \n",
    "\n",
    "- the named tuple list `tleERS` with two-line elements, \n",
    "- a date, daterange similar to used by `tledatenumber` or an array with Matlab datenumbers `t`, and \n",
    "- the satellite identifier. This can be a name or position in `tleERS` \n",
    "\n",
    "To obtain the position and velocity at a specific date type e.g.\n",
    "```\n",
    "xsat, vsat = tle2vec(tleERS,'2017-10-10 0:00:00','RADARSAT-2')\n",
    "```\n",
    "The function is vectorized,  to compute more than one epoch, you can specify multiple epochs. There are basically three ways you can do this\n",
    "\n",
    "1. Create a vector t using the following code (cumbersome), e.g. \n",
    "```\n",
    "t1 = datenum(‘2017-10-10 0:00:00’);\n",
    "t = np.arange([t1, t1+1, 1/(24*60)])\n",
    "```\n",
    "Make sure that the epoch you choose is within a few days of the reference epoch for the Two-Line-Elements.<br/><br/>\n",
    "\n",
    "2.\tUse  tledatenum to create a vector with times (preferred method), e.g.\n",
    "```\n",
    "t = tledatenum(['2013-9-13 0:00:00', 24*60 ,1])\n",
    "```\n",
    "Then call  `xsat, vsat = tle2vec(tleERS,t,'RADARSAT-2')`.<br/><br/>\n",
    "\n",
    "3. Use the `tledatenum` range specification directly in the call to `tle2vec`,\n",
    "```\n",
    "xsat, vsat = tle2vec(tleERS, ['2013-9-13 0:00:00', 24*60 ,1],'RADARSAT-2')\n",
    "```\n",
    "This form is only useful in case you are not interested in the values of *t* itself.\n",
    "\n",
    "`tle2vec` returns the satellite position in `xsat` and velocity in `vsat`. `xsat` and `vsat` have shape \\[*n*,3\\], with *n* the number of epochs in *t*.\n",
    "\n",
    "Type `help(tle2vec)` to find out more on `tle2vec` and `help(tledatenum)` to find out more on the `tledatenum` range specification. "
   ]
  },
  {
   "cell_type": "code",
   "execution_count": null,
   "metadata": {},
   "outputs": [],
   "source": [
    "help(tle.tle2vec)"
   ]
  },
  {
   "cell_type": "code",
   "execution_count": null,
   "metadata": {
    "scrolled": true
   },
   "outputs": [],
   "source": [
    "help(tle.tledatenum)"
   ]
  },
  {
   "cell_type": "markdown",
   "metadata": {},
   "source": [
    "To compute the position and velocity of RADARSAT-2 you need two things\n",
    "\n",
    "- the named typle list `tleERS` with two-line elements (including those of RADARSAT-2)\n",
    "- a daterange specification or array with datenumbers\n",
    "\n",
    "**Make sure that the datarange specification you choose is within a few days of the reference epoch for the Two-Line-Elements in tleERS for accurate results!**\n",
    "\n",
    "Below are a couple of examples."
   ]
  },
  {
   "cell_type": "code",
   "execution_count": null,
   "metadata": {},
   "outputs": [],
   "source": [
    "xsat, vsat = tle.tle2vec(tleERS,['2021-11-15 0:00:00'],'RADARSAT-2')\n",
    "print('xsat',xsat)\n",
    "print('vsat',vsat)"
   ]
  },
  {
   "cell_type": "code",
   "execution_count": null,
   "metadata": {},
   "outputs": [],
   "source": [
    "t = tle.tledatenum(['2021-11-15 0:00:00', 24*60 ,1])\n",
    "xsat, vsat = tle.tle2vec(tleERS,t,'RADARSAT-2')\n",
    "print('t',t)\n",
    "print('xsat',xsat)\n",
    "print('vsat',vsat)"
   ]
  },
  {
   "cell_type": "code",
   "execution_count": null,
   "metadata": {
    "scrolled": true
   },
   "outputs": [],
   "source": [
    "xsat, vsat = tle.tle2vec(tleERS,['2021-11-15 0:00:00', 24*60 ,1],'RADARSAT-2')\n",
    "print('xsat',xsat)\n",
    "print('vsat',vsat)"
   ]
  },
  {
   "cell_type": "markdown",
   "metadata": {},
   "source": [
    "`tle2vec` returns the satellite position in `xsat` and velocity in `vsat`. `xsat` and `vsat` have shape \\[*n*,3\\], with *n* the number of epochs in *t*.\n",
    "`tle2vec` returns arrays with the position and velocity in the ECI reference frame. \n",
    "\n",
    "To plot the velocity so something like\n",
    "```\n",
    "plt.figure(\"Velocity\")\n",
    "plt.plot(t, vsat[:, 0]/1000, linewidth=2, label=\"V_X\")\n",
    "plt.plot(t, vsat[:, 1]/1000, linewidth=2, label=\"V_Y\")\n",
    "plt.plot(t, vsat[:, 2]/1000, linewidth=2, label=\"V_Z\")\n",
    "plt.plot(t, velsat/1000, linewidth=2, color='k', label=\"V\")\n",
    "plt.title(\"{} velocity in ECI\".format(satid))\n",
    "plt.ylabel(\"km/s\")\n",
    "plt.xlabel(\"Date\")\n",
    "plt.legend()\n",
    "``` \n",
    "\n",
    "See for example the code below, where all the necessary packages are imported, including reading of two-line elements."
   ]
  },
  {
   "cell_type": "code",
   "execution_count": null,
   "metadata": {},
   "outputs": [],
   "source": [
    "import numpy as np\n",
    "import matplotlib.pyplot as plt\n",
    "import tleplot as tle\n",
    "\n",
    "tleERS=tle.tleread('resource.txt',verbose=0)\n",
    "\n",
    "isat, satnames = tle.tlefind(tleERS,'RADARSAT-2')\n",
    "t = tle.tledatenum(['2021-11-15 0:00:00', 24*60 ,1])\n",
    "xsat, vsat = tle.tle2vec(tleERS,t,isat)\n",
    "\n",
    "print(t.shape)\n",
    "print(vsat.shape)\n",
    "plt.figure(\"Velocity\")\n",
    "plt.plot(t, vsat[:, 0]/1000, linewidth=2, label=\"V_X\")\n",
    "plt.plot(t, vsat[:, 1]/1000, linewidth=2, label=\"V_Y\")\n",
    "plt.plot(t, vsat[:, 2]/1000, linewidth=2, label=\"V_Z\")\n",
    "plt.title(\"{} velocity in ECI\".format(satnames))\n",
    "plt.ylabel(\"km/s\")\n",
    "plt.xlabel(\"Date\")\n",
    "plt.legend() "
   ]
  },
  {
   "cell_type": "markdown",
   "metadata": {},
   "source": [
    "Note that in the above we passed to `tle2vec` the position in `tleERS` instead of the name of the satellite. This is sometimes more convenient.\n",
    "\n",
    "If the satellite name in the call to `tle2vec` is not unique `tle2vec` will complain and print a list of satellites, try\n",
    "```\n",
    "  xsat, vsat = tle2vec(tleERS,['2020-11-15 0:00:00'],'SENTINEL-1')\n",
    "```"
   ]
  },
  {
   "cell_type": "code",
   "execution_count": null,
   "metadata": {},
   "outputs": [],
   "source": [
    "xsat, vsat = tle.tle2vec(tleERS,['2020-11-15 0:00:00'],'SENTINEL-1')"
   ]
  },
  {
   "cell_type": "markdown",
   "metadata": {},
   "source": [
    "There are two Sentinel-1 satellites, you must select one. Instead of the satellite name you can also give the element number in `tleERS`, as returned by `tlefind`. This is useful if you want to loop over more than one satellite."
   ]
  },
  {
   "cell_type": "code",
   "execution_count": null,
   "metadata": {},
   "outputs": [],
   "source": [
    "tleERS=tle.tleread('resource.txt', verbose=0)\n",
    "isats, satnames = tle.tlefind(tleERS, 'SENTINEL-1', verbose=0)\n",
    "for satname in satnames:\n",
    "    xsat, vsat = tle.tle2vec(tleERS,['2020-11-15 0:00:00'], str(satname))\n",
    "    print('satname: {}, pos: {}, vel: {}'.format(satname,xsat,vsat))\n",
    "\n",
    "for isat in isats:\n",
    "    xsat, vsat = tle.tle2vec(tleERS,['2020-11-15 0:00:00'], isat)\n",
    "    print('satnum: {}, pos: {}, vel: {}'.format(isat,xsat,vsat))\n",
    "    "
   ]
  },
  {
   "cell_type": "markdown",
   "metadata": {},
   "source": [
    "## Algorithm for computing satellite position and velocity from TLE\n",
    "\n",
    "Have a look at `tle2vec`and the functions it is calling so see how the computation \n",
    "is done. 6.\t Which functions are called and what do they do? \n",
    "\n",
    "Make a structure diagram and compare the computations against the lecture notes to put them in context. For instance, which method is the  default propagation model that is used?\n",
    "\n",
    "The business part of `tle2vec` is\n",
    "```\n",
    "# Find the satellite SATID\n",
    "\n",
    "isat=tlefind(tleERS,'RADARSAT-2') \n",
    "\n",
    "# Compute satellite state vectors (position and velocity in ECI)\n",
    "\n",
    "propagation='J2'                           # Propagation method for orbital elements\n",
    "orb=tle2orb(tle[isat],t,propagation);      # Matrix of orbit elements\n",
    "vec=orb2vec(orb);                          # State vector\n",
    "\n",
    "xsat=vec[:,1:3]\n",
    "vsat=vec[:,4:6]\n",
    "```\n",
    "The function `tle2orb` computes the matrix of orbital (Kepler) elements for the time vector *t* from the two-line elements. The third argument is the *orbit propagation* method. The default orbit propagation method is `J2`, which \n",
    "takes the flattening of the Earth into account. The recommended orbit\n",
    "propagation method for two-line elements is `SGP4`, but this is currently not implemented\n",
    "in the Python function. The propagation method `NOJ2` ignores the effect \n",
    "of J2 on the orbit propagation, which yields very unrealistic results in the long \n",
    "term. \n",
    "\n",
    "The function `orb2vec` (from `crsutil`) converts the orbital (Kepler) elements into the\n",
    "state-vector. \n",
    "\n",
    "The orbit propagation code for `NOJ2`, ignoring effect of J2, in `tle2orb` is in pseudo code\n",
    "```\n",
    "t0 = datenum(tle[isat].year,1,1) + tle[isat].epoch - 1\n",
    "m = tle[isat].m0 + tle[isat].n0 * (t-t0)          # Mean anomaly \n",
    "ignore,nu = keplerm(m, tle[isat].ecc0)            # True anomaly\n",
    "orb= [ ...                                        # Matrix of orbit elements \n",
    "   repmat([ tle[isat].a0 tle[isat].ecc0 tle[isat].inc0 tle[isat].raan0 tle[isat].argp0 ],size(nu)) ...\n",
    "         nu ];            \n",
    "```\n",
    "It uses `keplerm` from the `crsutil` module to solve Kepler's equation and compute from the mean anomaly the true anomaly. The orbital elements are stored in the matrix `orb`; for the first five columns the values in each row are the \n",
    "same, only column six contains a time varying variable (the true anomaly). "
   ]
  },
  {
   "cell_type": "markdown",
   "metadata": {},
   "source": [
    "## Plotting satellite position, velocity and tracks\n",
    "\n",
    "The function `tleplot1` can be used to plot the satellite position, velocity and (ground) tracks. \n",
    "\n",
    "To view the help on `tleplot1` type\n",
    "```\n",
    "help(tleplot1)\n",
    "```\n",
    "Actually, `tleplot1` calls `tle2vec` and then plots the results. The first three\n",
    "arguments are also the same as for `tle2vec1`. The fourth optional argument is new, this is a\n",
    "vector with the spherical coordinates of the observer which is needed to compute the\n",
    "the elevation and azimuth of the satellite from an observer.\n",
    "\n",
    "For example, to plot position, velocity and (ground) tracks you can use the following call\n",
    "with three input arguments \n",
    "```\n",
    "tleplot1(tleERS,['2020-11-15 0:00:00', 24*60 ,1],'RADARSAT-2')\n",
    "```\n",
    "This produces several plots\n",
    "\n",
    "- plots of satellite positions and velocity in the ECI as function of time,\n",
    "- plot with the right ascession and declination in ECI, or, satellite track in ECI. Timestamps are plotted for the first epochs, followed by an addtional 15 timestamps for the remainder of the period,\n",
    "- ground track of the satellite (ECEF, longitude and latitude),\n",
    "- 3D representations in ECI end ECEF\n",
    "\n",
    "Below we import the `tleplot` module, read two-line elements for Earth resouce satellites using `tleread`, and then plot using `tleplot1` "
   ]
  },
  {
   "cell_type": "code",
   "execution_count": null,
   "metadata": {},
   "outputs": [],
   "source": [
    "import tleplot as tle\n",
    "\n",
    "tleERS=tle.tleread('resource.txt',verbose=0)\n",
    "tle.tleplot1(tleERS,['2021-11-15 0:00:00', 24*60 ,1],'RADARSAT-2')"
   ]
  },
  {
   "cell_type": "markdown",
   "metadata": {},
   "source": [
    "Take you time to understand what is plotted. \n",
    "\n",
    "Also note that the day you select for plotting is not too far off from the date you downloaded the two-line elements. "
   ]
  },
  {
   "cell_type": "code",
   "execution_count": null,
   "metadata": {},
   "outputs": [],
   "source": [
    "tle.tleplot1?"
   ]
  },
  {
   "cell_type": "markdown",
   "metadata": {},
   "source": [
    "## Plotting satellite visibility and elevation angles\n",
    "\n",
    "To plot the satellite visibility for an observer you have to add a fourth argument with the observer position to `tleplot1`.\n",
    "\n",
    "For example, to plot position, velcity, ground tracks and satellite visibility for Delft,\n",
    "use\n",
    "```\n",
    "tleplot1(tleERS,['2020-11-15 0:00:00', 24*60 ,1],'RADARSAT-2',[ 52, 4.8,  0 ])\n",
    "```\n",
    "This adds two more plots\n",
    "\n",
    "- plots with the range, range-rate, elevation angle and azimuth angle. When the satellite is not visible the lines are dotted.\n",
    "- skyplot as seen from the observer\n",
    "\n",
    "and modifies the other other plots.\n",
    "\n",
    "In the plot of\n",
    "the ground tracks the positions that are visible from Delft are plotted\n",
    "with crosses. Note that in plots that use an ECI referenced frame the \n",
    "position of the observer is changing over time."
   ]
  },
  {
   "cell_type": "code",
   "execution_count": null,
   "metadata": {},
   "outputs": [],
   "source": [
    "tle.tleplot1(tleERS,['2021-11-15 0:00:00', 24*60 ,1],'RADARSAT-2',[ 52, 4.8,  0 ])"
   ]
  },
  {
   "cell_type": "markdown",
   "metadata": {},
   "source": [
    "You can use these functions to plot the orbits for other satellites with two-line-elements.\n",
    "\n",
    "You can check out the code in `tleplot1.m` to find out what \n",
    "is going on and how the various plots are produced. \n"
   ]
  },
  {
   "cell_type": "markdown",
   "metadata": {},
   "source": [
    "The function `tleplot1` is just a convenience method doing a lot of plots at the same time. For serious work (e.g. your assignment) it is *not* recommended to use `tleplot` directly, but you may reuse some of the code for your purposes. "
   ]
  },
  {
   "cell_type": "markdown",
   "metadata": {},
   "source": [
    "[End of this Jupyter notebook]"
   ]
  }
 ],
 "metadata": {
  "kernelspec": {
   "display_name": "Python 3 (ipykernel)",
   "language": "python",
   "name": "python3"
  },
  "language_info": {
   "codemirror_mode": {
    "name": "ipython",
    "version": 3
   },
   "file_extension": ".py",
   "mimetype": "text/x-python",
   "name": "python",
   "nbconvert_exporter": "python",
   "pygments_lexer": "ipython3",
   "version": "3.8.3"
  }
 },
 "nbformat": 4,
 "nbformat_minor": 4
}
