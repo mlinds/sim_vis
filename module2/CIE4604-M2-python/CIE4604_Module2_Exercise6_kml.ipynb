{
 "cells": [
  {
   "cell_type": "markdown",
   "metadata": {},
   "source": [
    "#### CIE4604 Simulation and Visualization\n",
    "# Module 2 Satellite Orbits - Exercise 6 (Simple KML)\n",
    "\n",
    "**Hans van der Marel, 15 November 2020**\n",
    "\n",
    "In this notebook we will use the simplekml Python module to visualize satellite orbits in Google Earth."
   ]
  },
  {
   "cell_type": "markdown",
   "metadata": {},
   "source": [
    "## Simplekml getting started\n",
    "\n",
    "From the simplekml homepage https://simplekml.readthedocs.io/en/latest/\n",
    "\n",
    "> The python package simplekml was created to generate kml (or kmz). It was designed to alleviate the burden of having to study KML in order to achieve anything worthwhile with it. If you have a simple understanding of the structure of KML, then  simplekml is easy to run with and create usable KML.\n",
    "\n",
    "For an introduction and reference of the Keyhole Markup Language (KML) see the Google pages on KML https://developers.google.com/kml.\n",
    "\n",
    "Here is an quick example from the simplekml home page to get started:"
   ]
  },
  {
   "cell_type": "code",
   "execution_count": null,
   "metadata": {},
   "outputs": [],
   "source": [
    "import simplekml\n",
    "kml = simplekml.Kml()\n",
    "kml.newpoint(name=\"Kirstenbosch\", coords=[(18.432314,-33.988862)])  # lon, lat, optional height\n",
    "kml.save(\"botanicalgarden.kml\")"
   ]
  },
  {
   "cell_type": "markdown",
   "metadata": {},
   "source": [
    "View the kml file in **Google Earth** to check if it worked.\n",
    "\n",
    "If it gives an <span style=\"color:red\">*ModuleNotFoundError*</span> then you have to install simple kml using conda or pip. To install this package with conda run one of the following \n",
    "```\n",
    "conda install simplekml\n",
    "conda install -c conda-forge simplekml\n",
    "```\n",
    "from the Anaconda Prompt. \n",
    "\n",
    "After that rerun the above example to see if it works."
   ]
  },
  {
   "cell_type": "markdown",
   "metadata": {},
   "source": [
    "Taking our quick example apart, everything we do with simplekml starts with creating an instance of the *simplekml.Kml* class:\n",
    "```\n",
    "kml = simplekml.Kml()\n",
    "```\n",
    "All arguments passed to the class on creation are the same as that of a simplekml.Document. To change any properties after creation you can do so through the *simplekml.Kml.document()* property:\n",
    "```\n",
    "kml.document.name = \"Test\"\n",
    "```\n",
    "To create a fully fledged KML document a document tree is created via calls to various functions like:\n",
    "```\n",
    "kml.newpoint()\n",
    "```\n",
    "These calls build up a relationships between classes which will be converted into KML when a call to one of the following\n",
    "```\n",
    "kml.save()\n",
    "kml.savekmz()\n",
    "kml.kml()\n",
    "```\n",
    "is made. In the quick example we use *kml.save()* to create the kml file. To print the result to screen you can do\n",
    "```\n",
    "print(kml.kml())\n",
    "```\n",
    "Let's do that ..."
   ]
  },
  {
   "cell_type": "code",
   "execution_count": null,
   "metadata": {},
   "outputs": [],
   "source": [
    "print(kml.kml())"
   ]
  },
  {
   "cell_type": "markdown",
   "metadata": {},
   "source": [
    "As you can see, only the least amount of KML is generated for it to be viewable in Google Earth, in case of our quick example just the *name* and *coord* properties of a point which were passed on creation of the point.\n",
    "\n",
    "Properties can be added or changed later if we do the following"
   ]
  },
  {
   "cell_type": "code",
   "execution_count": null,
   "metadata": {},
   "outputs": [],
   "source": [
    "kml = simplekml.Kml()\n",
    "pnt = kml.newpoint(name=\"Kirstenbosch\", coords=[(18.432314,-33.988862)])  # lon, lat, optional height\n",
    "print(kml.kml())"
   ]
  },
  {
   "cell_type": "markdown",
   "metadata": {},
   "source": [
    "This is the same code as our quick example, with one minor difference, `pnt = kml.newpoint...` . Properties can be added and Attributes can be changed. Here are a few examples..."
   ]
  },
  {
   "cell_type": "code",
   "execution_count": null,
   "metadata": {},
   "outputs": [],
   "source": [
    "pnt.description=\"Botanical Garden at Kirstenbosch, open weekdays.\"\n",
    "pnt.name=\"Kirstenbosch (SA)\"\n",
    "print(kml.kml())"
   ]
  },
  {
   "cell_type": "markdown",
   "metadata": {},
   "source": [
    "To add a linestring, a connected set of line segments, do"
   ]
  },
  {
   "cell_type": "code",
   "execution_count": null,
   "metadata": {},
   "outputs": [],
   "source": [
    "lin = kml.newlinestring(name=\"Pathway\", description=\"A pathway in Kirstenbosch\",\n",
    "                        coords=[(18.43312,-33.98924), (18.43224,-33.98914),\n",
    "                                (18.43144,-33.98911), (18.43095,-33.98904)])\n",
    "print(kml.kml())\n",
    "kml.save(\"botanicalgarden.kml\")"
   ]
  },
  {
   "cell_type": "markdown",
   "metadata": {},
   "source": [
    "We save the file again, so you can inspect the result in Google Earth.\n",
    "\n",
    "Polygons, images overlays, etc. work in more or less the same way. See the documentation at https://simplekml.readthedocs.io/en/latest/ for examples and as reference."
   ]
  },
  {
   "cell_type": "markdown",
   "metadata": {},
   "source": [
    "## Visualizing satellite orbits in Google Earth"
   ]
  },
  {
   "cell_type": "markdown",
   "metadata": {},
   "source": [
    "We are going to plot Radarsat-2 orbit tracks in Google Earth. For this we have to load the `tleplot.py` and `crsutil.py` modules, read two-line elements that were previously downloaded, and compute the satellite positions in ECEF for a period of interest. "
   ]
  },
  {
   "cell_type": "code",
   "execution_count": null,
   "metadata": {},
   "outputs": [],
   "source": [
    "import numpy as np\n",
    "import tleplot as tle\n",
    "import crsutil as crs"
   ]
  },
  {
   "cell_type": "code",
   "execution_count": null,
   "metadata": {},
   "outputs": [],
   "source": [
    "# Read TLE from file (we use an existing file, so that we have prior knowledge about the dates)\n",
    "tleERS = tle.tleread('resource-10-oct-2017.tle', verbose=0)\n",
    "\n",
    "# Compute satellite positions in ECI\n",
    "t = tle.tledatenum(['2017-09-28 05:50:00',20,1])\n",
    "xsat, vsat = tle.tle2vec(tleERS, t, 'RADARSAT-2')\n",
    "\n",
    "# Convert ECI coordinate to ECEF\n",
    "xsate, vsate = crs.eci2ecef(t, xsat, vsat)\n",
    "\n",
    "# Compute lookangles and range-rate (range-rate is part of \"lookangles\")\n",
    "#lookangles, flags = crs.satlookanglesp(t, np.hstack([xsate, vsate]), xobje, verbose=1)"
   ]
  },
  {
   "cell_type": "markdown",
   "metadata": {},
   "source": [
    "Next we have to convert the Cartesian coordinates of the satellite to latitude (deg), longitude (deg) and height (m) for display in KML. For this common operation we write a simple function first, which we are going to call `xyz2coords`.\n",
    "\n",
    "Note that this function returns a list of (longitude, latitude, height) tuples which are used throughout the simpleKML module. This is somewhat different from other conventions, notably, for KML the longitude is given as the first coordinate. \n",
    "Therefore, we decided to split this function up in two other functions: `xyz2llh` which converts the Cartesian coordinates to latitude, longitude and height (in that order!), and `llh2coords` which forms the list of tuples *coords* needed for `simpleKML`."
   ]
  },
  {
   "cell_type": "code",
   "execution_count": null,
   "metadata": {},
   "outputs": [],
   "source": [
    "def xyz2coords(x):\n",
    "    \"\"\"Compute list of (longitude, latitude, height) tuples from Cartesian coordinates.\n",
    "    \"\"\"\n",
    "    lat, lon, height = xyz2llh(x)\n",
    "    coords = llh2coords(lat, lon, height)\n",
    "    \n",
    "    return coords\n",
    "\n",
    "def xyz2llh(x):\n",
    "    \"\"\"Compute latitude, longitude and height from Cartesian coordinates.\n",
    "\n",
    "    lat, lon, height = xyz2llh(x) computes the spherical latitude [deg], longitude [deg],\n",
    "    and height [m] from the array Cartesian coordinates X,Y,Z in x [m]. The cartesian \n",
    "    coordinates are given in an 2D numpy array x with X, Y and Z in the respective columns.\n",
    "    \"\"\"\n",
    "\n",
    "    Re = 6378136\n",
    "\n",
    "    R = np.sqrt(np.sum(x**2, axis=1))\n",
    "\n",
    "    lat = np.arcsin(x[:,2]/R) * 180/np.pi\n",
    "    lon = np.arctan2(x[:,1], x[:,0]) * 180/np.pi\n",
    "    height = R-Re\n",
    "    \n",
    "    return lat, lon, height\n",
    "\n",
    "def llh2coords(lat, lon, height):\n",
    "\n",
    "    if type(lat) in [int, float]:\n",
    "        lat = [lat]\n",
    "        lon = [lon]\n",
    "        height= [height]\n",
    "        \n",
    "    coords = []\n",
    "    for k in range(len(lon)):\n",
    "         coords.append((lon[k], lat[k], height[k]))\n",
    "    \n",
    "    return coords"
   ]
  },
  {
   "cell_type": "markdown",
   "metadata": {},
   "source": [
    "Let's try this code out using some simple examples."
   ]
  },
  {
   "cell_type": "code",
   "execution_count": null,
   "metadata": {
    "scrolled": true
   },
   "outputs": [],
   "source": [
    "lat = [ 52, 53, 54]\n",
    "lon = [ 4 , 5 ,6]\n",
    "height = [0, 1, -1]\n",
    "print(llh2coords(lat,lon,height))\n",
    "\n",
    "lat = np.array(lat)\n",
    "lon = np.array(lon)\n",
    "height = np.array(height)\n",
    "print(llh2coords(lat,lon,height))\n",
    "\n",
    "print(llh2coords(52., 4., .5))"
   ]
  },
  {
   "cell_type": "markdown",
   "metadata": {},
   "source": [
    "It works, let's do something more useful: we convert the Cartesian satellite coordinates in ECEF to a list of (lon, lat, height) tuples. \n",
    "\n",
    "We do this with a one-liner, the \"\\*\" means that we pass the output of xyz2llh to llh2coords by reference. This gives the same as using our wrapper function `xyz2coords`. "
   ]
  },
  {
   "cell_type": "code",
   "execution_count": null,
   "metadata": {
    "scrolled": true
   },
   "outputs": [],
   "source": [
    "coords = llh2coords( *xyz2llh(xsate) )\n",
    "print(coords)"
   ]
  },
  {
   "cell_type": "markdown",
   "metadata": {},
   "source": [
    "Try the wrapper function `xyz2coords` out yourself and check if it gives the same result."
   ]
  },
  {
   "cell_type": "code",
   "execution_count": null,
   "metadata": {},
   "outputs": [],
   "source": [
    "coords = xyz2coords(xsate)\n",
    "print(coords)"
   ]
  },
  {
   "cell_type": "markdown",
   "metadata": {},
   "source": [
    "## Our first KML file with Radarsat-2 orbits\n",
    "\n",
    "Let's make our first KML file with Radarsat-2 orbits. We also plot a marker at the campus in Delft. The code is actually quite simple...\n",
    "\n",
    "We save the KML to file, but also we print it to show what is in the file, but the idea is of course to view it in Google Earth."
   ]
  },
  {
   "cell_type": "code",
   "execution_count": null,
   "metadata": {
    "scrolled": true
   },
   "outputs": [],
   "source": [
    "coords = xyz2coords(xsate)\n",
    "\n",
    "kml = simplekml.Kml()\n",
    "pnt = kml.newpoint(name=\"Delft\", coords=[(4.374, 52.0, 0.0)])  # lon, lat, optional height\n",
    "pnt.description=\"The blue line, at Delft University of Technology campus.\"\n",
    "lin = kml.newlinestring(name=\"Radarsat-2\", description=\"Radarsat-2 track\",\n",
    "                        coords=coords)\n",
    "kml.save(\"Radarsat2-1.kml\")\n",
    "print(kml.kml())"
   ]
  },
  {
   "cell_type": "markdown",
   "metadata": {},
   "source": [
    "Open Google Earth with the kml file you just created.\n",
    "\n",
    "The result is not completely as expected, apparently the Radarsat-2 track is \"clamped to the ground\". Nice for plotting the ground tracks, but not as intended.\n",
    "Check this by going to places, right click on \"Radarsat-2\", and check out the Altitude properties. Is it indeed \"clamped to the ground\"? Try changing this in Google Earth to one of the other options. Which one do you have to use?\n",
    "\n",
    "You find in the same tab another option \"Extend path to the ground\". Try this out as well.\n",
    "\n",
    "The idea is nice to extend it to the ground, but the \"filling\" is not. This can be turned off by going to the \"Style, color\" tab, and select \"Outline\". Try this out. Another option is to change the opacity of the fill. \n",
    "\n",
    "There are a lot of style elements you can adjust. The general idea it to experiment until you are happy with the visual appearance, and then modify our code to obtain the same visual appearance programmatically.\n",
    "\n",
    "In the next cell we do some of these modification. Please feel free to experiment with this yourself..."
   ]
  },
  {
   "cell_type": "markdown",
   "metadata": {},
   "source": [
    "## Change styling and visual appearance\n",
    "\n",
    "There are a lot of options in `simpleKML` to adjust the styling. We are not going to discuss them. For this consult the documentation at https://simplekml.readthedocs.io/en/latest/.\n",
    "\n",
    "In the cell below we show how to do some of the changes we did before manually in Google Earth. We have also added the sub-satellite track (ground track) to the kml."
   ]
  },
  {
   "cell_type": "code",
   "execution_count": null,
   "metadata": {},
   "outputs": [],
   "source": [
    "kml = simplekml.Kml()\n",
    "pnt = kml.newpoint(name=\"Delft\", coords=[(4.374, 52.0, 0.0)])  # lon, lat, optional height\n",
    "pnt.description=\"The blue line, at Delft University of Technology campus.\"\n",
    "# satellite track\n",
    "sat = kml.newlinestring(name=\"Radarsat-2\", description=\"Radarsat-2 track\",\n",
    "                        coords=coords)\n",
    "sat.altitudemode = simplekml.AltitudeMode.absolute\n",
    "sat.extrude = 1 \n",
    "#lin.style.polystyle.fill = 0\n",
    "sat.style.polystyle.color = \"4dffffff\"\n",
    "# sub satellite track\n",
    "sub = kml.newlinestring(name=\"Radarsat-2 sub-satellite\", description=\"Radarsat-2 sub-satellite (ground) track\",\n",
    "                        coords=coords)\n",
    "sub.altitudemode = simplekml.AltitudeMode.clamptoground\n",
    "sub.style.linestyle.color = simplekml.Color.red\n",
    "kml.save(\"Radarsat2-2.kml\")"
   ]
  },
  {
   "cell_type": "markdown",
   "metadata": {},
   "source": [
    "I suggest you try out some other options as well yourself."
   ]
  },
  {
   "cell_type": "markdown",
   "metadata": {},
   "source": [
    "## Add timeslider to the KML\n",
    "\n",
    "In the final example we are going to add a timeslider to the KML. The idea is to show satellite links (as lines) between the satllite and our ground station in Delft.\n",
    "\n",
    "This is done by adding a new linestring for each link with a timestamp. First we copy the code from our previous example, remove the extrusion and the sub-satellite track, and then add a loop for adding the satellite links.\n",
    "\n",
    "Note that we added a KML folder to contain all the links (why we should do this?)."
   ]
  },
  {
   "cell_type": "code",
   "execution_count": null,
   "metadata": {},
   "outputs": [],
   "source": [
    "Delft = (4.374, 52.0, 0.0)\n",
    "\n",
    "kml = simplekml.Kml()\n",
    "pnt = kml.newpoint(name=\"Delft\", coords=[ Delft ])  # lon, lat, optional height\n",
    "pnt.description=\"The blue line, at Delft University of Technology campus.\"\n",
    "# satellite track (always visible)\n",
    "sat = kml.newlinestring(name=\"Radarsat-2\", description=\"Radarsat-2 track\",\n",
    "                        coords=coords)\n",
    "sat.altitudemode = simplekml.AltitudeMode.absolute\n",
    "sat.extrude = 0\n",
    "# loop to add the satellite links with a time-stamp\n",
    "fol = kml.newfolder(name='Radarsat-2 links')\n",
    "for k, coord in enumerate(coords):\n",
    "    isodate = crs.num2datetime(t[k]).isoformat()\n",
    "    link = fol.newlinestring(name=isodate, coords=[ coord, Delft])\n",
    "    link.timestamp.when = isodate\n",
    "    link.name = isodate\n",
    "    link.altitudemode = simplekml.AltitudeMode.absolute\n",
    "    link.extrude = 0\n",
    "    link.style.linestyle.color = simplekml.Color.red\n",
    "\n",
    "kml.save(\"Radarsat2-3.kml\")"
   ]
  },
  {
   "cell_type": "markdown",
   "metadata": {},
   "source": [
    "Did you notice that some of the links go through the Earth? \n",
    "\n",
    "Especially for longer simulations we might not want to display the link only when the satellite is visible from the ground station. This can be done using the output from `satlookanglesp` and adding an extra test inside the loop to only visualize links above a certain elevation cutoff.\n",
    "\n",
    "We leave this as an exercise to you."
   ]
  },
  {
   "cell_type": "code",
   "execution_count": null,
   "metadata": {},
   "outputs": [],
   "source": [
    "# Space for your own additions ... (and you may create more cells of course)"
   ]
  },
  {
   "cell_type": "markdown",
   "metadata": {},
   "source": [
    "## Exercise - show Sentinel-1A orbits in Google Earth Pro\n",
    "\n",
    "In this exercise you have to create a KMZ(KML) file to display Sentinel 1 orbits in Google Earth Pro.\n",
    "\n",
    "You may use this notebook as starting point. Either create a new notebook, or add your code to this one. Creating a new notebook is probably the cleanest approach. \n",
    "\n",
    "This is what you need to do:\n",
    "\n",
    "- plot Sentinel 1A orbits for 25 November 2020 in Google Earth (select a period yourself, or use different periods)\n",
    "- plot in Google Earth the Sentinel 1A orbits and observations from Delft for the same day, select only observations above 30 degrees elevation, and Right-looking (see also Exercise 5)\n",
    "\n",
    "This task requires the `tleplot.py`, `crsutil.py` and `simplekml` modules. You re-use some material from this notebook, but you may also have a look at `CIE4604_M2_Exercise5.ipynb` to reuse some material"
   ]
  },
  {
   "cell_type": "markdown",
   "metadata": {},
   "source": [
    "\\[End of this Jupyter notebook\\]"
   ]
  }
 ],
 "metadata": {
  "kernelspec": {
   "display_name": "Python 3",
   "language": "python",
   "name": "python3"
  },
  "language_info": {
   "codemirror_mode": {
    "name": "ipython",
    "version": 3
   },
   "file_extension": ".py",
   "mimetype": "text/x-python",
   "name": "python",
   "nbconvert_exporter": "python",
   "pygments_lexer": "ipython3",
   "version": "3.8.3"
  }
 },
 "nbformat": 4,
 "nbformat_minor": 4
}
