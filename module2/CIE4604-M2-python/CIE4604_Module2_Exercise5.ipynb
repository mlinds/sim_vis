{
 "cells": [
  {
   "cell_type": "markdown",
   "metadata": {},
   "source": [
    "#### CIE4604 Simulation and Visualization\n",
    "# Module 2 Satellite Orbits - Exercise 5\n",
    "\n",
    "**Hans van der Marel, 21 November 2020**\n",
    "\n",
    "In this exercise we compute the time of a satellite overpass. A satellite overpass time is defined as the time the satellite is at is closest to an observer during its pass. "
   ]
  },
  {
   "cell_type": "markdown",
   "metadata": {},
   "source": [
    "## Import crsutil.py and tleplot.py Python modules\n",
    "\n",
    "For the first time, download `CIE4604-M2-python.zip` from Brightspace and unzip this in your current working directory. This should give you two Python modules: `crsutil.py` and `tleplot.py`.\n",
    "\n",
    "For this Jupyter notebook to work, the two Python modules should be in the same folder as this notebook. Import the module, and some other things we need, using the following statements:"
   ]
  },
  {
   "cell_type": "code",
   "execution_count": null,
   "metadata": {},
   "outputs": [],
   "source": [
    "import numpy as np\n",
    "import crsutil as crs\n",
    "import tleplot as tle\n",
    "from scipy.interpolate import interp1d"
   ]
  },
  {
   "cell_type": "markdown",
   "metadata": {},
   "source": [
    "To get the docs for a specific function, use `help(functionname)`, or, to get the docs on all the functions at once do `help(module)`. To get help in a separate window type `module?` or `functionname?`. "
   ]
  },
  {
   "cell_type": "markdown",
   "metadata": {},
   "source": [
    "## Set user position\n",
    "\n",
    "The position of the observer (latitude, longitude and height) is given in ECEF using the array `objcrd` in degrees/meters.\n",
    "We convert this straightaway to Cartesian coordinates in an Earth Centered Earth Fixed (ECEF) frame.\n"
   ]
  },
  {
   "cell_type": "code",
   "execution_count": null,
   "metadata": {},
   "outputs": [],
   "source": [
    "# Specify station position (latitude, longitude, height) \n",
    "\n",
    "objcrd=[ 52, 4.8,  0 ]\n",
    "\n",
    "# Convert input to spherical coordinates in radians/meters\n",
    "\n",
    "Re = 6378136                     # [m]   radius of the Earth \n",
    "\n",
    "lat = objcrd[0] * np.pi/180      # convert latitude from degrees to radians\n",
    "lon = objcrd[1] * np.pi/180      # convert longitude from degrees to radians\n",
    "Rs = Re + objcrd[2]              # convert height to radius (from CoM) using mean Earth radius Re \n",
    "\n",
    "# Position of the observer in ECEF (assume latitude and longitude are for spherical Earth)\n",
    "\n",
    "xobje = Rs * np.array([[ np.cos(lat) * np.cos(lon), np.cos(lat) * np.sin(lon), np.sin(lat)]])\n",
    "vobje = np.array([[ 0, 0, 0]])"
   ]
  },
  {
   "cell_type": "markdown",
   "metadata": {},
   "source": [
    "## Compute satellite positions, lookangles and range-rate around time of overpass\n",
    "\n",
    "This computation should be quite familiar by now (if you done the previous exercises). To compute the look-angles and range-rate we have to convert all coordinates to the same system! We have chosen to do all our computations in ECEF.\n",
    "\n",
    "For the satellite positions we compute a period of 20 minutes for which we know that the satellite is near Delft (our station). Later we see how we can deal with this assumption and generalize the approach. "
   ]
  },
  {
   "cell_type": "code",
   "execution_count": null,
   "metadata": {
    "scrolled": true
   },
   "outputs": [],
   "source": [
    "# Read TLE from file (we use an existing file, so that we have prior knowledge about the dates)\n",
    "tleERS = tle.tleread('resource-10-oct-2017.tle', verbose=0)\n",
    "\n",
    "# Compute satellite positions in ECI\n",
    "t = tle.tledatenum(['2017-09-28 05:50:00',20,1])\n",
    "xsat, vsat = tle.tle2vec(tleERS, t, 'RADARSAT-2')\n",
    "\n",
    "# Convert ECI coordinate to ECEF\n",
    "xsate, vsate = crs.eci2ecef(t, xsat, vsat)\n",
    "\n",
    "# Compute lookangles and range-rate (range-rate is part of \"lookangles\")\n",
    "lookangles, flags = crs.satlookanglesp(t, np.hstack([xsate, vsate]), xobje, verbose=1)"
   ]
  },
  {
   "cell_type": "markdown",
   "metadata": {},
   "source": [
    "With the verbose option `satlookanglesp(...,verbose=1)` prints a nice table through a call to `prtlookangle`. \n",
    "\n",
    "Have a look at the range and range-rate that are printed. Around what time do you think the satellite is closest to the observer in Delft? What is the range-rate at this time?\n",
    "\n",
    "How many minutes is the satellite visible?"
   ]
  },
  {
   "cell_type": "markdown",
   "metadata": {},
   "source": [
    "## Find overpass time\n",
    "\n",
    "The satellite is at is closest to an observer when the range-rate is zero. In the previous section we computed a table with the lookangles, range and range-rate (8'th column of lookangles, with index 7). \n",
    "\n",
    "Then we find the time the range-rate is zero by interpolating the range-rates, for this we use the `scipy` function `interp1d` (which is the Matlab equivalent of interp1)"
   ]
  },
  {
   "cell_type": "code",
   "execution_count": null,
   "metadata": {},
   "outputs": [],
   "source": [
    "rangerate = lookangles[:,7]\n",
    "set_interp = interp1d(rangerate, t, kind='linear')   # Matlab statement t0=interp1(rangerate,t,0,'pchip');\n",
    "t0 = set_interp(0)\n",
    "\n",
    "print('t0',crs.num2datetime(t0).isoformat())\n",
    "\n",
    "t0 = np.array([t0])                                  # convert t0 to numpy array"
   ]
  },
  {
   "cell_type": "markdown",
   "metadata": {},
   "source": [
    "Recompute the position, velocity and lookangles at t0"
   ]
  },
  {
   "cell_type": "code",
   "execution_count": null,
   "metadata": {},
   "outputs": [],
   "source": [
    "xsat0, vsat0 = tle.tle2vec(tleERS, t0, 'RADARSAT-2')\n",
    "xsate0, vsate0 = crs.eci2ecef(t0, xsat0, vsat0)\n",
    "lookangles0, flags0 = crs.satlookanglesp(t0, np.hstack([xsate0, vsate0]), xobje, verbose=1)"
   ]
  },
  {
   "cell_type": "markdown",
   "metadata": {},
   "source": [
    "Are you happy with the result? \n",
    "\n",
    "Please note that the interpolation is quite unusual in the sense that the range-rate is the independent variable and we seek the time t, while often this is the other way round...\n",
    "\n",
    "We can improve the accuracy by reducing the interval to e.g. 6 seconds, as is shown below\n"
   ]
  },
  {
   "cell_type": "code",
   "execution_count": null,
   "metadata": {},
   "outputs": [],
   "source": [
    "# Compute satellite positions in ECI using a 6 second interval\n",
    "t = tle.tledatenum(['2017-09-28 05:50:00',20,0.1])\n",
    "xsat, vsat = tle.tle2vec(tleERS, t, 'RADARSAT-2')\n",
    "\n",
    "# Convert ECI coordinate to ECEF\n",
    "xsate, vsate = crs.eci2ecef(t, xsat, vsat)\n",
    "\n",
    "# Compute lookangles and range-rate (range-rate is part of \"lookangles\")\n",
    "lookangles, flags = crs.satlookanglesp(t, np.hstack([xsate, vsate]), xobje, verbose=0)\n",
    "\n",
    "# Interpolate within range-rate to find the time for zero range-rate\n",
    "rangerate = lookangles[:,7]\n",
    "set_interp = interp1d(rangerate, t, kind='linear')\n",
    "t0 = np.array([set_interp(0)])\n",
    "\n",
    "# Recompute the position, velocity and lookangles at t0\n",
    "xsat0, vsat0 = tle.tle2vec(tleERS, t0, 'RADARSAT-2')\n",
    "xsate0, vsate0 = crs.eci2ecef(t0, xsat0, vsat0)\n",
    "lookangles0, flags0 = crs.satlookanglesp(t0, np.hstack([xsate0, vsate0]), xobje, verbose=1)"
   ]
  },
  {
   "cell_type": "markdown",
   "metadata": {},
   "source": [
    "Happy now?\n",
    "\n",
    "Observe that the lookangle at the satellite, with respect to the flight direction (LookAngle FlightDir), towards our station is very close to 90 degrees (right looking). This is the case in a ECEF reference frame.\n",
    "\n",
    "In an ECI reference frame, as we have seen in other exercises, the heading of the satellite is not the same as in the ECEF reference frame. This is a consequence of the ECEF being a rotating frame, this affects the velocity vector, on which the heading depends. This also means that the FlighDir lookangle in an ECI reference frame and ECEF frame are not the same.\n",
    "\n",
    "We can illustrate this by recomputing the lookangles in an ECI reference frame..."
   ]
  },
  {
   "cell_type": "code",
   "execution_count": null,
   "metadata": {},
   "outputs": [],
   "source": [
    "# Convert station position from ECEF to ECI\n",
    "xobj0, vobj0 = crs.ecef2eci(t0, xobje, vobje) \n",
    "# Compute look-angles in ECI\n",
    "lookangles0b, flags0 = crs.satlookanglesp(t0, np.hstack([xsat0, vsat0]), np.hstack([xobj0, vobj0]), verbose=1)"
   ]
  },
  {
   "cell_type": "markdown",
   "metadata": {},
   "source": [
    "There is about a 2.5 degree difference between the two lookangles (LookAngle FlightDir) and the two headings! The other quantities are the same."
   ]
  },
  {
   "cell_type": "markdown",
   "metadata": {},
   "source": [
    "## Putting it together - without cheating\n",
    "\n",
    "In the previous sections we selected 20 minutes of data around a known\n",
    "overpass, which is a bit of cheating... However this is easy to overcome.\n",
    "\n",
    "The full algorithm would consist of the following steps\n",
    " \n",
    "1. Find from the table of satellite positions the time of all Doppler sign transitions, \n",
    "2. Select only times which meet the swath definition with a 10 degree margin, \n",
    "3. Compute zero-Doppler time using the outcome of the previous step as start point, using the procedure outlined in the previous sections.\n",
    "\n",
    "For the much needed variation, we will use SENTINEL-1A (instead of Radarsat) this time.\n",
    "\n",
    "SENTINEL-1A has a 12 day repeat, so first generate 12 days of data @ 5 sec interval ..."
   ]
  },
  {
   "cell_type": "code",
   "execution_count": null,
   "metadata": {},
   "outputs": [],
   "source": [
    "# Compute SENTINEL-1A satellite positions in ECI using a 5 second interval for a 12 day period, and convert to ECEF\n",
    "t = tle.tledatenum(['2017-10-10 00:00', 12*24*60, 1/12]) \n",
    "xsat, vsat = tle.tle2vec(tleERS, t, 'SENTINEL-1A')\n",
    "xsate, vsate = crs.eci2ecef(t, xsat, vsat)"
   ]
  },
  {
   "cell_type": "markdown",
   "metadata": {},
   "source": [
    "#### 1. Find from the table of satellite position the time of all Doppler sign transitions"
   ]
  },
  {
   "cell_type": "code",
   "execution_count": null,
   "metadata": {},
   "outputs": [],
   "source": [
    "# Compute lookangles and range-rate (range-rate is part of \"lookangles\")\n",
    "lookangles, flags = crs.satlookanglesp(t, np.hstack([xsate, vsate]), xobje, verbose=0)\n",
    "rangerate = lookangles[:,7]\n",
    "\n",
    "# Find all range rate (Doppler) sign transitions \n",
    "ipositive = rangerate > 0\n",
    "itransit = np.logical_xor(ipositive[0:-1], ipositive[1:])\n",
    "itransit =  np.concatenate(( [False], itransit))"
   ]
  },
  {
   "cell_type": "markdown",
   "metadata": {},
   "source": [
    "#### 2. Select only candidates which meet the swath definition with a marging of 10 degrees"
   ]
  },
  {
   "cell_type": "code",
   "execution_count": null,
   "metadata": {},
   "outputs": [],
   "source": [
    "# Select only incidence angles below 50 degrees\n",
    "itransit = np.logical_and( itransit, lookangles[:,0] < 50*np.pi/180 )\n",
    "# Print the candidates\n",
    "lookangles0, flags0 = crs.satlookanglesp(t[itransit], np.hstack([xsate[itransit,:], vsate[itransit,:]]), xobje, verbose=1)\n",
    "tcandidate=t[itransit]"
   ]
  },
  {
   "cell_type": "markdown",
   "metadata": {},
   "source": [
    "#### 3. Compute zero-Doppler time for each candidate"
   ]
  },
  {
   "cell_type": "code",
   "execution_count": null,
   "metadata": {},
   "outputs": [],
   "source": [
    "# refine the overpass times (using interpolation)\n",
    "t0=tcandidate\n",
    "idxtransit = np.nonzero(itransit)[0]\n",
    "for l in range(idxtransit.size):\n",
    "    k = idxtransit[l]\n",
    "    k1 = max(k-5,0)\n",
    "    k2 = min(k+5,itransit.size-1)\n",
    "    # Interpolate within range-rate to find the time for zero range-rate\n",
    "    set_interp = interp1d(rangerate[k1:k2], t[k1:k2], kind='linear')\n",
    "    t0[l] = np.array([set_interp(0)])\n",
    "\n",
    "# Recompute the position, velocity and lookangles at t0\n",
    "xsat0, vsat0 = tle.tle2vec(tleERS, tcandidate, 'SENTINEL-1A')\n",
    "xsate0, vsate0 = crs.eci2ecef(t0, xsat0, vsat0)\n",
    "lookangles0, flags0 = crs.satlookanglesp(t0, np.hstack([xsate0, vsate0]), xobje, verbose=1)"
   ]
  },
  {
   "cell_type": "markdown",
   "metadata": {},
   "source": [
    "In the real world we would add another test to single out only those Sentinel-1A passes that are within the satellite swath. This means for SENTINEL-1A\n",
    "\n",
    "- right-looking (RL), and,\n",
    "- incidence angle between *29.16* and *46.0* degrees.\n",
    "\n",
    "This is done with the following code using the previous computed lookangles"
   ]
  },
  {
   "cell_type": "code",
   "execution_count": null,
   "metadata": {},
   "outputs": [],
   "source": [
    "inswath = (lookangles0[:,0] < 46*np.pi/180) & (lookangles0[:,0] > 29.16*np.pi/180) & (lookangles0[:,4] < np.pi)\n",
    "lookanglesInSwath, flagsInSwath = crs.satlookanglesp(t0[inswath], np.hstack([xsate0[inswath,:], vsate0[inswath,:]]), \n",
    "                                                     xobje, verbose=1)"
   ]
  },
  {
   "cell_type": "markdown",
   "metadata": {},
   "source": [
    "This is our final answer!\n",
    "\n",
    "So for Sentinel-1A, Delft is observed four times during a repeat period of 12 days. On two ascending tracks, and on two descending tracks."
   ]
  },
  {
   "cell_type": "markdown",
   "metadata": {},
   "source": [
    "[End of this Jupyter notebook]"
   ]
  }
 ],
 "metadata": {
  "kernelspec": {
   "display_name": "Python 3",
   "language": "python",
   "name": "python3"
  },
  "language_info": {
   "codemirror_mode": {
    "name": "ipython",
    "version": 3
   },
   "file_extension": ".py",
   "mimetype": "text/x-python",
   "name": "python",
   "nbconvert_exporter": "python",
   "pygments_lexer": "ipython3",
   "version": "3.8.3"
  }
 },
 "nbformat": 4,
 "nbformat_minor": 4
}
