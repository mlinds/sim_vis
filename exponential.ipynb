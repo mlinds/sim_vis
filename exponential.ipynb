{
 "cells": [
  {
   "cell_type": "markdown",
   "metadata": {},
   "source": [
    "<h1>Demo of the inverse transform method</h1>\n",
    "\n",
    "<h2>CIE4604: Simulation and Visualisation</h2> \n",
    "\n",
    "Created:  November 2014 by Hans van der Marel<br>\n",
    "Updated:  November 2019 by Ullas Rajvanshi (converted the script in Python)<br>\n",
    "Updated:  November 2020 by Hans van der Marel (added some comments)<br>\n",
    "\n",
    "In this exercise the Inverse-transform method is demonstrated on the exponential distribution. The exponential function is characterized by the Cumulative Distribution Function (CDF)\n",
    "\n",
    "     F(x) = 1 - exp(-lambda * x)\n",
    "\n",
    "The inverse function is x = Finv(u). "
   ]
  },
  {
   "cell_type": "code",
   "execution_count": 1,
   "metadata": {},
   "outputs": [],
   "source": [
    "# importing libraries\n",
    "import numpy as np\n",
    "import matplotlib.pyplot as plt"
   ]
  },
  {
   "cell_type": "markdown",
   "metadata": {},
   "source": [
    "First, generate N_samples samples from U(0,1), we store these in the variable u"
   ]
  },
  {
   "cell_type": "code",
   "execution_count": 2,
   "metadata": {},
   "outputs": [],
   "source": [
    "N_samples = 10000\n",
    "u = np.random.rand(N_samples, 1)"
   ]
  },
  {
   "cell_type": "markdown",
   "metadata": {},
   "source": [
    "Secondly, compute the inverse function x = Finv(u) from the function u=F(x) using pen and paper. This goes as\n",
    "\n",
    "   u = 1 - exp( -lambda * x)   <=><br>\n",
    "   1 - u = exp( -lambda * x)   <=><br>\n",
    "   log( 1 - u) = - lambda * x   <=><br>\n",
    "   x = - ( 1 / lambda ) * log ( 1 - u)   <=><br>\n",
    "   x = - ( 1 / lambda ) * log ( u)<br>\n",
    "   \n",
    "Please note that 1-u also has U(0,1) distribution. Using 1-u or u makes no difference."
   ]
  },
  {
   "cell_type": "code",
   "execution_count": 3,
   "metadata": {},
   "outputs": [],
   "source": [
    "l = 0.25  # lambda is a reserved word?\n",
    "x = -(1 / l) * np.log(u)"
   ]
  },
  {
   "cell_type": "markdown",
   "metadata": {},
   "source": [
    "Since python doesn't have inbuilt histc function, we will create one using numpy.digitise"
   ]
  },
  {
   "cell_type": "code",
   "execution_count": 4,
   "metadata": {
    "scrolled": true
   },
   "outputs": [],
   "source": [
    "def histc(X, bins):\n",
    "    map_to_bins = np.digitize(X, bins)\n",
    "    r = np.zeros(bins.shape)\n",
    "    for i in map_to_bins:\n",
    "        r[i - 1] += 1\n",
    "    return [r, map_to_bins]"
   ]
  },
  {
   "cell_type": "markdown",
   "metadata": {},
   "source": [
    "Plot histogram of the simulated data"
   ]
  },
  {
   "cell_type": "code",
   "execution_count": 5,
   "metadata": {},
   "outputs": [
    {
     "data": {
      "image/png": "[encoded data removed]",
      "text/plain": [
       "<Figure size 864x360 with 1 Axes>"
      ]
     },
     "metadata": {
      "needs_background": "light"
     },
     "output_type": "display_data"
    }
   ],
   "source": [
    "# plot histogram\n",
    "plt.figure(figsize=(12, 5))\n",
    "binsize = 2\n",
    "Nx = histc(x, np.arange(0, 50, binsize))\n",
    "plt.bar(np.arange(0, 50, binsize), Nx[0] / (N_samples * binsize))\n",
    "plt.xlabel('x')\n",
    "plt.ylabel('Density')\n",
    "plt.title('Number of samples = %i' %N_samples)\n",
    "plt.show()"
   ]
  },
  {
   "cell_type": "markdown",
   "metadata": {},
   "source": [
    "Calculate mean and standard deviations based on simulated data"
   ]
  },
  {
   "cell_type": "code",
   "execution_count": 6,
   "metadata": {},
   "outputs": [
    {
     "name": "stdout",
     "output_type": "stream",
     "text": [
      "Mean is  4.0061522270371\n",
      "Variance is  16.98150410256573\n"
     ]
    }
   ],
   "source": [
    "# Computing and printing mean and variance\n",
    "print('Mean is ' ,x.mean())\n",
    "print('Variance is ', x.var())"
   ]
  },
  {
   "cell_type": "code",
   "execution_count": null,
   "metadata": {},
   "outputs": [],
   "source": []
  }
 ],
 "metadata": {
  "kernelspec": {
   "display_name": "Python 3",
   "language": "python",
   "name": "python3"
  },
  "language_info": {
   "codemirror_mode": {
    "name": "ipython",
    "version": 3
   },
   "file_extension": ".py",
   "mimetype": "text/x-python",
   "name": "python",
   "nbconvert_exporter": "python",
   "pygments_lexer": "ipython3",
   "version": "3.6.13"
  },
  "varInspector": {
   "cols": {
    "lenName": 16,
    "lenType": 16,
    "lenVar": 40
   },
   "kernels_config": {
    "python": {
     "delete_cmd_postfix": "",
     "delete_cmd_prefix": "del ",
     "library": "var_list.py",
     "varRefreshCmd": "print(var_dic_list())"
    },
    "r": {
     "delete_cmd_postfix": ") ",
     "delete_cmd_prefix": "rm(",
     "library": "var_list.r",
     "varRefreshCmd": "cat(var_dic_list()) "
    }
   },
   "types_to_exclude": [
    "module",
    "function",
    "builtin_function_or_method",
    "instance",
    "_Feature"
   ],
   "window_display": false
  },
  "widgets": {
   "application/vnd.jupyter.widget-state+json": {
    "state": {},
    "version_major": 2,
    "version_minor": 0
   }
  }
 },
 "nbformat": 4,
 "nbformat_minor": 4
}
