{
 "cells": [
  {
   "cell_type": "markdown",
   "metadata": {},
   "source": [
    "#### CIE4604 - Simulation and Visualisation\n",
    "\n",
    "# Assignment 3 - Time Series Analysis of Vegetation Index\n",
    "\n",
    "<br>\n",
    "\n",
    "**Student Name(s):** <br>\n",
    "**Student Number(s):**\n",
    "\n",
    "In this assignment we do a time series analysis of NDVI using the HANTS (Harmonic Analysis of Time Series) algorithm and visualize the results in Python and QGIS. \n",
    "\n",
    "For a description of the assignment consult the `CIE4604-A3-NDVI_HANTS.pdf` document.\n"
   ]
  },
  {
   "cell_type": "markdown",
   "metadata": {},
   "source": [
    "# Part I - Compute and Visualize NDVI in QGIS \n",
    "\n",
    "<div class=\"alert alert-block alert-info\">\n",
    "If you prefer, you may add the QGIS results of part I here. See CIE4604-A3-NDVI_HANTS.pdf a detailed description of the actions.\n",
    "</div>\n",
    "\n",
    "In your report (or here) include at least the following results: \n",
    "\n",
    "- Part I.a\n",
    "  - Layout with the two NDVI maps, side by side, using the same map scale, with titles, legend and scale bar. You have to choose an appropriate representation (colormap) for the NDVI data (your grade depends on this)\n",
    "  - A brief explanation on the method you used to extracted the data for the area of interest, with answers to the questions\n",
    "  - Your motivation for the chosen representation (colormap) for the NDVI data\n",
    "\n",
    "- Part I.b\n",
    "  -\tLayout with the categorized training dataset.\n",
    "  -\tScreenshot of the excel file with the attribute table \n",
    "\n",
    "Furthermore, include in the zip file accompanying the report,\n",
    "-\tThe excel file with attributes (including zonal statistics)\n",
    "-\tThe re-projected training dataset (you will also need this for Part II)\n",
    "\n"
   ]
  },
  {
   "cell_type": "markdown",
   "metadata": {},
   "source": [
    "# Part II - NDVI time series analysis with HANTS\n",
    "\n",
    "HANTS is a software using the Fourier Analysis in order to detect outliers (clouds) and reconstruct image time series.  \n",
    "The analysis is performed over Sector BXII, an agricultural area located close to Sevilla (Spain). \n",
    "Input data files for this script are:\n",
    "\n",
    "* `NDVI_BXII_time_series_2017_2018_S2A_SP.tif`  (Geotiff with NDVI time series)\n",
    "* `NDVI_BXII_time_series_images_list.csv`  (Csv-file with the date, day number and day of year for the images)\n",
    "\n",
    "Optional (non-required) input file(s) are:\n",
    "\n",
    "* ` Training_2017_UTM30N_WGS84_SP.shp`   (Training dataset)\n",
    "\n",
    "The actual HANTS algorithm is implemented in the Python function `hants.py`, see also `help(hants.py)`. \n",
    "\n",
    "<div class=\"alert alert-block alert-info\">\n",
    "This script is a template that you have to modify in places to obtain the desired results. Enter your answers as markdown.\n",
    "</div>\n"
   ]
  },
  {
   "cell_type": "code",
   "execution_count": null,
   "metadata": {},
   "outputs": [],
   "source": [
    "# Importing all the libraries required for this assignment\n",
    "import numpy as np\n",
    "import matplotlib.pyplot as plt\n",
    "import matplotlib.colorbar as colorbar\n",
    "import matplotlib.colors as colors\n",
    "import matplotlib.animation as animation\n",
    "import matplotlib as mpl\n",
    "import pandas as pd\n",
    "import rasterio\n",
    "import shapefile \n",
    "\n",
    "from scipy.io import loadmat\n",
    "from datetime import date, datetime\n",
    "from hants import hants"
   ]
  },
  {
   "cell_type": "markdown",
   "metadata": {},
   "source": [
    "### Load NDVI for Sector BXII, Sevilla, Spain\n",
    "\n",
    "The input files are:\n",
    "\n",
    "* `NDVI_BXII_time_series_2017_2018_S2A_SP.tif - geotiff with NDVI` \n",
    "* `NDVI_BXII_time_series_images_list.csv`  (Csv-file with the date, day number and day of year for the images)\n",
    "\n",
    "The code for reading these dataset was already developed in Exercise 4. The following variables are created\n",
    "\n",
    "* NDVI - 3-D array with dimensions [time, lat, lon] , i.e. NDVI[k,:,:] contains the k'th NDVI image at time ts[k] \n",
    "* ts, tsdoy, tsdatestring - 1-D arrays with respectively number of days since 12/04/2017 (ts), day of year (tsdoy) and datestrings (tsdatestring).\n",
    "\n",
    "You should definitely take a look at each variable to see what it is about."
   ]
  },
  {
   "cell_type": "code",
   "execution_count": null,
   "metadata": {},
   "outputs": [],
   "source": [
    "# set the filenames and filepath\n",
    "path = '../Assignment/input/'\n",
    "NDVIfile = 'NDVI_BXII_time_series_2017_2018_S2A_SP.tif'\n",
    "Datefile = 'NDVI_BXII_time_series_images_list.csv'"
   ]
  },
  {
   "cell_type": "code",
   "execution_count": null,
   "metadata": {},
   "outputs": [],
   "source": [
    "# open GeoTIFF dataset as an object \n",
    "src = rasterio.open(path + NDVIfile)\n",
    "\n",
    "# print meta data (selection)\n",
    "for key in src.meta:\n",
    "  print(key,': ',src.meta[key])\n",
    "\n",
    "print('\\nbounds',src.bounds)\n",
    "print('wkt',src.crs.wkt)\n",
    "\n",
    "# compute imshow extent\n",
    "extent = [ src.bounds.left ,  src.bounds.right ,  src.bounds.bottom ,  src.bounds.top ]\n",
    "print('extent',extent)\n",
    "\n",
    "# Read the image data\n",
    "NDVI = src.read()\n",
    "print('\\nNDVI shape',NDVI.shape)"
   ]
  },
  {
   "cell_type": "code",
   "execution_count": null,
   "metadata": {},
   "outputs": [],
   "source": [
    "# Read dates using Panda\n",
    "datetable = pd.read_csv(path + Datefile) \n",
    "\n",
    "# Preview the first 5 lines of the loaded dates \n",
    "datetable.head()\n",
    "\n",
    "# Preview the data types\n",
    "print(datetable.dtypes)\n",
    "\n",
    "# Convert to 1-D numpy arrays \n",
    "ts = np.array(datetable.Day) \n",
    "tsdatestrings = np.array(datetable.ISOdate)\n",
    "tsdoy = np.array(datetable.Doy)\n",
    "print('ts',ts)\n",
    "print('tsdatestrings',tsdatestrings)\n",
    "print('tsdoy',tsdoy)"
   ]
  },
  {
   "cell_type": "markdown",
   "metadata": {},
   "source": [
    "## Colormap selection\n",
    "\n",
    "To plot the NDVI for the first day we are going to use matplotlib's `imshow` method to make a pseudo-color map. A good colormap for the NDVI is essential! It is up to you to come up with a good colormap for the NDVI, taking into account the lessons learned from Exercise 1 and 2. You may also use your answer from Exercise 4 here (this is a repetition). \n",
    "\n",
    "Start by formulating the requirements for the color map. What kind of color map should we select? What is the range? Do we use a linear map, is it continuous or discrete, do we use two tones?  What kind of normalization are we going to use?\n",
    "In any case, the default color map is certainly not a good choice. Why?\n",
    "\n",
    "Have a look for instance at the following article  https://publiclab.org/notes/cfastie/08-26-2014/new-ndvi-colormap to get some inspiration."
   ]
  },
  {
   "cell_type": "markdown",
   "metadata": {},
   "source": [
    "<div class=\"alert alert-block alert-info\">\n",
    "Explain here your considerations for the colormap and the reasons for choice in markdown\n",
    "</div>\n"
   ]
  },
  {
   "cell_type": "markdown",
   "metadata": {},
   "source": [
    "In the section below set the `cmap` variable with the chosen colormap.\n",
    "\n",
    "In Python you can read the text file or `mat` file and create the colormap using `matplotlib.colors.ListedColormap`. See also Exercise 1 and 2.\n",
    "```python\n",
    "cmapTable = scipy.io.loadmat('file.mat')['colors']\n",
    "cmap = colors.ListedColormap(data/255)\n",
    "```\n",
    "You can then declare this new colormap in the `imshow` function by declaring the input as `cmap = cmap`"
   ]
  },
  {
   "cell_type": "code",
   "execution_count": null,
   "metadata": {},
   "outputs": [],
   "source": [
    "# SELECT APPROPRIATE COLORMAP FOR NDVI\n",
    "cmap = 'viridis'    # default colormap for matplotlib, change this for something better!!\n",
    "# END COLORMAP SELECTION\n",
    "clim = [-1 , 1]     # NDVI range"
   ]
  },
  {
   "cell_type": "markdown",
   "metadata": {},
   "source": [
    "## Pseudo color image plot of unfiltered NDVI for the first day\n",
    "\n",
    "To plot the NDVI for the first day we are going to use matplotlib's `imshow` method to make a pseudo-color map. \n",
    "Use the colormap that you selected above using the `cmap = cmap` optional parameter in `imshow`, together with 'clim' and 'extent'.\n",
    "\n",
    "The optional `extent` parameter is used to set the proper x- and y-axis coordinates. It is computed from the image bounds, while converting meter units to km."
   ]
  },
  {
   "cell_type": "code",
   "execution_count": null,
   "metadata": {},
   "outputs": [],
   "source": [
    "# Put your code here ((you may borrow it from Exercise 4)"
   ]
  },
  {
   "cell_type": "markdown",
   "metadata": {},
   "source": [
    "## Create a video with the unfiltered NDVI data\n",
    "\n",
    "A video is created showing the (unfiltered) NDVI data. We use `imshow` to  display matrix NDVI(i,:,:) as an image for day *i*, using the colormap of your choice (see previous section).\n",
    "\n",
    "The figure statement is called only once, imshow is called from within the loop over days, and the output is appended to the list of frames.\n",
    "\n",
    "There are two ways to display the animation from a notebook,\n",
    "\n",
    "- show the animation in a separate window using qt\n",
    "- show the animation inline usign html5\n",
    "\n",
    "You can also save the animation as either a mpeg file or an animated gif (both are commented out at the moment). The code is borrowed from Exercise 4."
   ]
  },
  {
   "cell_type": "code",
   "execution_count": null,
   "metadata": {},
   "outputs": [],
   "source": [
    "# Put your code here, you may borrow it from Exercise 4"
   ]
  },
  {
   "cell_type": "markdown",
   "metadata": {},
   "source": [
    "## Compute reconstructed time series using HANTS\n",
    "\n",
    "Inputs for HANTS are the times ts (days) and the NDVI time series for one pixel. For the other input parameters see the help that comes with HANTS."
   ]
  },
  {
   "cell_type": "code",
   "execution_count": null,
   "metadata": {},
   "outputs": [],
   "source": [
    "help(hants)"
   ]
  },
  {
   "cell_type": "markdown",
   "metadata": {},
   "source": [
    "Based on the help information define your HANTS input parameters below. Some are preset, others are left open."
   ]
  },
  {
   "cell_type": "code",
   "execution_count": null,
   "metadata": {},
   "outputs": [],
   "source": [
    "nb=           # length of the base period (usually one year) measured in timeunits of ts (number of days)\n",
    "nf=           # number of frequencies to be considered above the zero frequency ( 1 ... 6)\n",
    "fet=          # fit error tolerance (points deviating more than fet from curve fit are rejected, 0.05 ... 0.3)\n",
    "HiLo='Lo'     # 2-character string indicating rejection of high or low outliers ('Lo' or 'Hi')\n",
    "low=-1        # valid range minimum (values below are rejected right away)\n",
    "high=+1       # valid range maximum (values above are rejected right away)\n",
    "dod=1         # degree of overdeterminedness (iteration stops if number of points reaches the minimum required)\n",
    "delta=0.1     # small positive number (e.g. 0.1) to suppress high amplitudes\n"
   ]
  },
  {
   "cell_type": "markdown",
   "metadata": {},
   "source": [
    "Set the line and sample number of the pixel for which to apply HANTS.\n",
    "\n",
    "We will show you later how to find the line and sample numbers for specific pixel areas, e.g. one of the field in the training set."
   ]
  },
  {
   "cell_type": "code",
   "execution_count": null,
   "metadata": {},
   "outputs": [],
   "source": [
    "row = 348\n",
    "col = 299"
   ]
  },
  {
   "cell_type": "markdown",
   "metadata": {},
   "source": [
    "Do HANTS, first we have to extract the pixel data into the array datain. We use the Matlab function squeeze to do this, because NDVI is stored as a three dimensional array and we have to collect all values that belong to a single pixel. We use squeeze because NDVI[:,row,col] does not return an array, but a list, and squeeze will convert this list to an array.\n",
    "\n",
    "HANTS Outputs are:\n",
    "\n",
    "      amp   = array of amplitudes, first element is the average of the curve\n",
    "      phi   = array of phases, first element is zero\n",
    "      dataout\t= array holding reconstructed time series \n",
    "      outliers\t= boolean array with the outliers \n"
   ]
  },
  {
   "cell_type": "code",
   "execution_count": null,
   "metadata": {},
   "outputs": [],
   "source": [
    "ndates = NDVI.shape[0]\n",
    "datain = np.squeeze(NDVI[:, row, col])\n",
    "\n",
    "amp, phi, dataout, outliers = hants(ndates, nb, nf, datain, ts, HiLo, low, high, fet, dod, delta)\n",
    "\n",
    "print('amp',amp)\n",
    "print('phi',phi)\n",
    "print('dataout',dataout)\n",
    "print('outliers',outliers)\n",
    "numoutliers=np.sum(outliers)\n",
    "print('numoutliers',numoutliers)"
   ]
  },
  {
   "cell_type": "markdown",
   "metadata": {},
   "source": [
    "### Plot the original vs reconstructed time series"
   ]
  },
  {
   "cell_type": "code",
   "execution_count": null,
   "metadata": {
    "scrolled": false
   },
   "outputs": [],
   "source": [
    "%matplotlib inline\n",
    "plt.figure(figsize=(10,6))\n",
    "plt.plot(ts, datain, 'b*', label='Original NDVI')\n",
    "plt.plot(ts[outliers], datain[outliers], 'rx', markersize=10, markeredgewidth=3, label='Outlier NDVI')\n",
    "plt.plot(ts, dataout, 'r', label='Smoothed with HANTS')\n",
    "plt.xlim([1, 365])\n",
    "#plt.ylim([0, 1])\n",
    "plt.xlabel('Days from 12 April 2017')\n",
    "plt.ylabel('NDVI [-]')\n",
    "plt.title('NDVI - Sentinel 2 (row {}, column {})'.format(row, col));\n",
    "plt.text(6,0.77,'nb={}\\nnf={}\\nfet={}\\noutliers={}'.format(nb, nf, fet, numoutliers))\n",
    "plt.legend()\n",
    "plt.show()"
   ]
  },
  {
   "cell_type": "markdown",
   "metadata": {},
   "source": [
    "## Select suitable HANTS input parameters\n",
    "\n",
    "Use the above code as a template to select a suitable set of input parameters. \n",
    "You can try different values for the number of frequencies (nf) ,  base period (nb) and fit error tolerance.  \n",
    "\n",
    "You should at least\n",
    "\n",
    "- Plot the reconstructed vs the original  time series for two vegetated pixels characterized by different temporal trend (different crop growing cycles).\n",
    "- Plot the reconstructed vs the original  time series for different HANTS input parameters, but **ONLY GIVE RESULTS FOR A FEW SENSIBLE SELECTIONS** to underline your choice for the **frequency** and/or **error tolerance**.\n",
    "\n",
    "In the report, explain your choice for the base period (you don't have to show plots, there is only one good value for the base period), and include the plots for the chosen parameters. "
   ]
  },
  {
   "cell_type": "code",
   "execution_count": null,
   "metadata": {},
   "outputs": [],
   "source": [
    "# Add your plots here"
   ]
  },
  {
   "cell_type": "markdown",
   "metadata": {},
   "source": [
    "*[Add your explanation here]*"
   ]
  },
  {
   "cell_type": "markdown",
   "metadata": {},
   "source": [
    "## Apply HANTS for all pixels\n",
    "\n",
    "Apply the HANTS algorithm for all pixels, and save the amplitude, phase and reconstucted NDVI.\n",
    "<div class=\"alert alert-block alert-danger\">\n",
    "<b>THIS IS A VERY TIME CONSUMING PROCESS THAT MAY TAKE 15-30 MINUTES! SO ONLY DO THIS WHEN YOUR ARE SURE YOU GOT THE CORRECT PARAMETERS, OR TEST IT FIRST ON A SMALLER SAMPLE. </b>\n",
    "</div>\n"
   ]
  },
  {
   "cell_type": "code",
   "execution_count": null,
   "metadata": {},
   "outputs": [],
   "source": [
    "print('Smoothing and filling the missing data, please be patient ... ')\n",
    "\n",
    "# Initialize new arrays to collect the HANTS output\n",
    "ni, ny, nx = NDVI.shape\n",
    "NDVI_HANTS = np.zeros((ni, ny, nx))\n",
    "amp = np.zeros((nf + 1, ny, nx))\n",
    "phi = np.zeros((nf + 1, ny, nx))\n",
    "\n",
    "# Call HANTS in a double loop, line by line (SEE THE WARNING)\n",
    "#for row in range(0, 10): # use this for smaller sample\n",
    "for row in range(0, ny):\n",
    "    if ( row % 25 ) == 0: print(\"Doing line {} out of {}\".format(row, ny))  \n",
    "    for col in range(0, nx):\n",
    "        data = NDVI[:, row, col]\n",
    "        if np.isnan(data).sum() != ni:\n",
    "            data[np.isnan(data)] = low - 1.0\n",
    "            amp_, phi_, yr_, outlier_ = hants(ndates, nb, nf, data, ts, HiLo, low, high, fet, dod, delta)\n",
    "            amp[:, row, col], phi[:, row, col], NDVI_HANTS[:, row, col] = amp_, phi_, yr_\n",
    "\n",
    "print(\"Done with smoothing and filling\")"
   ]
  },
  {
   "cell_type": "markdown",
   "metadata": {},
   "source": [
    "## Save the results now!!\n",
    "\n",
    "<div class='alert alert-info'>\n",
    "Variables can be saved and loaded with the Spyder IDE. Do that for the newly computed results, so that for the follow on work you don't have to redo the time consuming processing every time. Here we will make use of pickle library to store the variables so that we can always reload them later.\n",
    "</div>"
   ]
  },
  {
   "cell_type": "code",
   "execution_count": null,
   "metadata": {},
   "outputs": [],
   "source": [
    "# Save important variables\n",
    "import pickle\n",
    "\n",
    "f = open('NDVIr.pckl', 'wb')\n",
    "pickle.dump([ts, tsdatestrings, extent, NDVI_HANTS, amp, phi], f)\n",
    "f.close()"
   ]
  },
  {
   "cell_type": "markdown",
   "metadata": {},
   "source": [
    "If the variables have to be reloaded you can use the following code."
   ]
  },
  {
   "cell_type": "code",
   "execution_count": null,
   "metadata": {},
   "outputs": [],
   "source": [
    "# ReLoad the variables\n",
    "# f = open('NDVIr.pckl', 'rb')\n",
    "# ts, tsdatestrings, extent, NDVI_HANTS, amp, phi = pickle.load(f)\n",
    "# f.close()"
   ]
  },
  {
   "cell_type": "markdown",
   "metadata": {},
   "source": [
    "## Write GeoTIFF files with reconstructed NDVI, amplitude and phase\n",
    "\n",
    "Three new GeoTIFF files are created, with\n",
    "\n",
    "- the reconstructed (smoothed) NDVI\n",
    "- the amplitude\n",
    "- the phase\n",
    "\n",
    "These files can easily be imported by other software such as QGIS."
   ]
  },
  {
   "cell_type": "code",
   "execution_count": null,
   "metadata": {},
   "outputs": [],
   "source": [
    "# Save reconstructed NDVI as GeoTiff file\n",
    "profile = src.profile\n",
    "with rasterio.open('NDVI_reconstructed.tif', 'w', **profile) as dst:\n",
    "    for id, layer in enumerate(NDVI_HANTS, 1):\n",
    "        dst.write_band(id, NDVI_HANTS[id - 1, :, :])\n",
    "\n",
    "# Save Amplitude as GeoTiff file\n",
    "profile = src.profile\n",
    "profile['count']=len(amp)\n",
    "with rasterio.open('NDVI_amplitude.tif', 'w', **profile) as dst:\n",
    "    for id, layer in enumerate(amp, 1):\n",
    "        dst.write_band(id, amp[id - 1, :, :])\n",
    "\n",
    "# Save Phase as GeoTiff file\n",
    "profile = src.profile\n",
    "profile['count']=len(phi)\n",
    "with rasterio.open('NDVI_phase.tif', 'w', **profile) as dst:\n",
    "    for id, layer in enumerate(phi, 1):\n",
    "        dst.write_band(id, phi[id - 1, :, :])\n",
    "        "
   ]
  },
  {
   "cell_type": "markdown",
   "metadata": {},
   "source": [
    "## Create a video of the reconstruced NDVI data\n",
    "\n",
    "Create a video showing the reconstructed NDVI data."
   ]
  },
  {
   "cell_type": "code",
   "execution_count": null,
   "metadata": {
    "scrolled": false
   },
   "outputs": [],
   "source": [
    "# Your code here\n"
   ]
  },
  {
   "cell_type": "markdown",
   "metadata": {},
   "source": [
    "Instead of an animation we can also create a lot of subplots using the code below."
   ]
  },
  {
   "cell_type": "code",
   "execution_count": null,
   "metadata": {},
   "outputs": [],
   "source": [
    "%matplotlib inline\n",
    "ndates = NDVI_HANTS.shape[0]\n",
    "\n",
    "ncols = 5\n",
    "nrows = int(np.ceil(ndates/ncols))\n",
    "\n",
    "fig, axs = plt.subplots(nrows, ncols, figsize=(21,27), tight_layout=True)\n",
    "axs= axs.flat\n",
    "[axi.set_axis_off() for axi in axs]\n",
    "\n",
    "for i in range(ndates):\n",
    "    titlestr = 'Reconstructed NDVI ' + tsdatestrings[i] + ' DAY ' + str(int(ts[i]))\n",
    "    axs[i].imshow(NDVI_HANTS[i, :, :], extent=extent, aspect='equal', cmap=cmap, clim=clim)\n",
    "    axs[i].set_xticks([])\n",
    "    axs[i].set_yticks([])\n",
    "    axs[i].set_title(titlestr)\n",
    "\n",
    "plt.show()"
   ]
  },
  {
   "cell_type": "markdown",
   "metadata": {},
   "source": [
    "## Plot amplitude and phase from HANTS\n",
    "\n",
    "Make a figure with in the subplots a pseudo color image of the amplitude and phase for each frequency. Please think carefully about the colormap to use.\n",
    "\n",
    "Which colormap do you use for the amplitude. Should the colormap for the phase be the same, or different. Please explain why.\n"
   ]
  },
  {
   "cell_type": "code",
   "execution_count": null,
   "metadata": {},
   "outputs": [],
   "source": [
    "# Your code here\n"
   ]
  },
  {
   "cell_type": "markdown",
   "metadata": {},
   "source": [
    "## Analyze the training dataset\n",
    "The training dataset is a shapefile with information on the actual crop that is growing in the fields. The original training dataset was in UTM zone 29N. We used QGIS to convert this to UTM zone 30N, which was is also the zone that is used for the NDVI data.\n",
    "\n",
    "First we must read the shape file with training data\n",
    "```python\n",
    "training = shapefile.Reader(\"Training_set/Training_2017_UTM30N_WGS84_SP.shp\")\n",
    "```"
   ]
  },
  {
   "cell_type": "code",
   "execution_count": null,
   "metadata": {},
   "outputs": [],
   "source": [
    "# Your code here"
   ]
  },
  {
   "cell_type": "markdown",
   "metadata": {},
   "source": [
    "The training dataset consists of 15 polygons. We will create an plot with the amplitude data and overlay the polygon boundaries."
   ]
  },
  {
   "cell_type": "code",
   "execution_count": null,
   "metadata": {},
   "outputs": [],
   "source": [
    "plt.figure(figsize=(12,8))\n",
    "for shape in training.shapeRecords():\n",
    "    x = [i[0]/1000 for i in shape.shape.points[:]]\n",
    "    y = [i[1]/1000 for i in shape.shape.points[:]]\n",
    "    plt.plot(x,y, color='yellow', linewidth=2)\n",
    "greys = mpl.cm.get_cmap('Greys_r')\n",
    "plt.imshow(amp[1, :, :], extent=extent, cmap=greys)\n",
    "plt.axis('image')\n",
    "plt.colorbar(label='Amplitude [-]')\n",
    "plt.ylabel('North [km]')\n",
    "plt.xlabel('East [km]')\n",
    "plt.title('NDVI Training set')\n",
    "plt.show()\n",
    "plt.show()"
   ]
  },
  {
   "cell_type": "markdown",
   "metadata": {},
   "source": [
    "# Part III -  Visualize HANTS output in QGIS  \n",
    "\n",
    "<div class=\"alert alert-block alert-info\">\n",
    "If you prefer, you may add the QGIS results of part III here.  See CIE4604-A3-NDVI_HANTS.pdf a detailed description of the actions.\n",
    "</div>"
   ]
  },
  {
   "cell_type": "markdown",
   "metadata": {},
   "source": [
    "[End of the assignment]"
   ]
  }
 ],
 "metadata": {
  "kernelspec": {
   "display_name": "Python 3",
   "language": "python",
   "name": "python3"
  },
  "language_info": {
   "codemirror_mode": {
    "name": "ipython",
    "version": 3
   },
   "file_extension": ".py",
   "mimetype": "text/x-python",
   "name": "python",
   "nbconvert_exporter": "python",
   "pygments_lexer": "ipython3",
   "version": "3.8.3"
  },
  "varInspector": {
   "cols": {
    "lenName": 16,
    "lenType": 16,
    "lenVar": 40
   },
   "kernels_config": {
    "python": {
     "delete_cmd_postfix": "",
     "delete_cmd_prefix": "del ",
     "library": "var_list.py",
     "varRefreshCmd": "print(var_dic_list())"
    },
    "r": {
     "delete_cmd_postfix": ") ",
     "delete_cmd_prefix": "rm(",
     "library": "var_list.r",
     "varRefreshCmd": "cat(var_dic_list()) "
    }
   },
   "types_to_exclude": [
    "module",
    "function",
    "builtin_function_or_method",
    "instance",
    "_Feature"
   ],
   "window_display": false
  }
 },
 "nbformat": 4,
 "nbformat_minor": 2
}
